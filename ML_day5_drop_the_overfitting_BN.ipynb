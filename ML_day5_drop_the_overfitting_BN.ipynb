{
  "nbformat": 4,
  "nbformat_minor": 0,
  "metadata": {
    "colab": {
      "name": "ML_day5_drop_the_overfitting_BN.ipynb",
      "provenance": [],
      "collapsed_sections": [],
      "authorship_tag": "ABX9TyP5xMEgVV/jcpfEP9TuAX10",
      "include_colab_link": true
    },
    "kernelspec": {
      "name": "python3",
      "display_name": "Python 3"
    },
    "accelerator": "GPU"
  },
  "cells": [
    {
      "cell_type": "markdown",
      "metadata": {
        "id": "view-in-github",
        "colab_type": "text"
      },
      "source": [
        "<a href=\"https://colab.research.google.com/github/keymemory/DYC_Machine_Learning/blob/main/ML_day5_drop_the_overfitting_BN.ipynb\" target=\"_parent\"><img src=\"https://colab.research.google.com/assets/colab-badge.svg\" alt=\"Open In Colab\"/></a>"
      ]
    },
    {
      "cell_type": "markdown",
      "metadata": {
        "id": "bBGmsEa3Q4Ny"
      },
      "source": [
        "데이터 준비하기"
      ]
    },
    {
      "cell_type": "code",
      "metadata": {
        "id": "NmtZnCk0QjGd",
        "outputId": "803c7754-6e43-4534-ebb9-94479a8aa9d1",
        "colab": {
          "base_uri": "https://localhost:8080/",
          "height": 70
        }
      },
      "source": [
        "from tensorflow.keras.datasets import cifar10\n",
        "import numpy as np\n",
        "\n",
        "#데이터 다운로드\n",
        "(x_train, y_train), (x_test, y_test) = cifar10.load_data()\n",
        "\n",
        "# 평균과 표준편차는 채널별로 구해줍니다.\n",
        "x_mean = np.mean(x_train, axis = (0, 1, 2))\n",
        "x_std = np.std(x_train, axis = (0, 1, 2))\n",
        "\n",
        "x_train = (x_train - x_mean) / x_std\n",
        "x_test = (x_test - x_mean) / x_std\n",
        "\n",
        "\n",
        "#학습데이터 검증 데이터 나누기\n",
        "from sklearn.model_selection import train_test_split\n",
        "\n",
        "x_train, x_val, y_train, y_val = train_test_split(x_train, y_train, test_size = 0.3)\n",
        "print('data ready~')\n"
      ],
      "execution_count": null,
      "outputs": [
        {
          "output_type": "stream",
          "text": [
            "Downloading data from https://www.cs.toronto.edu/~kriz/cifar-10-python.tar.gz\n",
            "170500096/170498071 [==============================] - 12s 0us/step\n",
            "data ready~\n"
          ],
          "name": "stdout"
        }
      ]
    },
    {
      "cell_type": "markdown",
      "metadata": {
        "id": "3fAPnjF-Q7I9"
      },
      "source": [
        "배치 정규화 사용하여 모델 구성"
      ]
    },
    {
      "cell_type": "code",
      "metadata": {
        "id": "iX2R8DUZQzkP"
      },
      "source": [
        "from tensorflow.keras.models import Sequential\n",
        "from tensorflow.keras.layers import Conv2D, MaxPool2D, Dense, Flatten, Activation, BatchNormalization\n",
        "from tensorflow.keras.optimizers import Adam\n",
        "\n",
        "model = Sequential()\n",
        "model.add(Conv2D(filters = 32, kernel_size = 3, padding = 'same', input_shape = (32, 32, 3)))\n",
        "model.add(BatchNormalization()) ##\n",
        "model.add(Activation('relu'))\n",
        "model.add(Conv2D(filters = 32, kernel_size = 3, padding = 'same'))\n",
        "model.add(BatchNormalization())\n",
        "model.add(Activation('relu'))\n",
        "model.add(MaxPool2D(pool_size = (2, 2), strides = 2, padding = 'same'))\n",
        "model.add(Conv2D(filters = 64, kernel_size = 3, padding = 'same'))\n",
        "model.add(BatchNormalization())\n",
        "model.add(Activation('relu'))\n",
        "model.add(Conv2D(filters = 64, kernel_size = 3, padding = 'same'))\n",
        "model.add(BatchNormalization())\n",
        "model.add(Activation('relu'))\n",
        "model.add(MaxPool2D(pool_size = (2, 2), strides = 2, padding = 'same'))\n",
        "model.add(Conv2D(filters = 128, kernel_size = 3, padding = 'same'))\n",
        "model.add(BatchNormalization())\n",
        "model.add(Activation('relu'))\n",
        "model.add(Conv2D(filters = 128, kernel_size = 3, padding = 'same'))\n",
        "model.add(BatchNormalization())\n",
        "model.add(Activation('relu'))\n",
        "model.add(MaxPool2D(pool_size = (2, 2), strides = 2, padding = 'same'))\n",
        "model.add(Flatten())\n",
        "model.add(Dense(256))\n",
        "model.add(BatchNormalization())\n",
        "model.add(Activation('relu'))\n",
        "model.add(Dense(10, activation = 'softmax'))\n"
      ],
      "execution_count": null,
      "outputs": []
    },
    {
      "cell_type": "code",
      "metadata": {
        "id": "OxjElBRyRYMZ"
      },
      "source": [
        "model.compile(optimizer = Adam(1e-4),\n",
        "             loss = 'sparse_categorical_crossentropy',\n",
        "             metrics = ['acc'])\n"
      ],
      "execution_count": null,
      "outputs": []
    },
    {
      "cell_type": "code",
      "metadata": {
        "id": "szgUN-HgRbGJ",
        "outputId": "e084c235-cca1-4446-8b4c-42ceba0f25e3",
        "colab": {
          "base_uri": "https://localhost:8080/",
          "height": 1000
        }
      },
      "source": [
        "history = model.fit(x_train, y_train,\n",
        "                    epochs = 30,\n",
        "                    batch_size = 32,\n",
        "                    validation_data = (x_val, y_val))\n"
      ],
      "execution_count": null,
      "outputs": [
        {
          "output_type": "stream",
          "text": [
            "Epoch 1/30\n",
            "1094/1094 [==============================] - 19s 17ms/step - loss: 1.4286 - acc: 0.4928 - val_loss: 1.1838 - val_acc: 0.5825\n",
            "Epoch 2/30\n",
            "1094/1094 [==============================] - 18s 17ms/step - loss: 0.9997 - acc: 0.6506 - val_loss: 1.0457 - val_acc: 0.6303\n",
            "Epoch 3/30\n",
            "1094/1094 [==============================] - 18s 17ms/step - loss: 0.7925 - acc: 0.7293 - val_loss: 1.0565 - val_acc: 0.6320\n",
            "Epoch 4/30\n",
            "1094/1094 [==============================] - 18s 17ms/step - loss: 0.6368 - acc: 0.7880 - val_loss: 0.9293 - val_acc: 0.6803\n",
            "Epoch 5/30\n",
            "1094/1094 [==============================] - 18s 17ms/step - loss: 0.5049 - acc: 0.8372 - val_loss: 0.9514 - val_acc: 0.6823\n",
            "Epoch 6/30\n",
            "1094/1094 [==============================] - 18s 17ms/step - loss: 0.3901 - acc: 0.8797 - val_loss: 0.9627 - val_acc: 0.6775\n",
            "Epoch 7/30\n",
            "1094/1094 [==============================] - 18s 17ms/step - loss: 0.2916 - acc: 0.9173 - val_loss: 0.9417 - val_acc: 0.6887\n",
            "Epoch 8/30\n",
            "1094/1094 [==============================] - 18s 17ms/step - loss: 0.2136 - acc: 0.9442 - val_loss: 0.9795 - val_acc: 0.6979\n",
            "Epoch 9/30\n",
            "1094/1094 [==============================] - 18s 17ms/step - loss: 0.1659 - acc: 0.9579 - val_loss: 1.0313 - val_acc: 0.6932\n",
            "Epoch 10/30\n",
            "1094/1094 [==============================] - 18s 17ms/step - loss: 0.1338 - acc: 0.9663 - val_loss: 1.0760 - val_acc: 0.6901\n",
            "Epoch 11/30\n",
            "1094/1094 [==============================] - 18s 17ms/step - loss: 0.1022 - acc: 0.9758 - val_loss: 1.2143 - val_acc: 0.6721\n",
            "Epoch 12/30\n",
            "1094/1094 [==============================] - 18s 17ms/step - loss: 0.0932 - acc: 0.9775 - val_loss: 1.2604 - val_acc: 0.6689\n",
            "Epoch 13/30\n",
            "1094/1094 [==============================] - 18s 17ms/step - loss: 0.0835 - acc: 0.9782 - val_loss: 1.2262 - val_acc: 0.6813\n",
            "Epoch 14/30\n",
            "1094/1094 [==============================] - 18s 17ms/step - loss: 0.0740 - acc: 0.9809 - val_loss: 1.2046 - val_acc: 0.6926\n",
            "Epoch 15/30\n",
            "1094/1094 [==============================] - 18s 17ms/step - loss: 0.0650 - acc: 0.9837 - val_loss: 1.3300 - val_acc: 0.6733\n",
            "Epoch 16/30\n",
            "1094/1094 [==============================] - 18s 16ms/step - loss: 0.0631 - acc: 0.9830 - val_loss: 1.3076 - val_acc: 0.6784\n",
            "Epoch 17/30\n",
            "1094/1094 [==============================] - 18s 17ms/step - loss: 0.0599 - acc: 0.9836 - val_loss: 1.3383 - val_acc: 0.6717\n",
            "Epoch 18/30\n",
            "1094/1094 [==============================] - 18s 17ms/step - loss: 0.0559 - acc: 0.9847 - val_loss: 1.3990 - val_acc: 0.6680\n",
            "Epoch 19/30\n",
            "1094/1094 [==============================] - 18s 16ms/step - loss: 0.0508 - acc: 0.9860 - val_loss: 1.4751 - val_acc: 0.6707\n",
            "Epoch 20/30\n",
            "1094/1094 [==============================] - 18s 16ms/step - loss: 0.0546 - acc: 0.9836 - val_loss: 1.4054 - val_acc: 0.6797\n",
            "Epoch 21/30\n",
            "1094/1094 [==============================] - 18s 17ms/step - loss: 0.0468 - acc: 0.9869 - val_loss: 1.5194 - val_acc: 0.6712\n",
            "Epoch 22/30\n",
            "1094/1094 [==============================] - 18s 17ms/step - loss: 0.0496 - acc: 0.9848 - val_loss: 1.4150 - val_acc: 0.6801\n",
            "Epoch 23/30\n",
            "1094/1094 [==============================] - 18s 17ms/step - loss: 0.0454 - acc: 0.9873 - val_loss: 1.5758 - val_acc: 0.6619\n",
            "Epoch 24/30\n",
            "1094/1094 [==============================] - 18s 17ms/step - loss: 0.0442 - acc: 0.9878 - val_loss: 1.3960 - val_acc: 0.6876\n",
            "Epoch 25/30\n",
            "1094/1094 [==============================] - 18s 17ms/step - loss: 0.0414 - acc: 0.9876 - val_loss: 1.4358 - val_acc: 0.6920\n",
            "Epoch 26/30\n",
            "1094/1094 [==============================] - 18s 17ms/step - loss: 0.0381 - acc: 0.9889 - val_loss: 1.4214 - val_acc: 0.6934\n",
            "Epoch 27/30\n",
            "1094/1094 [==============================] - 18s 17ms/step - loss: 0.0347 - acc: 0.9907 - val_loss: 1.5634 - val_acc: 0.6672\n",
            "Epoch 28/30\n",
            "1094/1094 [==============================] - 18s 17ms/step - loss: 0.0426 - acc: 0.9864 - val_loss: 1.4792 - val_acc: 0.6828\n",
            "Epoch 29/30\n",
            "1094/1094 [==============================] - 18s 17ms/step - loss: 0.0390 - acc: 0.9878 - val_loss: 1.5486 - val_acc: 0.6820\n",
            "Epoch 30/30\n",
            "1094/1094 [==============================] - 18s 17ms/step - loss: 0.0389 - acc: 0.9885 - val_loss: 1.5108 - val_acc: 0.6855\n"
          ],
          "name": "stdout"
        }
      ]
    },
    {
      "cell_type": "code",
      "metadata": {
        "id": "tpkCjqbARcqk",
        "outputId": "aaf6c5d6-6383-4ae5-e6ff-e4012d3b2439",
        "colab": {
          "base_uri": "https://localhost:8080/",
          "height": 350
        }
      },
      "source": [
        "import matplotlib.pyplot as plt\n",
        "\n",
        "his_dict = history.history\n",
        "loss = his_dict['loss']\n",
        "val_loss = his_dict['val_loss'] \n",
        "\n",
        "epochs = range(1, len(loss) + 1)\n",
        "fig = plt.figure(figsize = (10, 5))\n",
        "\n",
        "# 훈련 및 검증 손실 그리기\n",
        "ax1 = fig.add_subplot(1, 2, 1)\n",
        "ax1.plot(epochs, loss, color = 'blue', label = 'train_loss')\n",
        "ax1.plot(epochs, val_loss, color = 'orange', label = 'val_loss')\n",
        "ax1.set_title('train and val loss')\n",
        "ax1.set_xlabel('epochs')\n",
        "ax1.set_ylabel('loss')\n",
        "ax1.legend()\n",
        "\n",
        "acc = his_dict['acc']\n",
        "val_acc = his_dict['val_acc']\n",
        "\n",
        "# 훈련 및 검증 정확도 그리기\n",
        "ax2 = fig.add_subplot(1, 2, 2)\n",
        "ax2.plot(epochs, acc, color = 'blue', label = 'train_acc')\n",
        "ax2.plot(epochs, val_acc, color = 'orange', label = 'val_acc')\n",
        "ax2.set_title('train and val acc')\n",
        "ax2.set_xlabel('epochs')\n",
        "ax2.set_ylabel('acc')\n",
        "ax2.legend()\n",
        "\n",
        "plt.show()\n"
      ],
      "execution_count": null,
      "outputs": [
        {
          "output_type": "display_data",
          "data": {
            "image/png": "[encoded data removed]",
            "text/plain": [
              "<Figure size 720x360 with 2 Axes>"
            ]
          },
          "metadata": {
            "tags": [],
            "needs_background": "light"
          }
        }
      ]
    },
    {
      "cell_type": "code",
      "metadata": {
        "id": "1LZnyKOiTE6D",
        "outputId": "85673185-8a2d-4da2-e1e8-d648f2f8adf9",
        "colab": {
          "base_uri": "https://localhost:8080/",
          "height": 52
        }
      },
      "source": [
        "model.evaluate(x_test,y_test)\n"
      ],
      "execution_count": null,
      "outputs": [
        {
          "output_type": "stream",
          "text": [
            "313/313 [==============================] - 2s 7ms/step - loss: 1.5556 - acc: 0.6845\n"
          ],
          "name": "stdout"
        },
        {
          "output_type": "execute_result",
          "data": {
            "text/plain": [
              "[1.5556120872497559, 0.684499979019165]"
            ]
          },
          "metadata": {
            "tags": []
          },
          "execution_count": 6
        }
      ]
    },
    {
      "cell_type": "markdown",
      "metadata": {
        "id": "W04jDVC2UGLL"
      },
      "source": [
        "미적용 - loss: 1.8903 - acc: 0.7182\n",
        "\n",
        "규제화 - loss: 1.8032 - acc: 0.7247\n",
        "\n",
        "드롭 아웃 - loss: 0.8598 - acc: 0.7768\n",
        "\n",
        "배치 정규화 - loss: 1.4802 - acc: 0.6851"
      ]
    },
    {
      "cell_type": "markdown",
      "metadata": {
        "id": "Xu2eRdpYfFxM"
      },
      "source": [
        "이미지 제너레이터를 사용하여 모델 학습시키기 --> 새로 추가해서 테스트"
      ]
    },
    {
      "cell_type": "code",
      "metadata": {
        "id": "V3vDlt00fCXJ"
      },
      "source": [
        "from tensorflow.keras.preprocessing.image import ImageDataGenerator\n",
        "\n",
        "train_datagen = ImageDataGenerator(horizontal_flip = True,\n",
        "                                   zoom_range = 0.2,\n",
        "                                   width_shift_range = 0.1,\n",
        "                                   height_shift_range = 0.1,\n",
        "                                   rotation_range = 30,\n",
        "                                   fill_mode = 'nearest'\n",
        "                                  )\n",
        "\n",
        "val_datagen = ImageDataGenerator()\n",
        "\n",
        "batch_size = 32\n",
        "\n",
        "train_generator = train_datagen.flow(x_train, y_train,\n",
        "                                    batch_size = batch_size)\n",
        "val_generator = val_datagen.flow(x_val, y_val,\n",
        "                                batch_size = batch_size)\n",
        "\n",
        "\n",
        "def get_step(train_len, batch_size):\n",
        "    if(train_len % batch_size > 0):\n",
        "        return train_len // batch_size + 1\n",
        "    else:\n",
        "        return train_len // batch_size\n"
      ],
      "execution_count": null,
      "outputs": []
    },
    {
      "cell_type": "code",
      "metadata": {
        "id": "H4zyStTPfDIP",
        "outputId": "027a6936-14c0-40d5-b08a-feef4a62bb23",
        "colab": {
          "base_uri": "https://localhost:8080/",
          "height": 1000
        }
      },
      "source": [
        "history = model.fit(train_generator,\n",
        "                    epochs = 30,\n",
        "                    steps_per_epoch = get_step(len(x_train), batch_size),\n",
        "                    validation_data = val_generator,\n",
        "                    validation_steps = get_step(len(x_val), batch_size))\n"
      ],
      "execution_count": null,
      "outputs": [
        {
          "output_type": "stream",
          "text": [
            "Epoch 1/30\n",
            "1094/1094 [==============================] - 36s 33ms/step - loss: 1.4096 - acc: 0.5931 - val_loss: 1.0822 - val_acc: 0.6603\n",
            "Epoch 2/30\n",
            "1094/1094 [==============================] - 36s 33ms/step - loss: 1.0523 - acc: 0.6380 - val_loss: 0.8281 - val_acc: 0.7189\n",
            "Epoch 3/30\n",
            "1094/1094 [==============================] - 35s 32ms/step - loss: 0.9786 - acc: 0.6591 - val_loss: 0.9214 - val_acc: 0.6961\n",
            "Epoch 4/30\n",
            "1094/1094 [==============================] - 36s 33ms/step - loss: 0.9443 - acc: 0.6713 - val_loss: 0.7998 - val_acc: 0.7285\n",
            "Epoch 5/30\n",
            "1094/1094 [==============================] - 35s 32ms/step - loss: 0.9009 - acc: 0.6832 - val_loss: 0.8144 - val_acc: 0.7287\n",
            "Epoch 6/30\n",
            "1094/1094 [==============================] - 36s 33ms/step - loss: 0.8707 - acc: 0.6979 - val_loss: 0.7584 - val_acc: 0.7403\n",
            "Epoch 7/30\n",
            "1094/1094 [==============================] - 35s 32ms/step - loss: 0.8537 - acc: 0.7033 - val_loss: 0.7304 - val_acc: 0.7524\n",
            "Epoch 8/30\n",
            "1094/1094 [==============================] - 35s 32ms/step - loss: 0.8151 - acc: 0.7145 - val_loss: 0.8525 - val_acc: 0.7259\n",
            "Epoch 9/30\n",
            "1094/1094 [==============================] - 35s 32ms/step - loss: 0.8066 - acc: 0.7174 - val_loss: 0.7298 - val_acc: 0.7571\n",
            "Epoch 10/30\n",
            "1094/1094 [==============================] - 35s 32ms/step - loss: 0.7834 - acc: 0.7272 - val_loss: 0.7962 - val_acc: 0.7374\n",
            "Epoch 11/30\n",
            "1094/1094 [==============================] - 34s 31ms/step - loss: 0.7629 - acc: 0.7340 - val_loss: 0.7028 - val_acc: 0.7663\n",
            "Epoch 12/30\n",
            "1094/1094 [==============================] - 35s 32ms/step - loss: 0.7355 - acc: 0.7434 - val_loss: 0.7710 - val_acc: 0.7490\n",
            "Epoch 13/30\n",
            "1094/1094 [==============================] - 35s 32ms/step - loss: 0.7267 - acc: 0.7471 - val_loss: 0.6487 - val_acc: 0.7766\n",
            "Epoch 14/30\n",
            "1094/1094 [==============================] - 35s 32ms/step - loss: 0.7093 - acc: 0.7545 - val_loss: 0.6646 - val_acc: 0.7759\n",
            "Epoch 15/30\n",
            "1094/1094 [==============================] - 35s 32ms/step - loss: 0.6975 - acc: 0.7561 - val_loss: 0.7024 - val_acc: 0.7654\n",
            "Epoch 16/30\n",
            "1094/1094 [==============================] - 35s 32ms/step - loss: 0.6917 - acc: 0.7557 - val_loss: 0.6762 - val_acc: 0.7759\n",
            "Epoch 17/30\n",
            "1094/1094 [==============================] - 35s 32ms/step - loss: 0.6673 - acc: 0.7671 - val_loss: 0.6650 - val_acc: 0.7795\n",
            "Epoch 18/30\n",
            "1094/1094 [==============================] - 35s 32ms/step - loss: 0.6602 - acc: 0.7676 - val_loss: 0.6155 - val_acc: 0.7902\n",
            "Epoch 19/30\n",
            "1094/1094 [==============================] - 34s 31ms/step - loss: 0.6524 - acc: 0.7724 - val_loss: 0.6489 - val_acc: 0.7827\n",
            "Epoch 20/30\n",
            "1094/1094 [==============================] - 34s 31ms/step - loss: 0.6320 - acc: 0.7795 - val_loss: 0.6888 - val_acc: 0.7754\n",
            "Epoch 21/30\n",
            "1094/1094 [==============================] - 34s 32ms/step - loss: 0.6298 - acc: 0.7824 - val_loss: 0.5769 - val_acc: 0.8025\n",
            "Epoch 22/30\n",
            "1094/1094 [==============================] - 35s 32ms/step - loss: 0.6147 - acc: 0.7865 - val_loss: 0.5978 - val_acc: 0.8025\n",
            "Epoch 23/30\n",
            "1094/1094 [==============================] - 36s 33ms/step - loss: 0.6068 - acc: 0.7895 - val_loss: 0.5687 - val_acc: 0.8120\n",
            "Epoch 24/30\n",
            "1094/1094 [==============================] - 35s 32ms/step - loss: 0.5945 - acc: 0.7931 - val_loss: 0.5806 - val_acc: 0.8057\n",
            "Epoch 25/30\n",
            "1094/1094 [==============================] - 36s 33ms/step - loss: 0.5892 - acc: 0.7949 - val_loss: 0.5489 - val_acc: 0.8146\n",
            "Epoch 26/30\n",
            "1094/1094 [==============================] - 35s 32ms/step - loss: 0.5777 - acc: 0.7988 - val_loss: 0.5934 - val_acc: 0.8053\n",
            "Epoch 27/30\n",
            "1094/1094 [==============================] - 35s 32ms/step - loss: 0.5711 - acc: 0.8017 - val_loss: 0.6622 - val_acc: 0.7867\n",
            "Epoch 28/30\n",
            "1094/1094 [==============================] - 36s 32ms/step - loss: 0.5656 - acc: 0.8040 - val_loss: 0.5989 - val_acc: 0.8017\n",
            "Epoch 29/30\n",
            "1094/1094 [==============================] - 36s 33ms/step - loss: 0.5521 - acc: 0.8074 - val_loss: 0.5391 - val_acc: 0.8206\n",
            "Epoch 30/30\n",
            "1094/1094 [==============================] - 36s 33ms/step - loss: 0.5463 - acc: 0.8083 - val_loss: 0.5459 - val_acc: 0.8181\n"
          ],
          "name": "stdout"
        }
      ]
    },
    {
      "cell_type": "code",
      "metadata": {
        "id": "3wshl8HtfEwp",
        "outputId": "59eeae19-3743-4d7f-f5e4-1a588af83beb",
        "colab": {
          "base_uri": "https://localhost:8080/",
          "height": 350
        }
      },
      "source": [
        "import matplotlib.pyplot as plt\n",
        "\n",
        "his_dict = history.history\n",
        "loss = his_dict['loss']\n",
        "val_loss = his_dict['val_loss'] \n",
        "\n",
        "epochs = range(1, len(loss) + 1)\n",
        "fig = plt.figure(figsize = (10, 5))\n",
        "\n",
        "# 훈련 및 검증 손실 그리기\n",
        "ax1 = fig.add_subplot(1, 2, 1)\n",
        "ax1.plot(epochs, loss, color = 'blue', label = 'train_loss')\n",
        "ax1.plot(epochs, val_loss, color = 'orange', label = 'val_loss')\n",
        "ax1.set_title('train and val loss')\n",
        "ax1.set_xlabel('epochs')\n",
        "ax1.set_ylabel('loss')\n",
        "ax1.legend()\n",
        "\n",
        "acc = his_dict['acc']\n",
        "val_acc = his_dict['val_acc']\n",
        "\n",
        "# 훈련 및 검증 정확도 그리기\n",
        "ax2 = fig.add_subplot(1, 2, 2)\n",
        "ax2.plot(epochs, acc, color = 'blue', label = 'train_acc')\n",
        "ax2.plot(epochs, val_acc, color = 'orange', label = 'val_acc')\n",
        "ax2.set_title('train and val acc')\n",
        "ax2.set_xlabel('epochs')\n",
        "ax2.set_ylabel('acc')\n",
        "ax2.legend()\n",
        "\n",
        "plt.show()\n"
      ],
      "execution_count": null,
      "outputs": [
        {
          "output_type": "display_data",
          "data": {
            "image/png": "[encoded data removed]",
            "text/plain": [
              "<Figure size 720x360 with 2 Axes>"
            ]
          },
          "metadata": {
            "tags": [],
            "needs_background": "light"
          }
        }
      ]
    },
    {
      "cell_type": "code",
      "metadata": {
        "id": "EbWiYVa3jKET",
        "outputId": "51307f84-24a9-41c5-b262-84436528634f",
        "colab": {
          "base_uri": "https://localhost:8080/",
          "height": 52
        }
      },
      "source": [
        "model.evaluate(x_test,y_test)\n"
      ],
      "execution_count": null,
      "outputs": [
        {
          "output_type": "stream",
          "text": [
            "313/313 [==============================] - 2s 7ms/step - loss: 0.5744 - acc: 0.8110\n"
          ],
          "name": "stdout"
        },
        {
          "output_type": "execute_result",
          "data": {
            "text/plain": [
              "[0.5744458436965942, 0.8109999895095825]"
            ]
          },
          "metadata": {
            "tags": []
          },
          "execution_count": 10
        }
      ]
    },
    {
      "cell_type": "code",
      "metadata": {
        "id": "uWZt6jSMnJdZ"
      },
      "source": [
        ""
      ],
      "execution_count": null,
      "outputs": []
    }
  ]
}