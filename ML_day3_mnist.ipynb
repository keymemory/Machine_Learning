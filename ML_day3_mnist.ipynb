{
  "nbformat": 4,
  "nbformat_minor": 0,
  "metadata": {
    "colab": {
      "name": "ML_day3_mnist.ipynb",
      "provenance": [],
      "collapsed_sections": [],
      "authorship_tag": "ABX9TyNfz3wC9dO5eFjgIyNbBsG1",
      "include_colab_link": true
    },
    "kernelspec": {
      "name": "python3",
      "display_name": "Python 3"
    }
  },
  "cells": [
    {
      "cell_type": "markdown",
      "metadata": {
        "id": "view-in-github",
        "colab_type": "text"
      },
      "source": [
        "<a href=\"https://colab.research.google.com/github/keymemory/DYC_Machine_Learning/blob/main/ML_day3_mnist.ipynb\" target=\"_parent\"><img src=\"https://colab.research.google.com/assets/colab-badge.svg\" alt=\"Open In Colab\"/></a>"
      ]
    },
    {
      "cell_type": "markdown",
      "metadata": {
        "id": "_nS7yYiUDP3s"
      },
      "source": [
        "MNIST 데이터셋 다운로드"
      ]
    },
    {
      "cell_type": "code",
      "metadata": {
        "id": "G1RFvf97DRXG",
        "outputId": "69e97c75-6284-4e90-c612-817a2a364133",
        "colab": {
          "base_uri": "https://localhost:8080/",
          "height": 72
        }
      },
      "source": [
        "from tensorflow.keras.datasets.mnist import load_data\n",
        "\n",
        "# 텐서플로우 저장소에서 데이터를 다운받습니다.\n",
        "(x_train, y_train), (x_test, y_test) = load_data(path='mnist.npz')\n"
      ],
      "execution_count": null,
      "outputs": [
        {
          "output_type": "stream",
          "text": [
            "Downloading data from https://storage.googleapis.com/tensorflow/tf-keras-datasets/mnist.npz\n",
            "11493376/11490434 [==============================] - 0s 0us/step\n"
          ],
          "name": "stdout"
        }
      ]
    },
    {
      "cell_type": "markdown",
      "metadata": {
        "id": "_YeoZhtgEZCH"
      },
      "source": [
        "데이터의 형태 확인하기"
      ]
    },
    {
      "cell_type": "code",
      "metadata": {
        "id": "L1OxlR8WD0kp",
        "outputId": "1135f1a5-bea0-4bb5-b445-e401bf8a5739",
        "colab": {
          "base_uri": "https://localhost:8080/",
          "height": 87
        }
      },
      "source": [
        "# 훈련 데이터\n",
        "print(x_train.shape, y_train.shape)\n",
        "print(y_train)\n",
        "\n",
        "# 테스트 데이터\n",
        "print(x_test.shape, y_test.shape)\n",
        "print(y_test)\n"
      ],
      "execution_count": null,
      "outputs": [
        {
          "output_type": "stream",
          "text": [
            "(60000, 28, 28) (60000,)\n",
            "[5 0 4 ... 5 6 8]\n",
            "(10000, 28, 28) (10000,)\n",
            "[7 2 1 ... 4 5 6]\n"
          ],
          "name": "stdout"
        }
      ]
    },
    {
      "cell_type": "markdown",
      "metadata": {
        "id": "0U03Q1m7FC_3"
      },
      "source": [
        "데이터 그려보기"
      ]
    },
    {
      "cell_type": "code",
      "metadata": {
        "id": "aczcQas6EcRz",
        "outputId": "080d1ce7-c9b8-41aa-f32a-a3e322bb784f",
        "colab": {
          "base_uri": "https://localhost:8080/",
          "height": 809
        }
      },
      "source": [
        "import matplotlib.pyplot as plt\n",
        "import numpy as np\n",
        "np.random.seed(777)\n",
        "\n",
        "sample_size = 3\n",
        "# 0~59999의 범위에서 무작위로 3개의 정수를 뽑습니다.\n",
        "random_idx = np.random.randint(60000, size=sample_size) \n",
        "\n",
        "for idx in random_idx:\n",
        "    img = x_train[idx, :]\n",
        "    label = y_train[idx]\n",
        "    plt.figure()\n",
        "    plt.imshow(img)\n",
        "    plt.title('%d-th data, label is %d' % (idx,label))\n"
      ],
      "execution_count": null,
      "outputs": [
        {
          "output_type": "display_data",
          "data": {
            "image/png": "[encoded data removed]",
            "text/plain": [
              "<Figure size 432x288 with 1 Axes>"
            ]
          },
          "metadata": {
            "tags": [],
            "needs_background": "light"
          }
        },
        {
          "output_type": "display_data",
          "data": {
            "image/png": "[encoded data removed]",
            "text/plain": [
              "<Figure size 432x288 with 1 Axes>"
            ]
          },
          "metadata": {
            "tags": [],
            "needs_background": "light"
          }
        },
        {
          "output_type": "display_data",
          "data": {
            "image/png": "[encoded data removed]",
            "text/plain": [
              "<Figure size 432x288 with 1 Axes>"
            ]
          },
          "metadata": {
            "tags": [],
            "needs_background": "light"
          }
        }
      ]
    },
    {
      "cell_type": "markdown",
      "metadata": {
        "id": "WnIvQqk3HSP3"
      },
      "source": [
        "검증 데이터 만들기"
      ]
    },
    {
      "cell_type": "code",
      "metadata": {
        "id": "rXJrNaGzFFVg",
        "outputId": "b04d287f-c2f5-423d-b696-0df9fda5fd0e",
        "colab": {
          "base_uri": "https://localhost:8080/",
          "height": 52
        }
      },
      "source": [
        "from sklearn.model_selection import train_test_split\n",
        "\n",
        "# 훈련/테스트 데이터를 0.7/0.3의 비율로 분리합니다.\n",
        "x_train, x_val, y_train, y_val = train_test_split(x_train, y_train, \n",
        "                                                  test_size = 0.3, \n",
        "                                                  random_state = 777)\n",
        "print(f'훈련 데이터 {x_train.shape} 레이블 {y_train.shape}')\n",
        "print(f'검증 데이터 {x_val.shape} 레이블 {y_val.shape}')\n",
        "\n"
      ],
      "execution_count": null,
      "outputs": [
        {
          "output_type": "stream",
          "text": [
            "훈련 데이터 (42000, 28, 28) 레이블 (42000,)\n",
            "검증 데이터 (18000, 28, 28) 레이블 (18000,)\n"
          ],
          "name": "stdout"
        }
      ]
    },
    {
      "cell_type": "markdown",
      "metadata": {
        "id": "Q4uydkFaH0q3"
      },
      "source": [
        "모델 입력을 위한 전처리\n",
        "\n",
        "0 ~ 225 사이의 값을\n",
        "0 ~ 1 사이의 값으로 전처리\n",
        "\n",
        "제일 좋은 방법은 모든 값을 225로 나눠준다\n"
      ]
    },
    {
      "cell_type": "code",
      "metadata": {
        "id": "dv1rTxXpTxd-",
        "outputId": "5efc2ad1-fc7d-4c0b-f994-279ed26223a3",
        "colab": {
          "base_uri": "https://localhost:8080/",
          "height": 34
        }
      },
      "source": [
        "num_x_train = x_train.shape[0]\n",
        "num_x_val = x_val.shape[0]\n",
        "num_x_test = x_test.shape[0]\n",
        "\n",
        "# 모델의 입력으로 사용하기 위한 전처리 과정입니다.\n",
        "x_train = (x_train.reshape((num_x_train, 28 * 28))) / 255\n",
        "x_val = (x_val.reshape((num_x_val, 28 * 28))) / 255\n",
        "x_test = (x_test.reshape((num_x_test, 28 * 28))) / 255\n",
        "\n",
        "print(x_train.shape) # 모델 입력을 위해 데이터를 784차원으로 변경합니다\n"
      ],
      "execution_count": null,
      "outputs": [
        {
          "output_type": "stream",
          "text": [
            "(42000, 784)\n"
          ],
          "name": "stdout"
        }
      ]
    },
    {
      "cell_type": "code",
      "metadata": {
        "id": "wc3G_dHGNmkB",
        "outputId": "b856622c-b842-4f08-a6cb-4851d23b9a22",
        "colab": {
          "base_uri": "https://localhost:8080/",
          "height": 140
        }
      },
      "source": [
        "from tensorflow.keras.utils import to_categorical\n",
        "\n",
        "# 각 데이터의 레이블을 범주형 형태로 변경합니다.\n",
        "y_train = to_categorical(y_train)\n",
        "y_val = to_categorical(y_val)\n",
        "y_test = to_categorical(y_test)\n",
        "\n",
        "print(y_train)\n"
      ],
      "execution_count": null,
      "outputs": [
        {
          "output_type": "stream",
          "text": [
            "[[0. 0. 1. ... 0. 0. 0.]\n",
            " [0. 0. 0. ... 1. 0. 0.]\n",
            " [0. 0. 0. ... 0. 0. 0.]\n",
            " ...\n",
            " [0. 0. 0. ... 0. 0. 0.]\n",
            " [0. 0. 0. ... 0. 0. 0.]\n",
            " [0. 0. 0. ... 0. 0. 0.]]\n"
          ],
          "name": "stdout"
        }
      ]
    },
    {
      "cell_type": "markdown",
      "metadata": {
        "id": "wKZ6IQXdNh5R"
      },
      "source": [
        "모델 구성하기"
      ]
    },
    {
      "cell_type": "code",
      "metadata": {
        "id": "Zz_wvjFlHgIC"
      },
      "source": [
        "from tensorflow.keras.models import Sequential\n",
        "from tensorflow.keras.layers import Dense\n",
        "\n",
        "model = Sequential()\n",
        "# 입력 데이터의 형태를 꼭 명시해야 합니다.\n",
        "# 784차원의 데이터를 입력으로 받고, 64개의 출력을 가지는 첫 번째 Dense 층\n",
        "model.add(Dense(64, activation = 'relu', input_shape = (784, )))\n",
        "model.add(Dense(32, activation = 'relu')) # 32개의 출력을 가지는 Dense 층\n",
        "model.add(Dense(10, activation = 'softmax')) # 10개의 출력을 가지는 신경망\n",
        "\n"
      ],
      "execution_count": null,
      "outputs": []
    },
    {
      "cell_type": "markdown",
      "metadata": {
        "id": "kB-wSt2lQJFf"
      },
      "source": [
        "소프트맥스와 시그모이드 값의 비교 - 예제\n"
      ]
    },
    {
      "cell_type": "code",
      "metadata": {
        "id": "draW3BLrNqOF",
        "outputId": "6e951fdf-d56a-42b7-bb14-1fff733f7421",
        "colab": {
          "base_uri": "https://localhost:8080/",
          "height": 52
        }
      },
      "source": [
        "import numpy as np\n",
        "# 소프트맥스 함수\n",
        "def softmax(arr):\n",
        "    m = np.max(arr)\n",
        "    arr = arr - m # exp의 오버플로우 방지\n",
        "    arr = np.exp(arr)\n",
        "    return arr / np.sum(arr)\n",
        "\n",
        "# 시그모이드 함수\n",
        "def sigmoid(x):\n",
        "    return 1 / (1 + np.exp(-x))\n",
        "\n",
        "case_1 = np.array([3.1, 3.0, 2.9])\n",
        "case_2 = np.array([2.0, 1.0, 0.7])\n",
        "\n",
        "np.set_printoptions(precision=3) # numpy 소수점 제한\n",
        "print(f'sigmoid {sigmoid(case_1)}, softmax {softmax(case_1)}')\n",
        "print(f'sigmoid {sigmoid(case_2)}, softmax {softmax(case_2)}')\n"
      ],
      "execution_count": null,
      "outputs": [
        {
          "output_type": "stream",
          "text": [
            "sigmoid [0.957 0.953 0.948], softmax [0.367 0.332 0.301]\n",
            "sigmoid [0.881 0.731 0.668], softmax [0.61  0.224 0.166]\n"
          ],
          "name": "stdout"
        }
      ]
    },
    {
      "cell_type": "markdown",
      "metadata": {
        "id": "XRv5SWK9TJOF"
      },
      "source": [
        "학습과정 실행하기"
      ]
    },
    {
      "cell_type": "code",
      "metadata": {
        "id": "niDLCd2sR-m4"
      },
      "source": [
        "model.compile(optimizer='adam', # 옵티마이저 : Adam\n",
        "              loss = 'categorical_crossentropy', # 손실 함수 : categorical_crossentropy\n",
        "              metrics=['acc']) # 모니터링 할 평가지표 : acc\n"
      ],
      "execution_count": null,
      "outputs": []
    },
    {
      "cell_type": "markdown",
      "metadata": {
        "id": "QeznFSckR_gd"
      },
      "source": [
        "모델 학습 시키기"
      ]
    },
    {
      "cell_type": "code",
      "metadata": {
        "id": "ivEo7xUVQN6l",
        "outputId": "176bcc54-4b75-438d-a90c-8a5095c3a039",
        "colab": {
          "base_uri": "https://localhost:8080/",
          "height": 1000
        }
      },
      "source": [
        "history = model.fit(x_train, y_train, \n",
        "                    epochs = 30, \n",
        "                    batch_size = 128, # 배치 사이즈가 줄어들면 학습 크기가 늘어난다\n",
        "                    validation_data = (x_val, y_val))\n"
      ],
      "execution_count": null,
      "outputs": [
        {
          "output_type": "stream",
          "text": [
            "Epoch 1/30\n",
            "329/329 [==============================] - 1s 4ms/step - loss: 0.5112 - acc: 0.8571 - val_loss: 0.2556 - val_acc: 0.9278\n",
            "Epoch 2/30\n",
            "329/329 [==============================] - 1s 3ms/step - loss: 0.2129 - acc: 0.9396 - val_loss: 0.1932 - val_acc: 0.9439\n",
            "Epoch 3/30\n",
            "329/329 [==============================] - 1s 3ms/step - loss: 0.1634 - acc: 0.9511 - val_loss: 0.1676 - val_acc: 0.9518\n",
            "Epoch 4/30\n",
            "329/329 [==============================] - 1s 3ms/step - loss: 0.1344 - acc: 0.9610 - val_loss: 0.1504 - val_acc: 0.9564\n",
            "Epoch 5/30\n",
            "329/329 [==============================] - 1s 3ms/step - loss: 0.1130 - acc: 0.9667 - val_loss: 0.1397 - val_acc: 0.9588\n",
            "Epoch 6/30\n",
            "329/329 [==============================] - 1s 3ms/step - loss: 0.0967 - acc: 0.9719 - val_loss: 0.1271 - val_acc: 0.9621\n",
            "Epoch 7/30\n",
            "329/329 [==============================] - 1s 3ms/step - loss: 0.0846 - acc: 0.9755 - val_loss: 0.1254 - val_acc: 0.9617\n",
            "Epoch 8/30\n",
            "329/329 [==============================] - 1s 3ms/step - loss: 0.0750 - acc: 0.9781 - val_loss: 0.1186 - val_acc: 0.9650\n",
            "Epoch 9/30\n",
            "329/329 [==============================] - 1s 3ms/step - loss: 0.0645 - acc: 0.9808 - val_loss: 0.1178 - val_acc: 0.9643\n",
            "Epoch 10/30\n",
            "329/329 [==============================] - 1s 3ms/step - loss: 0.0577 - acc: 0.9829 - val_loss: 0.1116 - val_acc: 0.9661\n",
            "Epoch 11/30\n",
            "329/329 [==============================] - 1s 3ms/step - loss: 0.0522 - acc: 0.9840 - val_loss: 0.1166 - val_acc: 0.9659\n",
            "Epoch 12/30\n",
            "329/329 [==============================] - 1s 3ms/step - loss: 0.0455 - acc: 0.9869 - val_loss: 0.1142 - val_acc: 0.9662\n",
            "Epoch 13/30\n",
            "329/329 [==============================] - 1s 3ms/step - loss: 0.0399 - acc: 0.9881 - val_loss: 0.1076 - val_acc: 0.9683\n",
            "Epoch 14/30\n",
            "329/329 [==============================] - 1s 3ms/step - loss: 0.0347 - acc: 0.9896 - val_loss: 0.1086 - val_acc: 0.9690\n",
            "Epoch 15/30\n",
            "329/329 [==============================] - 1s 3ms/step - loss: 0.0303 - acc: 0.9914 - val_loss: 0.1117 - val_acc: 0.9684\n",
            "Epoch 16/30\n",
            "329/329 [==============================] - 1s 3ms/step - loss: 0.0267 - acc: 0.9924 - val_loss: 0.1159 - val_acc: 0.9674\n",
            "Epoch 17/30\n",
            "329/329 [==============================] - 1s 3ms/step - loss: 0.0242 - acc: 0.9929 - val_loss: 0.1131 - val_acc: 0.9692\n",
            "Epoch 18/30\n",
            "329/329 [==============================] - 1s 3ms/step - loss: 0.0219 - acc: 0.9940 - val_loss: 0.1127 - val_acc: 0.9694\n",
            "Epoch 19/30\n",
            "329/329 [==============================] - 1s 3ms/step - loss: 0.0190 - acc: 0.9949 - val_loss: 0.1163 - val_acc: 0.9685\n",
            "Epoch 20/30\n",
            "329/329 [==============================] - 1s 3ms/step - loss: 0.0151 - acc: 0.9963 - val_loss: 0.1118 - val_acc: 0.9705\n",
            "Epoch 21/30\n",
            "329/329 [==============================] - 1s 3ms/step - loss: 0.0131 - acc: 0.9967 - val_loss: 0.1173 - val_acc: 0.9693\n",
            "Epoch 22/30\n",
            "329/329 [==============================] - 1s 3ms/step - loss: 0.0146 - acc: 0.9961 - val_loss: 0.1196 - val_acc: 0.9695\n",
            "Epoch 23/30\n",
            "329/329 [==============================] - 1s 3ms/step - loss: 0.0110 - acc: 0.9977 - val_loss: 0.1243 - val_acc: 0.9685\n",
            "Epoch 24/30\n",
            "329/329 [==============================] - 1s 3ms/step - loss: 0.0106 - acc: 0.9972 - val_loss: 0.1254 - val_acc: 0.9688\n",
            "Epoch 25/30\n",
            "329/329 [==============================] - 1s 3ms/step - loss: 0.0099 - acc: 0.9977 - val_loss: 0.1299 - val_acc: 0.9694\n",
            "Epoch 26/30\n",
            "329/329 [==============================] - 1s 3ms/step - loss: 0.0085 - acc: 0.9980 - val_loss: 0.1400 - val_acc: 0.9683\n",
            "Epoch 27/30\n",
            "329/329 [==============================] - 1s 3ms/step - loss: 0.0070 - acc: 0.9988 - val_loss: 0.1349 - val_acc: 0.9699\n",
            "Epoch 28/30\n",
            "329/329 [==============================] - 1s 3ms/step - loss: 0.0073 - acc: 0.9981 - val_loss: 0.1568 - val_acc: 0.9677\n",
            "Epoch 29/30\n",
            "329/329 [==============================] - 1s 3ms/step - loss: 0.0104 - acc: 0.9972 - val_loss: 0.1424 - val_acc: 0.9685\n",
            "Epoch 30/30\n",
            "329/329 [==============================] - 1s 3ms/step - loss: 0.0049 - acc: 0.9990 - val_loss: 0.1400 - val_acc: 0.9713\n"
          ],
          "name": "stdout"
        }
      ]
    },
    {
      "cell_type": "markdown",
      "metadata": {
        "id": "KTuWn01KU_RG"
      },
      "source": [
        "history를 통해 확인해볼 수 있는 값 출력하기\n"
      ]
    },
    {
      "cell_type": "code",
      "metadata": {
        "id": "pz4RmQlNRB1G",
        "outputId": "dec3caba-02c2-4491-d52e-b9ee4e551ee0",
        "colab": {
          "base_uri": "https://localhost:8080/",
          "height": 34
        }
      },
      "source": [
        "history.history.keys()\n"
      ],
      "execution_count": null,
      "outputs": [
        {
          "output_type": "execute_result",
          "data": {
            "text/plain": [
              "dict_keys(['loss', 'acc', 'val_loss', 'val_acc'])"
            ]
          },
          "metadata": {
            "tags": []
          },
          "execution_count": 9
        }
      ]
    },
    {
      "cell_type": "markdown",
      "metadata": {
        "id": "_QAWK_I8VZdc"
      },
      "source": [
        "학습 결과 그려보기"
      ]
    },
    {
      "cell_type": "code",
      "metadata": {
        "id": "VWRXMeV1VQiy",
        "outputId": "cdddbdb5-f0bc-412c-f014-27b97ca601fd",
        "colab": {
          "base_uri": "https://localhost:8080/",
          "height": 350
        }
      },
      "source": [
        "import matplotlib.pyplot as plt\n",
        "\n",
        "his_dict = history.history\n",
        "loss = his_dict['loss']\n",
        "val_loss = his_dict['val_loss'] # 검증 데이터가 있는 경우 ‘val_’ 수식어가 붙습니다.\n",
        "\n",
        "epochs = range(1, len(loss) + 1)\n",
        "fig = plt.figure(figsize = (10, 5))\n",
        "\n",
        "# 훈련 및 검증 손실 그리기\n",
        "ax1 = fig.add_subplot(1, 2, 1)\n",
        "ax1.plot(epochs, loss, color = 'blue', label = 'train_loss')\n",
        "ax1.plot(epochs, val_loss, color = 'orange', label = 'val_loss')\n",
        "ax1.set_title('train and val loss')\n",
        "ax1.set_xlabel('epochs')\n",
        "ax1.set_ylabel('loss')\n",
        "ax1.legend()\n",
        "\n",
        "acc = his_dict['acc']\n",
        "val_acc = his_dict['val_acc']\n",
        "\n",
        "# 훈련 및 검증 정확도 그리기\n",
        "ax2 = fig.add_subplot(1, 2, 2)\n",
        "ax2.plot(epochs, acc, color = 'blue', label = 'train_acc')\n",
        "ax2.plot(epochs, val_acc, color = 'orange', label = 'val_acc')\n",
        "ax2.set_title('train and val acc')\n",
        "ax2.set_xlabel('epochs')\n",
        "ax2.set_ylabel('loss')\n",
        "ax2.legend()\n",
        "\n",
        "plt.show()\n"
      ],
      "execution_count": null,
      "outputs": [
        {
          "output_type": "display_data",
          "data": {
            "image/png": "[encoded data removed]",
            "text/plain": [
              "<Figure size 720x360 with 2 Axes>"
            ]
          },
          "metadata": {
            "tags": [],
            "needs_background": "light"
          }
        }
      ]
    },
    {
      "cell_type": "markdown",
      "metadata": {
        "id": "qNpoyIeuW3cG"
      },
      "source": [
        "모델 평가"
      ]
    },
    {
      "cell_type": "code",
      "metadata": {
        "id": "Tc9FU3WkW3rV",
        "outputId": "76ffd1d2-dbf1-463f-fe78-11fa2dfe6287",
        "colab": {
          "base_uri": "https://localhost:8080/",
          "height": 52
        }
      },
      "source": [
        "model.evaluate(x_test, y_test)"
      ],
      "execution_count": null,
      "outputs": [
        {
          "output_type": "stream",
          "text": [
            "313/313 [==============================] - 0s 1ms/step - loss: 0.1435 - acc: 0.9706\n"
          ],
          "name": "stdout"
        },
        {
          "output_type": "execute_result",
          "data": {
            "text/plain": [
              "[0.1435462087392807, 0.9706000089645386]"
            ]
          },
          "metadata": {
            "tags": []
          },
          "execution_count": 12
        }
      ]
    },
    {
      "cell_type": "markdown",
      "metadata": {
        "id": "4pdChwbXWhkd"
      },
      "source": [
        "학습된 모델을 통해 값 예측하기"
      ]
    },
    {
      "cell_type": "code",
      "metadata": {
        "id": "XC_hsTdQVgdY",
        "outputId": "c71a6452-1181-472b-d208-28071052def8",
        "colab": {
          "base_uri": "https://localhost:8080/",
          "height": 87
        }
      },
      "source": [
        "import numpy as np\n",
        "\n",
        "results = model.predict(x_test)\n",
        "print(results.shape)\n",
        "np.set_printoptions(precision=7) # numpy 소수점 제한\n",
        "print(f'각 클래스에 속할 확률 : \\n{results[0]}')\n"
      ],
      "execution_count": null,
      "outputs": [
        {
          "output_type": "stream",
          "text": [
            "(10000, 10)\n",
            "각 클래스에 속할 확률 : \n",
            "[2.6142864e-12 6.4734329e-12 7.8537397e-08 1.0535742e-06 6.9822620e-16\n",
            " 2.5821973e-09 1.0624794e-18 9.9999869e-01 4.5934454e-11 1.6007179e-07]\n"
          ],
          "name": "stdout"
        }
      ]
    },
    {
      "cell_type": "markdown",
      "metadata": {
        "id": "CNTw9QPKXhew"
      },
      "source": [
        "예측값 그려서 확인해보기\n"
      ]
    },
    {
      "cell_type": "code",
      "metadata": {
        "id": "uVQz6ACxWlob",
        "outputId": "e56438df-ea08-42a9-b2fe-23fa9d7eb7cb",
        "colab": {
          "base_uri": "https://localhost:8080/",
          "height": 281
        }
      },
      "source": [
        "import matplotlib.pyplot as plt\n",
        "\n",
        "arg_results = np.argmax(results, axis = -1) # 가장 큰 값의 인덱스를 가져옵니다.\n",
        "plt.imshow(x_test[0].reshape(28, 28))\n",
        "plt.title('Predicted value of the first image : ' + str(arg_results[0]))\n",
        "plt.show()\n"
      ],
      "execution_count": null,
      "outputs": [
        {
          "output_type": "display_data",
          "data": {
            "image/png": "[encoded data removed]",
            "text/plain": [
              "<Figure size 432x288 with 1 Axes>"
            ]
          },
          "metadata": {
            "tags": [],
            "needs_background": "light"
          }
        }
      ]
    },
    {
      "cell_type": "markdown",
      "metadata": {
        "id": "qbAvPAOEa6nU"
      },
      "source": [
        "모델 평가 방법 1 - 혼동 행렬\n"
      ]
    },
    {
      "cell_type": "code",
      "metadata": {
        "id": "MgmXfcnLXr6W",
        "outputId": "b0f2d919-5ab2-4f8c-f728-97784a4f6a18",
        "colab": {
          "base_uri": "https://localhost:8080/",
          "height": 498
        }
      },
      "source": [
        "# sklearn.metrics 모듈은 여러가지 평가 지표에 관한 기능을 제공합니다.\n",
        "from sklearn.metrics import classification_report, confusion_matrix\n",
        "import matplotlib.pyplot as plt\n",
        "import seaborn as sns\n",
        "\n",
        "# 혼동 행렬을 만듭니다.\n",
        "plt.figure(figsize = (7, 7))\n",
        "cm = confusion_matrix(np.argmax(y_test, axis = -1), np.argmax(results, axis = -1))\n",
        "sns.heatmap(cm, annot = True, fmt = 'd',cmap = 'Blues')\n",
        "plt.xlabel('predicted label')\n",
        "plt.ylabel('true label')\n",
        "plt.show()\n"
      ],
      "execution_count": null,
      "outputs": [
        {
          "output_type": "stream",
          "text": [
            "/usr/local/lib/python3.6/dist-packages/statsmodels/tools/_testing.py:19: FutureWarning: pandas.util.testing is deprecated. Use the functions in the public API at pandas.testing instead.\n",
            "  import pandas.util.testing as tm\n"
          ],
          "name": "stderr"
        },
        {
          "output_type": "display_data",
          "data": {
            "image/png": "[encoded data removed]",
            "text/plain": [
              "<Figure size 504x504 with 2 Axes>"
            ]
          },
          "metadata": {
            "tags": [],
            "needs_background": "light"
          }
        }
      ]
    },
    {
      "cell_type": "code",
      "metadata": {
        "id": "uUqkcl6ha8LI",
        "outputId": "94e9c7bf-cf0d-4844-a509-050ca9492a27",
        "colab": {
          "base_uri": "https://localhost:8080/",
          "height": 334
        }
      },
      "source": [
        "print('\\n', classification_report(np.argmax(y_test, axis = -1), np.argmax(results, axis = -1)))\n"
      ],
      "execution_count": null,
      "outputs": [
        {
          "output_type": "stream",
          "text": [
            "\n",
            "               precision    recall  f1-score   support\n",
            "\n",
            "           0       0.97      0.99      0.98       980\n",
            "           1       0.99      0.99      0.99      1135\n",
            "           2       0.96      0.97      0.97      1032\n",
            "           3       0.97      0.97      0.97      1010\n",
            "           4       0.96      0.97      0.97       982\n",
            "           5       0.96      0.97      0.96       892\n",
            "           6       0.97      0.97      0.97       958\n",
            "           7       0.96      0.98      0.97      1028\n",
            "           8       0.97      0.95      0.96       974\n",
            "           9       0.98      0.95      0.96      1009\n",
            "\n",
            "    accuracy                           0.97     10000\n",
            "   macro avg       0.97      0.97      0.97     10000\n",
            "weighted avg       0.97      0.97      0.97     10000\n",
            "\n"
          ],
          "name": "stdout"
        }
      ]
    },
    {
      "cell_type": "code",
      "metadata": {
        "id": "JQnZRB9hb22N"
      },
      "source": [
        ""
      ],
      "execution_count": null,
      "outputs": []
    }
  ]
}