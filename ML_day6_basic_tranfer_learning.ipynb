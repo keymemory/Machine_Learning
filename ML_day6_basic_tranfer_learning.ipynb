{
  "nbformat": 4,
  "nbformat_minor": 0,
  "metadata": {
    "colab": {
      "name": "ML_day6_basic_tranfer_learning.ipynb",
      "provenance": [],
      "collapsed_sections": [],
      "authorship_tag": "ABX9TyPTVD8LvmYivewYkmS9ICpq",
      "include_colab_link": true
    },
    "kernelspec": {
      "name": "python3",
      "display_name": "Python 3"
    },
    "accelerator": "GPU"
  },
  "cells": [
    {
      "cell_type": "markdown",
      "metadata": {
        "id": "view-in-github",
        "colab_type": "text"
      },
      "source": [
        "<a href=\"https://colab.research.google.com/github/keymemory/DYC_Machine_Learning/blob/main/ML_day6_basic_tranfer_learning.ipynb\" target=\"_parent\"><img src=\"https://colab.research.google.com/assets/colab-badge.svg\" alt=\"Open In Colab\"/></a>"
      ]
    },
    {
      "cell_type": "markdown",
      "metadata": {
        "id": "-G64W0gtJCNY"
      },
      "source": [
        "데이터 준비하기\n"
      ]
    },
    {
      "cell_type": "code",
      "metadata": {
        "id": "nA7urRtWIu6U",
        "outputId": "5883532b-2917-4274-8757-73e1eaaf8fa5",
        "colab": {
          "base_uri": "https://localhost:8080/",
          "height": 70
        }
      },
      "source": [
        "from tensorflow.keras.datasets import cifar10\n",
        "import numpy as np\n",
        "\n",
        "# 데이터 다운로드\n",
        "(x_train, y_train), (x_test, y_test) = cifar10.load_data()\n",
        "\n",
        "# 평균과 표준편차는 채널별로 구해줍니다.\n",
        "x_mean = np.mean(x_train, axis = (0, 1, 2))\n",
        "x_std = np.std(x_train, axis = (0, 1, 2))\n",
        "\n",
        "# 표준화 전처리\n",
        "x_train = (x_train - x_mean) / x_std\n",
        "x_test = (x_test - x_mean) / x_std\n",
        "\n",
        "\n",
        "from sklearn.model_selection import train_test_split\n",
        "\n",
        "# 학습/검정 데이터 나누기\n",
        "x_train, x_val, y_train, y_val = train_test_split(x_train, y_train, test_size = 0.3)\n",
        "print('data ready~')\n"
      ],
      "execution_count": null,
      "outputs": [
        {
          "output_type": "stream",
          "text": [
            "Downloading data from https://www.cs.toronto.edu/~kriz/cifar-10-python.tar.gz\n",
            "170500096/170498071 [==============================] - 7s 0us/step\n",
            "data ready~\n"
          ],
          "name": "stdout"
        }
      ]
    },
    {
      "cell_type": "markdown",
      "metadata": {
        "id": "WMZAAbZcKbI9"
      },
      "source": [
        "전이 학습 사용하기\n",
        "이미지 제너레이터 설정하기\n"
      ]
    },
    {
      "cell_type": "code",
      "metadata": {
        "id": "FuANOkLFKa7S"
      },
      "source": [
        "from tensorflow.keras.preprocessing.image import ImageDataGenerator\n",
        "\n",
        "train_datagen = ImageDataGenerator(horizontal_flip = True,\n",
        "                                   zoom_range = 0.2,\n",
        "                                   width_shift_range = 0.1,\n",
        "                                   height_shift_range = 0.1,\n",
        "                                   rotation_range = 30,\n",
        "                                   fill_mode = 'nearest')\n",
        "\n",
        "val_datagen = ImageDataGenerator()\n",
        "\n",
        "batch_size = 32\n",
        "\n",
        "train_generator = train_datagen.flow(x_train, y_train,\n",
        "                                    batch_size = batch_size)\n",
        "\n",
        "val_generator = val_datagen.flow(x_val, y_val,\n",
        "                                batch_size = batch_size)\n",
        "\n"
      ],
      "execution_count": null,
      "outputs": []
    },
    {
      "cell_type": "markdown",
      "metadata": {
        "id": "y0cg7qweKeE_"
      },
      "source": [
        "사전 학습된 모델 사용하기"
      ]
    },
    {
      "cell_type": "code",
      "metadata": {
        "id": "vdw7kVfcJv_g",
        "outputId": "829c4b88-b763-4d51-f03b-0e22f8b08502",
        "colab": {
          "base_uri": "https://localhost:8080/",
          "height": 862
        }
      },
      "source": [
        "from tensorflow.keras.models import Sequential\n",
        "from tensorflow.keras.layers import Conv2D, MaxPool2D, Dense, Flatten, BatchNormalization, Activation\n",
        "from tensorflow.keras.optimizers import Adam\n",
        "\n",
        "from tensorflow.keras.applications import VGG16\n",
        "\n",
        "# imagenet을 학습한 모델을 불러옵니다.\n",
        "vgg16 = VGG16(weights = 'imagenet', input_shape = (32, 32, 3), include_top = False)\n",
        "vgg16.summary()\n"
      ],
      "execution_count": null,
      "outputs": [
        {
          "output_type": "stream",
          "text": [
            "Downloading data from https://storage.googleapis.com/tensorflow/keras-applications/vgg16/vgg16_weights_tf_dim_ordering_tf_kernels_notop.h5\n",
            "58892288/58889256 [==============================] - 0s 0us/step\n",
            "Model: \"vgg16\"\n",
            "_________________________________________________________________\n",
            "Layer (type)                 Output Shape              Param #   \n",
            "=================================================================\n",
            "input_1 (InputLayer)         [(None, 32, 32, 3)]       0         \n",
            "_________________________________________________________________\n",
            "block1_conv1 (Conv2D)        (None, 32, 32, 64)        1792      \n",
            "_________________________________________________________________\n",
            "block1_conv2 (Conv2D)        (None, 32, 32, 64)        36928     \n",
            "_________________________________________________________________\n",
            "block1_pool (MaxPooling2D)   (None, 16, 16, 64)        0         \n",
            "_________________________________________________________________\n",
            "block2_conv1 (Conv2D)        (None, 16, 16, 128)       73856     \n",
            "_________________________________________________________________\n",
            "block2_conv2 (Conv2D)        (None, 16, 16, 128)       147584    \n",
            "_________________________________________________________________\n",
            "block2_pool (MaxPooling2D)   (None, 8, 8, 128)         0         \n",
            "_________________________________________________________________\n",
            "block3_conv1 (Conv2D)        (None, 8, 8, 256)         295168    \n",
            "_________________________________________________________________\n",
            "block3_conv2 (Conv2D)        (None, 8, 8, 256)         590080    \n",
            "_________________________________________________________________\n",
            "block3_conv3 (Conv2D)        (None, 8, 8, 256)         590080    \n",
            "_________________________________________________________________\n",
            "block3_pool (MaxPooling2D)   (None, 4, 4, 256)         0         \n",
            "_________________________________________________________________\n",
            "block4_conv1 (Conv2D)        (None, 4, 4, 512)         1180160   \n",
            "_________________________________________________________________\n",
            "block4_conv2 (Conv2D)        (None, 4, 4, 512)         2359808   \n",
            "_________________________________________________________________\n",
            "block4_conv3 (Conv2D)        (None, 4, 4, 512)         2359808   \n",
            "_________________________________________________________________\n",
            "block4_pool (MaxPooling2D)   (None, 2, 2, 512)         0         \n",
            "_________________________________________________________________\n",
            "block5_conv1 (Conv2D)        (None, 2, 2, 512)         2359808   \n",
            "_________________________________________________________________\n",
            "block5_conv2 (Conv2D)        (None, 2, 2, 512)         2359808   \n",
            "_________________________________________________________________\n",
            "block5_conv3 (Conv2D)        (None, 2, 2, 512)         2359808   \n",
            "_________________________________________________________________\n",
            "block5_pool (MaxPooling2D)   (None, 1, 1, 512)         0         \n",
            "=================================================================\n",
            "Total params: 14,714,688\n",
            "Trainable params: 14,714,688\n",
            "Non-trainable params: 0\n",
            "_________________________________________________________________\n"
          ],
          "name": "stdout"
        }
      ]
    },
    {
      "cell_type": "markdown",
      "metadata": {
        "id": "SYtj_usJKwc5"
      },
      "source": [
        "모델 구성 및 학습하기\n"
      ]
    },
    {
      "cell_type": "code",
      "metadata": {
        "id": "Tc_tl1QhKhf-"
      },
      "source": [
        "model = Sequential()\n",
        "model.add(vgg16)\n",
        "# 분류기를 직접 정의합니다.\n",
        "model.add(Flatten())\n",
        "model.add(Dense(256))\n",
        "model.add(BatchNormalization())\n",
        "model.add(Activation('relu'))\n",
        "model.add(Dense(10, activation = 'softmax'))\n",
        "\n",
        "# model.summary() # 모델의 구조를 확인하세요!\n"
      ],
      "execution_count": null,
      "outputs": []
    },
    {
      "cell_type": "markdown",
      "metadata": {
        "id": "NuLJ2S-oLL-F"
      },
      "source": [
        "모델 설정하기\n"
      ]
    },
    {
      "cell_type": "code",
      "metadata": {
        "id": "0jHvhloBKy0C"
      },
      "source": [
        "model.compile(optimizer = Adam(1e-4),\n",
        "             loss = 'sparse_categorical_crossentropy',\n",
        "             metrics = ['acc'])\n",
        "\n"
      ],
      "execution_count": null,
      "outputs": []
    },
    {
      "cell_type": "markdown",
      "metadata": {
        "id": "qP_ucE5wLcDh"
      },
      "source": [
        "모델 학습하기\n"
      ]
    },
    {
      "cell_type": "code",
      "metadata": {
        "id": "Err_48XALb3E",
        "outputId": "ae1e74b9-c495-45e5-c982-75635c7c02cb",
        "colab": {
          "base_uri": "https://localhost:8080/",
          "height": 1000
        }
      },
      "source": [
        "def get_step(train_len, batch_size):\n",
        "    if(train_len % batch_size > 0):\n",
        "        return train_len // batch_size + 1\n",
        "    else:\n",
        "        return train_len // batch_size\n",
        "\n",
        "history = model.fit(train_generator,\n",
        "                    epochs = 100,\n",
        "                    steps_per_epoch = get_step(len(x_train), batch_size),\n",
        "                    validation_data = val_generator,\n",
        "                    validation_steps = get_step(len(x_val), batch_size))\n"
      ],
      "execution_count": null,
      "outputs": [
        {
          "output_type": "stream",
          "text": [
            "Epoch 1/100\n",
            "1094/1094 [==============================] - 28s 25ms/step - loss: 1.0698 - acc: 0.0999 - val_loss: 0.7204 - val_acc: 0.1115\n",
            "Epoch 2/100\n",
            "1094/1094 [==============================] - 27s 25ms/step - loss: 0.7756 - acc: 0.0986 - val_loss: 0.6256 - val_acc: 0.0937\n",
            "Epoch 3/100\n",
            "1094/1094 [==============================] - 27s 25ms/step - loss: 0.6747 - acc: 0.0997 - val_loss: 0.5860 - val_acc: 0.1043\n",
            "Epoch 4/100\n",
            "1094/1094 [==============================] - 27s 25ms/step - loss: 0.6043 - acc: 0.0999 - val_loss: 0.5580 - val_acc: 0.1151\n",
            "Epoch 5/100\n",
            "1094/1094 [==============================] - 27s 25ms/step - loss: 0.5548 - acc: 0.0986 - val_loss: 0.6021 - val_acc: 0.0905\n",
            "Epoch 6/100\n",
            "1094/1094 [==============================] - 27s 25ms/step - loss: 0.5097 - acc: 0.0996 - val_loss: 0.5136 - val_acc: 0.1000\n",
            "Epoch 7/100\n",
            "1094/1094 [==============================] - 27s 25ms/step - loss: 0.4742 - acc: 0.0996 - val_loss: 0.4919 - val_acc: 0.1065\n",
            "Epoch 8/100\n",
            "1094/1094 [==============================] - 27s 25ms/step - loss: 0.4443 - acc: 0.0999 - val_loss: 0.5240 - val_acc: 0.0995\n",
            "Epoch 9/100\n",
            "1094/1094 [==============================] - 27s 24ms/step - loss: 0.4163 - acc: 0.1003 - val_loss: 0.4178 - val_acc: 0.1029\n",
            "Epoch 10/100\n",
            "1094/1094 [==============================] - 27s 24ms/step - loss: 0.3879 - acc: 0.0982 - val_loss: 0.4373 - val_acc: 0.0987\n",
            "Epoch 11/100\n",
            "1094/1094 [==============================] - 27s 24ms/step - loss: 0.3711 - acc: 0.0985 - val_loss: 0.4539 - val_acc: 0.1197\n",
            "Epoch 12/100\n",
            "1094/1094 [==============================] - 27s 24ms/step - loss: 0.3472 - acc: 0.0978 - val_loss: 0.4060 - val_acc: 0.1165\n",
            "Epoch 13/100\n",
            "1094/1094 [==============================] - 27s 24ms/step - loss: 0.3316 - acc: 0.0988 - val_loss: 0.4544 - val_acc: 0.1161\n",
            "Epoch 14/100\n",
            "1094/1094 [==============================] - 27s 24ms/step - loss: 0.3179 - acc: 0.0989 - val_loss: 0.4176 - val_acc: 0.0869\n",
            "Epoch 15/100\n",
            "1094/1094 [==============================] - 27s 24ms/step - loss: 0.3009 - acc: 0.0991 - val_loss: 0.4137 - val_acc: 0.1182\n",
            "Epoch 16/100\n",
            "1094/1094 [==============================] - 27s 24ms/step - loss: 0.2870 - acc: 0.0990 - val_loss: 0.4080 - val_acc: 0.0901\n",
            "Epoch 17/100\n",
            "1094/1094 [==============================] - 27s 25ms/step - loss: 0.2712 - acc: 0.0983 - val_loss: 0.3761 - val_acc: 0.1013\n",
            "Epoch 18/100\n",
            "1094/1094 [==============================] - 27s 24ms/step - loss: 0.2540 - acc: 0.0983 - val_loss: 0.4075 - val_acc: 0.1043\n",
            "Epoch 19/100\n",
            "1094/1094 [==============================] - 27s 24ms/step - loss: 0.2491 - acc: 0.0979 - val_loss: 0.4545 - val_acc: 0.1063\n",
            "Epoch 20/100\n",
            "1094/1094 [==============================] - 27s 24ms/step - loss: 0.2327 - acc: 0.0982 - val_loss: 0.4120 - val_acc: 0.1051\n",
            "Epoch 21/100\n",
            "1094/1094 [==============================] - 27s 24ms/step - loss: 0.2278 - acc: 0.0979 - val_loss: 0.4722 - val_acc: 0.0873\n",
            "Epoch 22/100\n",
            "1094/1094 [==============================] - 27s 24ms/step - loss: 0.2203 - acc: 0.0983 - val_loss: 0.4135 - val_acc: 0.0971\n",
            "Epoch 23/100\n",
            "1094/1094 [==============================] - 27s 24ms/step - loss: 0.2121 - acc: 0.0978 - val_loss: 0.4021 - val_acc: 0.1080\n",
            "Epoch 24/100\n",
            "1094/1094 [==============================] - 27s 24ms/step - loss: 0.2068 - acc: 0.0982 - val_loss: 0.4181 - val_acc: 0.1026\n",
            "Epoch 25/100\n",
            "1094/1094 [==============================] - 27s 24ms/step - loss: 0.1935 - acc: 0.0977 - val_loss: 0.4626 - val_acc: 0.1156\n",
            "Epoch 26/100\n",
            "1094/1094 [==============================] - 27s 24ms/step - loss: 0.1932 - acc: 0.0979 - val_loss: 0.4372 - val_acc: 0.0901\n",
            "Epoch 27/100\n",
            "1094/1094 [==============================] - 27s 24ms/step - loss: 0.1866 - acc: 0.0978 - val_loss: 0.4732 - val_acc: 0.1301\n",
            "Epoch 28/100\n",
            "1094/1094 [==============================] - 27s 25ms/step - loss: 0.1760 - acc: 0.0982 - val_loss: 0.4007 - val_acc: 0.0934\n",
            "Epoch 29/100\n",
            "1094/1094 [==============================] - 27s 24ms/step - loss: 0.1704 - acc: 0.0981 - val_loss: 0.4265 - val_acc: 0.0965\n",
            "Epoch 30/100\n",
            "1094/1094 [==============================] - 27s 24ms/step - loss: 0.1710 - acc: 0.0982 - val_loss: 0.4083 - val_acc: 0.0985\n",
            "Epoch 31/100\n",
            "1094/1094 [==============================] - 26s 24ms/step - loss: 0.1633 - acc: 0.0980 - val_loss: 0.4308 - val_acc: 0.1018\n",
            "Epoch 32/100\n",
            "1094/1094 [==============================] - 27s 24ms/step - loss: 0.1560 - acc: 0.0980 - val_loss: 0.4222 - val_acc: 0.0986\n",
            "Epoch 33/100\n",
            "1094/1094 [==============================] - 27s 24ms/step - loss: 0.1537 - acc: 0.0975 - val_loss: 0.4203 - val_acc: 0.1027\n",
            "Epoch 34/100\n",
            "1094/1094 [==============================] - 27s 24ms/step - loss: 0.1541 - acc: 0.0975 - val_loss: 0.4395 - val_acc: 0.0917\n",
            "Epoch 35/100\n",
            "1094/1094 [==============================] - 27s 24ms/step - loss: 0.1434 - acc: 0.0981 - val_loss: 0.4583 - val_acc: 0.1007\n",
            "Epoch 36/100\n",
            "1094/1094 [==============================] - 27s 24ms/step - loss: 0.1436 - acc: 0.0976 - val_loss: 0.4158 - val_acc: 0.1098\n",
            "Epoch 37/100\n",
            "1094/1094 [==============================] - 27s 24ms/step - loss: 0.1349 - acc: 0.0979 - val_loss: 0.4366 - val_acc: 0.0884\n",
            "Epoch 38/100\n",
            "1094/1094 [==============================] - 27s 24ms/step - loss: 0.1342 - acc: 0.0978 - val_loss: 0.4427 - val_acc: 0.0951\n",
            "Epoch 39/100\n",
            "1094/1094 [==============================] - 27s 24ms/step - loss: 0.1353 - acc: 0.0976 - val_loss: 0.4224 - val_acc: 0.1115\n",
            "Epoch 40/100\n",
            "1094/1094 [==============================] - 27s 24ms/step - loss: 0.1277 - acc: 0.0974 - val_loss: 0.4165 - val_acc: 0.0993\n",
            "Epoch 41/100\n",
            "1094/1094 [==============================] - 27s 24ms/step - loss: 0.1322 - acc: 0.0977 - val_loss: 0.3913 - val_acc: 0.0950\n",
            "Epoch 42/100\n",
            "1094/1094 [==============================] - 27s 24ms/step - loss: 0.1197 - acc: 0.0977 - val_loss: 0.4320 - val_acc: 0.1097\n",
            "Epoch 43/100\n",
            "1094/1094 [==============================] - 26s 24ms/step - loss: 0.1191 - acc: 0.0978 - val_loss: 0.5521 - val_acc: 0.0973\n",
            "Epoch 44/100\n",
            "1094/1094 [==============================] - 27s 24ms/step - loss: 0.1219 - acc: 0.0979 - val_loss: 0.5442 - val_acc: 0.1031\n",
            "Epoch 45/100\n",
            "1094/1094 [==============================] - 27s 24ms/step - loss: 0.1133 - acc: 0.0978 - val_loss: 0.3914 - val_acc: 0.1035\n",
            "Epoch 46/100\n",
            "1094/1094 [==============================] - 27s 24ms/step - loss: 0.1151 - acc: 0.0977 - val_loss: 0.4202 - val_acc: 0.1069\n",
            "Epoch 47/100\n",
            "1094/1094 [==============================] - 27s 24ms/step - loss: 0.1087 - acc: 0.0973 - val_loss: 0.4406 - val_acc: 0.0914\n",
            "Epoch 48/100\n",
            "1094/1094 [==============================] - 27s 24ms/step - loss: 0.1108 - acc: 0.0972 - val_loss: 0.4484 - val_acc: 0.1027\n",
            "Epoch 49/100\n",
            "1094/1094 [==============================] - 27s 24ms/step - loss: 0.1047 - acc: 0.0975 - val_loss: 0.4538 - val_acc: 0.1020\n",
            "Epoch 50/100\n",
            "1094/1094 [==============================] - 27s 24ms/step - loss: 0.1077 - acc: 0.0978 - val_loss: 0.4547 - val_acc: 0.0925\n",
            "Epoch 51/100\n",
            "1094/1094 [==============================] - 27s 25ms/step - loss: 0.1031 - acc: 0.0979 - val_loss: 0.4711 - val_acc: 0.0946\n",
            "Epoch 52/100\n",
            "1094/1094 [==============================] - 27s 24ms/step - loss: 0.1050 - acc: 0.0976 - val_loss: 0.4427 - val_acc: 0.1087\n",
            "Epoch 53/100\n",
            "1094/1094 [==============================] - 27s 24ms/step - loss: 0.1003 - acc: 0.0977 - val_loss: 0.4638 - val_acc: 0.1025\n",
            "Epoch 54/100\n",
            "1094/1094 [==============================] - 27s 24ms/step - loss: 0.1019 - acc: 0.0978 - val_loss: 0.4300 - val_acc: 0.0985\n",
            "Epoch 55/100\n",
            "1094/1094 [==============================] - 27s 24ms/step - loss: 0.0970 - acc: 0.0981 - val_loss: 0.4293 - val_acc: 0.1065\n",
            "Epoch 56/100\n",
            "1094/1094 [==============================] - 27s 24ms/step - loss: 0.0937 - acc: 0.0978 - val_loss: 0.4736 - val_acc: 0.0965\n",
            "Epoch 57/100\n",
            "1094/1094 [==============================] - 27s 24ms/step - loss: 0.0942 - acc: 0.0976 - val_loss: 0.5001 - val_acc: 0.0978\n",
            "Epoch 58/100\n",
            "1094/1094 [==============================] - 26s 24ms/step - loss: 0.0914 - acc: 0.0978 - val_loss: 0.4586 - val_acc: 0.1017\n",
            "Epoch 59/100\n",
            "1094/1094 [==============================] - 27s 24ms/step - loss: 0.0922 - acc: 0.0979 - val_loss: 0.4314 - val_acc: 0.1059\n",
            "Epoch 60/100\n",
            "1094/1094 [==============================] - 27s 24ms/step - loss: 0.0860 - acc: 0.0975 - val_loss: 0.5166 - val_acc: 0.0959\n",
            "Epoch 61/100\n",
            "1094/1094 [==============================] - 27s 24ms/step - loss: 0.0915 - acc: 0.0979 - val_loss: 0.4852 - val_acc: 0.1030\n",
            "Epoch 62/100\n",
            "1094/1094 [==============================] - 27s 24ms/step - loss: 0.0840 - acc: 0.0972 - val_loss: 0.4921 - val_acc: 0.1058\n",
            "Epoch 63/100\n",
            "1094/1094 [==============================] - 27s 25ms/step - loss: 0.0882 - acc: 0.0972 - val_loss: 0.4657 - val_acc: 0.0953\n",
            "Epoch 64/100\n",
            "1094/1094 [==============================] - 27s 24ms/step - loss: 0.0876 - acc: 0.0975 - val_loss: 0.4381 - val_acc: 0.1144\n",
            "Epoch 65/100\n",
            "1094/1094 [==============================] - 27s 24ms/step - loss: 0.0889 - acc: 0.0977 - val_loss: 0.4193 - val_acc: 0.1043\n",
            "Epoch 66/100\n",
            "1094/1094 [==============================] - 27s 24ms/step - loss: 0.0817 - acc: 0.0979 - val_loss: 0.4223 - val_acc: 0.0965\n",
            "Epoch 67/100\n",
            "1094/1094 [==============================] - 27s 24ms/step - loss: 0.0818 - acc: 0.0975 - val_loss: 0.4046 - val_acc: 0.1017\n",
            "Epoch 68/100\n",
            "1094/1094 [==============================] - 27s 24ms/step - loss: 0.0817 - acc: 0.0971 - val_loss: 0.4481 - val_acc: 0.0965\n",
            "Epoch 69/100\n",
            "1094/1094 [==============================] - 27s 24ms/step - loss: 0.0810 - acc: 0.0981 - val_loss: 0.4880 - val_acc: 0.0969\n",
            "Epoch 70/100\n",
            "1094/1094 [==============================] - 26s 24ms/step - loss: 0.0775 - acc: 0.0980 - val_loss: 0.4255 - val_acc: 0.1043\n",
            "Epoch 71/100\n",
            "1094/1094 [==============================] - 27s 24ms/step - loss: 0.0769 - acc: 0.0977 - val_loss: 0.4963 - val_acc: 0.0996\n",
            "Epoch 72/100\n",
            "1094/1094 [==============================] - 27s 24ms/step - loss: 0.0767 - acc: 0.0975 - val_loss: 0.4770 - val_acc: 0.1019\n",
            "Epoch 73/100\n",
            "1094/1094 [==============================] - 27s 24ms/step - loss: 0.0777 - acc: 0.0976 - val_loss: 0.4489 - val_acc: 0.1064\n",
            "Epoch 74/100\n",
            "1094/1094 [==============================] - 27s 24ms/step - loss: 0.0738 - acc: 0.0973 - val_loss: 0.4360 - val_acc: 0.1097\n",
            "Epoch 75/100\n",
            "1094/1094 [==============================] - 27s 25ms/step - loss: 0.0721 - acc: 0.0978 - val_loss: 0.5160 - val_acc: 0.1036\n",
            "Epoch 76/100\n",
            "1094/1094 [==============================] - 27s 24ms/step - loss: 0.0781 - acc: 0.0978 - val_loss: 0.4449 - val_acc: 0.1001\n",
            "Epoch 77/100\n",
            "1094/1094 [==============================] - 27s 24ms/step - loss: 0.0696 - acc: 0.0976 - val_loss: 0.4542 - val_acc: 0.1028\n",
            "Epoch 78/100\n",
            "1094/1094 [==============================] - 27s 24ms/step - loss: 0.0717 - acc: 0.0974 - val_loss: 0.4962 - val_acc: 0.1104\n",
            "Epoch 79/100\n",
            "1094/1094 [==============================] - 27s 24ms/step - loss: 0.0683 - acc: 0.0978 - val_loss: 0.5798 - val_acc: 0.1003\n",
            "Epoch 80/100\n",
            "1094/1094 [==============================] - 27s 24ms/step - loss: 0.0686 - acc: 0.0975 - val_loss: 0.4771 - val_acc: 0.1079\n",
            "Epoch 81/100\n",
            "1094/1094 [==============================] - 27s 24ms/step - loss: 0.0643 - acc: 0.0976 - val_loss: 0.4605 - val_acc: 0.1051\n",
            "Epoch 82/100\n",
            "1094/1094 [==============================] - 26s 24ms/step - loss: 0.0640 - acc: 0.0974 - val_loss: 0.4763 - val_acc: 0.1033\n",
            "Epoch 83/100\n",
            "1094/1094 [==============================] - 27s 24ms/step - loss: 0.0674 - acc: 0.0974 - val_loss: 0.4840 - val_acc: 0.1081\n",
            "Epoch 84/100\n",
            "1094/1094 [==============================] - 27s 24ms/step - loss: 0.0664 - acc: 0.0973 - val_loss: 0.4621 - val_acc: 0.1098\n",
            "Epoch 85/100\n",
            "1094/1094 [==============================] - 26s 24ms/step - loss: 0.0613 - acc: 0.0973 - val_loss: 0.5276 - val_acc: 0.1113\n",
            "Epoch 86/100\n",
            "1094/1094 [==============================] - 27s 24ms/step - loss: 0.0642 - acc: 0.0977 - val_loss: 0.5079 - val_acc: 0.0992\n",
            "Epoch 87/100\n",
            "1094/1094 [==============================] - 27s 24ms/step - loss: 0.0692 - acc: 0.0976 - val_loss: 0.4954 - val_acc: 0.0955\n",
            "Epoch 88/100\n",
            "1094/1094 [==============================] - 26s 24ms/step - loss: 0.0665 - acc: 0.0975 - val_loss: 0.4800 - val_acc: 0.1008\n",
            "Epoch 89/100\n",
            "1094/1094 [==============================] - 26s 24ms/step - loss: 0.0621 - acc: 0.0975 - val_loss: 0.4552 - val_acc: 0.1005\n",
            "Epoch 90/100\n",
            "1094/1094 [==============================] - 26s 24ms/step - loss: 0.0624 - acc: 0.0974 - val_loss: 0.4795 - val_acc: 0.1029\n",
            "Epoch 91/100\n",
            "1094/1094 [==============================] - 26s 24ms/step - loss: 0.0656 - acc: 0.0978 - val_loss: 0.4412 - val_acc: 0.1109\n",
            "Epoch 92/100\n",
            "1094/1094 [==============================] - 27s 24ms/step - loss: 0.0596 - acc: 0.0976 - val_loss: 0.4702 - val_acc: 0.1047\n",
            "Epoch 93/100\n",
            "1094/1094 [==============================] - 26s 24ms/step - loss: 0.0601 - acc: 0.0976 - val_loss: 0.4590 - val_acc: 0.1002\n",
            "Epoch 94/100\n",
            "1094/1094 [==============================] - 26s 24ms/step - loss: 0.0590 - acc: 0.0976 - val_loss: 0.5180 - val_acc: 0.1001\n",
            "Epoch 95/100\n",
            "1094/1094 [==============================] - 27s 24ms/step - loss: 0.0584 - acc: 0.0977 - val_loss: 0.5132 - val_acc: 0.1112\n",
            "Epoch 96/100\n",
            "1094/1094 [==============================] - 27s 24ms/step - loss: 0.0608 - acc: 0.0977 - val_loss: 0.4481 - val_acc: 0.1021\n",
            "Epoch 97/100\n",
            "1094/1094 [==============================] - 27s 24ms/step - loss: 0.0562 - acc: 0.0977 - val_loss: 0.4713 - val_acc: 0.0944\n",
            "Epoch 98/100\n",
            "1094/1094 [==============================] - 27s 25ms/step - loss: 0.0543 - acc: 0.0975 - val_loss: 0.5109 - val_acc: 0.1003\n",
            "Epoch 99/100\n",
            "1094/1094 [==============================] - 27s 24ms/step - loss: 0.0533 - acc: 0.0976 - val_loss: 0.4964 - val_acc: 0.1061\n",
            "Epoch 100/100\n",
            "1094/1094 [==============================] - 27s 24ms/step - loss: 0.0602 - acc: 0.0977 - val_loss: 0.6133 - val_acc: 0.0872\n"
          ],
          "name": "stdout"
        }
      ]
    },
    {
      "cell_type": "code",
      "metadata": {
        "id": "Rox9mRJuLNNk"
      },
      "source": [
        ""
      ],
      "execution_count": null,
      "outputs": []
    }
  ]
}