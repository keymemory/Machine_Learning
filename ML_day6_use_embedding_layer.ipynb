{
  "nbformat": 4,
  "nbformat_minor": 0,
  "metadata": {
    "colab": {
      "name": "ML_day6_use_embedding_layer.ipynb",
      "provenance": [],
      "collapsed_sections": [],
      "authorship_tag": "ABX9TyPdOyvFJPx6Sj2Yw7oQo0dQ",
      "include_colab_link": true
    },
    "kernelspec": {
      "name": "python3",
      "display_name": "Python 3"
    }
  },
  "cells": [
    {
      "cell_type": "markdown",
      "metadata": {
        "id": "view-in-github",
        "colab_type": "text"
      },
      "source": [
        "<a href=\"https://colab.research.google.com/github/keymemory/DYC_Machine_Learning/blob/main/ML_day6_use_embedding_layer.ipynb\" target=\"_parent\"><img src=\"https://colab.research.google.com/assets/colab-badge.svg\" alt=\"Open In Colab\"/></a>"
      ]
    },
    {
      "cell_type": "markdown",
      "metadata": {
        "id": "aeFRu7jHduvN"
      },
      "source": [
        "토큰화 작업 수행하기"
      ]
    },
    {
      "cell_type": "code",
      "metadata": {
        "id": "gGpKaTfrdpIh",
        "outputId": "4e40696c-01d5-44e5-ce3a-45fe3b9d162f",
        "colab": {
          "base_uri": "https://localhost:8080/",
          "height": 334
        }
      },
      "source": [
        "from tensorflow.keras.preprocessing.text import Tokenizer\n",
        "from tensorflow.keras.utils import to_categorical\n",
        "\n",
        "texts = ['You are the Best', \n",
        "         'You are the Nice']\n",
        "\n",
        "# 00V out of vacabulay -> 사전에 없는 단어일 경우 1로 인코딩\n",
        "tokenizer = Tokenizer(num_words = 10, oov_token = '<OOV>')\n",
        "tokenizer.fit_on_texts(texts)\n",
        "\n",
        "# 텍스트 데이터를 정수 인덱스 형태로 변환합니다.\n",
        "sequences = tokenizer.texts_to_sequences(texts)\n",
        "# 이진 형태로 인코딩합니다.\n",
        "binary_results = tokenizer.sequences_to_matrix(sequences, mode = 'binary')\n",
        "\n",
        "print(tokenizer.word_index)\n",
        "print('--------------------')\n",
        "\n",
        "print(f'sequences: {sequences}\\n')\n",
        "print(f'binary_vectors:\\n {binary_results}\\n')\n",
        "\n",
        "# 원-핫 형태로 인코딩합니다.\n",
        "print(to_categorical(sequences))\n",
        "\n",
        "test_text = ['You are the One']\n",
        "test_seq = tokenizer.texts_to_sequences(test_text)\n",
        "\n",
        "print(f'test sequences: {test_seq}')\n",
        "\n"
      ],
      "execution_count": null,
      "outputs": [
        {
          "output_type": "stream",
          "text": [
            "{'<OOV>': 1, 'you': 2, 'are': 3, 'the': 4, 'best': 5, 'nice': 6}\n",
            "--------------------\n",
            "sequences: [[2, 3, 4, 5], [2, 3, 4, 6]]\n",
            "\n",
            "binary_vectors:\n",
            " [[0. 0. 1. 1. 1. 1. 0. 0. 0. 0.]\n",
            " [0. 0. 1. 1. 1. 0. 1. 0. 0. 0.]]\n",
            "\n",
            "[[[0. 0. 1. 0. 0. 0. 0.]\n",
            "  [0. 0. 0. 1. 0. 0. 0.]\n",
            "  [0. 0. 0. 0. 1. 0. 0.]\n",
            "  [0. 0. 0. 0. 0. 1. 0.]]\n",
            "\n",
            " [[0. 0. 1. 0. 0. 0. 0.]\n",
            "  [0. 0. 0. 1. 0. 0. 0.]\n",
            "  [0. 0. 0. 0. 1. 0. 0.]\n",
            "  [0. 0. 0. 0. 0. 0. 1.]]]\n",
            "test sequences: [[2, 3, 4, 1]]\n"
          ],
          "name": "stdout"
        }
      ]
    },
    {
      "cell_type": "markdown",
      "metadata": {
        "id": "TDpTfj6Dzy55"
      },
      "source": [
        "데이터셋 다운받기\n"
      ]
    },
    {
      "cell_type": "code",
      "metadata": {
        "id": "53zb7onEejZx",
        "outputId": "8565e206-02ad-4a2c-a23b-8d2fc483ede2",
        "colab": {
          "base_uri": "https://localhost:8080/",
          "height": 72
        }
      },
      "source": [
        "from tensorflow.keras.datasets import imdb\n",
        "\n",
        "num_words = 10000\n",
        "(X_train, y_train), (X_test, y_test) = imdb.load_data(num_words=num_words)\n"
      ],
      "execution_count": null,
      "outputs": [
        {
          "output_type": "stream",
          "text": [
            "Downloading data from https://storage.googleapis.com/tensorflow/tf-keras-datasets/imdb.npz\n",
            "17465344/17464789 [==============================] - 0s 0us/step\n"
          ],
          "name": "stdout"
        }
      ]
    },
    {
      "cell_type": "markdown",
      "metadata": {
        "id": "DC6lnIYS0Yxc"
      },
      "source": [
        "데이터 형태 확인하기"
      ]
    },
    {
      "cell_type": "code",
      "metadata": {
        "id": "fA5E_g15z0b8",
        "outputId": "8ecd9ade-1c12-40b3-f13c-0c193cad5b9a",
        "colab": {
          "base_uri": "https://localhost:8080/",
          "height": 52
        }
      },
      "source": [
        "\n",
        "print(X_train.shape, y_train.shape)\n",
        "print(X_test.shape, y_test.shape)\n"
      ],
      "execution_count": null,
      "outputs": [
        {
          "output_type": "stream",
          "text": [
            "(25000,) (25000,)\n",
            "(25000,) (25000,)\n"
          ],
          "name": "stdout"
        }
      ]
    },
    {
      "cell_type": "markdown",
      "metadata": {
        "id": "Eo2tnokm0v2P"
      },
      "source": [
        "첫 번째 데이터 확인하기"
      ]
    },
    {
      "cell_type": "code",
      "metadata": {
        "id": "kbEYxeIq0aDC",
        "outputId": "71e436f8-19a7-4dd3-afe1-aa36daeaa1cf",
        "colab": {
          "base_uri": "https://localhost:8080/",
          "height": 90
        }
      },
      "source": [
        "\n",
        "print(X_train[0]) # 리뷰 글 데이터 -> 빈번하게 사용되는 단어 순위\n",
        "print('-------')\n",
        "print(y_train[0]) # 라벨 -> 1:긍정, 2:부정\n"
      ],
      "execution_count": null,
      "outputs": [
        {
          "output_type": "stream",
          "text": [
            "[1, 14, 22, 16, 43, 530, 973, 1622, 1385, 65, 458, 4468, 66, 3941, 4, 173, 36, 256, 5, 25, 100, 43, 838, 112, 50, 670, 2, 9, 35, 480, 284, 5, 150, 4, 172, 112, 167, 2, 336, 385, 39, 4, 172, 4536, 1111, 17, 546, 38, 13, 447, 4, 192, 50, 16, 6, 147, 2025, 19, 14, 22, 4, 1920, 4613, 469, 4, 22, 71, 87, 12, 16, 43, 530, 38, 76, 15, 13, 1247, 4, 22, 17, 515, 17, 12, 16, 626, 18, 2, 5, 62, 386, 12, 8, 316, 8, 106, 5, 4, 2223, 5244, 16, 480, 66, 3785, 33, 4, 130, 12, 16, 38, 619, 5, 25, 124, 51, 36, 135, 48, 25, 1415, 33, 6, 22, 12, 215, 28, 77, 52, 5, 14, 407, 16, 82, 2, 8, 4, 107, 117, 5952, 15, 256, 4, 2, 7, 3766, 5, 723, 36, 71, 43, 530, 476, 26, 400, 317, 46, 7, 4, 2, 1029, 13, 104, 88, 4, 381, 15, 297, 98, 32, 2071, 56, 26, 141, 6, 194, 7486, 18, 4, 226, 22, 21, 134, 476, 26, 480, 5, 144, 30, 5535, 18, 51, 36, 28, 224, 92, 25, 104, 4, 226, 65, 16, 38, 1334, 88, 12, 16, 283, 5, 16, 4472, 113, 103, 32, 15, 16, 5345, 19, 178, 32]\n",
            "-------\n",
            "1\n"
          ],
          "name": "stdout"
        }
      ]
    },
    {
      "cell_type": "markdown",
      "metadata": {
        "id": "6x4EeK3t1dN3"
      },
      "source": [
        "IMDB 데이터셋에서 가장 빈번하게 사용되는 3개의 단어\n"
      ]
    },
    {
      "cell_type": "code",
      "metadata": {
        "id": "zCCEBozV04-U",
        "outputId": "02b1e277-e6e6-4ee5-e92f-52267e474b44",
        "colab": {
          "base_uri": "https://localhost:8080/",
          "height": 105
        }
      },
      "source": [
        "imdb_get_word_index = {}\n",
        "\n",
        "for key, value in imdb.get_word_index().items():\n",
        "    imdb_get_word_index[value] = key\n",
        "    \n",
        "for i in range(1, 4):\n",
        "    print('{} 번째로 가장 많이 쓰인 단어 = {}'.format(i, imdb_get_word_index[i]))\n"
      ],
      "execution_count": null,
      "outputs": [
        {
          "output_type": "stream",
          "text": [
            "Downloading data from https://storage.googleapis.com/tensorflow/tf-keras-datasets/imdb_word_index.json\n",
            "1646592/1641221 [==============================] - 0s 0us/step\n",
            "1 번째로 가장 많이 쓰인 단어 = the\n",
            "2 번째로 가장 많이 쓰인 단어 = and\n",
            "3 번째로 가장 많이 쓰인 단어 = a\n"
          ],
          "name": "stdout"
        }
      ]
    },
    {
      "cell_type": "markdown",
      "metadata": {
        "id": "3xAtZ66J1v-0"
      },
      "source": [
        "데이터를 동일한 길이로 맞추기\n"
      ]
    },
    {
      "cell_type": "code",
      "metadata": {
        "id": "P44Lm2dI1ets",
        "outputId": "be6f3d2f-69a4-4895-8536-b1ce6b951598",
        "colab": {
          "base_uri": "https://localhost:8080/",
          "height": 52
        }
      },
      "source": [
        "from tensorflow.keras.preprocessing.sequence import pad_sequences\n",
        "\n",
        "max_len = 500\n",
        "\n",
        "print('Before pad_sequences: ', len(X_train[0]))\n",
        "\n",
        "pad_X_train = pad_sequences(X_train, maxlen=max_len, padding = 'pre')\n",
        "pad_X_test = pad_sequences(X_test, maxlen=max_len, padding = 'pre')\n",
        "\n",
        "print('After pad_sequences: ', len(pad_X_train[0]))\n"
      ],
      "execution_count": null,
      "outputs": [
        {
          "output_type": "stream",
          "text": [
            "Before pad_sequences:  218\n",
            "After pad_sequences:  500\n"
          ],
          "name": "stdout"
        }
      ]
    },
    {
      "cell_type": "markdown",
      "metadata": {
        "id": "NsGymgDX2l0i"
      },
      "source": [
        "Embedding 층을 사용하여 모델 구성하기"
      ]
    },
    {
      "cell_type": "code",
      "metadata": {
        "id": "9AwkFMLK2LLB"
      },
      "source": [
        "from tensorflow.keras.models import Sequential\n",
        "from tensorflow.keras.layers import Dense, Embedding, Flatten\n",
        "\n",
        "model = Sequential()\n",
        "# 이 층은 모델의 제일 첫 번째 층으로만 사용할 수 있습니다.\n",
        "# Flatten 층을 사용하기 위해 input_length를 전달합니다.\n",
        "model.add(Embedding(input_dim = num_words, output_dim = 32, input_length = max_len))\n",
        "model.add(Flatten())\n",
        "model.add(Dense(1, activation = 'sigmoid'))\n",
        "\n",
        "model.compile(optimizer='adam',\n",
        "             loss = 'binary_crossentropy',\n",
        "             metrics = ['acc'])\n"
      ],
      "execution_count": null,
      "outputs": []
    },
    {
      "cell_type": "code",
      "metadata": {
        "id": "nXgRfFSH2pt8",
        "outputId": "ca0ae8da-f652-42e9-b44b-799180589d31",
        "colab": {
          "base_uri": "https://localhost:8080/",
          "height": 263
        }
      },
      "source": [
        "model.summary()\n"
      ],
      "execution_count": null,
      "outputs": [
        {
          "output_type": "stream",
          "text": [
            "Model: \"sequential\"\n",
            "_________________________________________________________________\n",
            "Layer (type)                 Output Shape              Param #   \n",
            "=================================================================\n",
            "embedding (Embedding)        (None, 500, 32)           320000    \n",
            "_________________________________________________________________\n",
            "flatten (Flatten)            (None, 16000)             0         \n",
            "_________________________________________________________________\n",
            "dense (Dense)                (None, 1)                 16001     \n",
            "=================================================================\n",
            "Total params: 336,001\n",
            "Trainable params: 336,001\n",
            "Non-trainable params: 0\n",
            "_________________________________________________________________\n"
          ],
          "name": "stdout"
        }
      ]
    },
    {
      "cell_type": "markdown",
      "metadata": {
        "id": "gULV1YxL4S46"
      },
      "source": [
        "모델 학습시키기\n"
      ]
    },
    {
      "cell_type": "code",
      "metadata": {
        "id": "97sm6Vu44TNN",
        "outputId": "ea8ec05b-d5dc-4fa1-b674-71cd7a52f971",
        "colab": {
          "base_uri": "https://localhost:8080/",
          "height": 1000
        }
      },
      "source": [
        "history = model.fit(pad_X_train, y_train, \n",
        "                    batch_size = 32, \n",
        "                    epochs = 30, \n",
        "                    validation_split = 0.2)\n"
      ],
      "execution_count": null,
      "outputs": [
        {
          "output_type": "stream",
          "text": [
            "Epoch 1/30\n",
            "625/625 [==============================] - 5s 7ms/step - loss: 0.4717 - acc: 0.7643 - val_loss: 0.2975 - val_acc: 0.8788\n",
            "Epoch 2/30\n",
            "625/625 [==============================] - 4s 7ms/step - loss: 0.2003 - acc: 0.9268 - val_loss: 0.2733 - val_acc: 0.8852\n",
            "Epoch 3/30\n",
            "625/625 [==============================] - 5s 7ms/step - loss: 0.1055 - acc: 0.9700 - val_loss: 0.2881 - val_acc: 0.8844\n",
            "Epoch 4/30\n",
            "625/625 [==============================] - 4s 7ms/step - loss: 0.0496 - acc: 0.9907 - val_loss: 0.3298 - val_acc: 0.8760\n",
            "Epoch 5/30\n",
            "625/625 [==============================] - 4s 7ms/step - loss: 0.0227 - acc: 0.9981 - val_loss: 0.3408 - val_acc: 0.8810\n",
            "Epoch 6/30\n",
            "625/625 [==============================] - 4s 7ms/step - loss: 0.0113 - acc: 0.9997 - val_loss: 0.3664 - val_acc: 0.8822\n",
            "Epoch 7/30\n",
            "625/625 [==============================] - 5s 7ms/step - loss: 0.0062 - acc: 0.9999 - val_loss: 0.3918 - val_acc: 0.8796\n",
            "Epoch 8/30\n",
            "625/625 [==============================] - 5s 7ms/step - loss: 0.0036 - acc: 0.9999 - val_loss: 0.4123 - val_acc: 0.8822\n",
            "Epoch 9/30\n",
            "625/625 [==============================] - 4s 7ms/step - loss: 0.0022 - acc: 1.0000 - val_loss: 0.4347 - val_acc: 0.8792\n",
            "Epoch 10/30\n",
            "625/625 [==============================] - 5s 7ms/step - loss: 0.0014 - acc: 1.0000 - val_loss: 0.4551 - val_acc: 0.8800\n",
            "Epoch 11/30\n",
            "625/625 [==============================] - 4s 7ms/step - loss: 9.1191e-04 - acc: 1.0000 - val_loss: 0.4751 - val_acc: 0.8812\n",
            "Epoch 12/30\n",
            "625/625 [==============================] - 5s 7ms/step - loss: 6.1672e-04 - acc: 1.0000 - val_loss: 0.4947 - val_acc: 0.8802\n",
            "Epoch 13/30\n",
            "625/625 [==============================] - 5s 7ms/step - loss: 4.1022e-04 - acc: 1.0000 - val_loss: 0.5149 - val_acc: 0.8778\n",
            "Epoch 14/30\n",
            "625/625 [==============================] - 5s 7ms/step - loss: 2.7982e-04 - acc: 1.0000 - val_loss: 0.5325 - val_acc: 0.8778\n",
            "Epoch 15/30\n",
            "625/625 [==============================] - 4s 7ms/step - loss: 1.9099e-04 - acc: 1.0000 - val_loss: 0.5533 - val_acc: 0.8766\n",
            "Epoch 16/30\n",
            "625/625 [==============================] - 5s 7ms/step - loss: 1.3243e-04 - acc: 1.0000 - val_loss: 0.5721 - val_acc: 0.8778\n",
            "Epoch 17/30\n",
            "625/625 [==============================] - 5s 7ms/step - loss: 9.2826e-05 - acc: 1.0000 - val_loss: 0.5893 - val_acc: 0.8770\n",
            "Epoch 18/30\n",
            "625/625 [==============================] - 4s 7ms/step - loss: 6.4425e-05 - acc: 1.0000 - val_loss: 0.6097 - val_acc: 0.8782\n",
            "Epoch 19/30\n",
            "625/625 [==============================] - 4s 7ms/step - loss: 4.5230e-05 - acc: 1.0000 - val_loss: 0.6266 - val_acc: 0.8780\n",
            "Epoch 20/30\n",
            "625/625 [==============================] - 5s 7ms/step - loss: 3.1765e-05 - acc: 1.0000 - val_loss: 0.6443 - val_acc: 0.8778\n",
            "Epoch 21/30\n",
            "625/625 [==============================] - 5s 8ms/step - loss: 2.2742e-05 - acc: 1.0000 - val_loss: 0.6642 - val_acc: 0.8776\n",
            "Epoch 22/30\n",
            "625/625 [==============================] - 5s 8ms/step - loss: 1.5982e-05 - acc: 1.0000 - val_loss: 0.6807 - val_acc: 0.8778\n",
            "Epoch 23/30\n",
            "625/625 [==============================] - 5s 7ms/step - loss: 1.1289e-05 - acc: 1.0000 - val_loss: 0.7019 - val_acc: 0.8756\n",
            "Epoch 24/30\n",
            "625/625 [==============================] - 5s 7ms/step - loss: 8.0568e-06 - acc: 1.0000 - val_loss: 0.7153 - val_acc: 0.8782\n",
            "Epoch 25/30\n",
            "625/625 [==============================] - 5s 8ms/step - loss: 5.8050e-06 - acc: 1.0000 - val_loss: 0.7349 - val_acc: 0.8776\n",
            "Epoch 26/30\n",
            "625/625 [==============================] - 5s 7ms/step - loss: 4.1834e-06 - acc: 1.0000 - val_loss: 0.7516 - val_acc: 0.8774\n",
            "Epoch 27/30\n",
            "625/625 [==============================] - 5s 7ms/step - loss: 3.0260e-06 - acc: 1.0000 - val_loss: 0.7711 - val_acc: 0.8762\n",
            "Epoch 28/30\n",
            "625/625 [==============================] - 5s 7ms/step - loss: 2.2124e-06 - acc: 1.0000 - val_loss: 0.7924 - val_acc: 0.8734\n",
            "Epoch 29/30\n",
            "625/625 [==============================] - 5s 7ms/step - loss: 1.6384e-06 - acc: 1.0000 - val_loss: 0.8041 - val_acc: 0.8766\n",
            "Epoch 30/30\n",
            "625/625 [==============================] - 5s 7ms/step - loss: 1.2160e-06 - acc: 1.0000 - val_loss: 0.8197 - val_acc: 0.8762\n"
          ],
          "name": "stdout"
        }
      ]
    },
    {
      "cell_type": "markdown",
      "metadata": {
        "id": "S8hwycjN4Lon"
      },
      "source": [
        "학습과정 확인하기\n"
      ]
    },
    {
      "cell_type": "code",
      "metadata": {
        "id": "1k9aRWsu3OB2",
        "outputId": "032825b1-16d9-407f-9307-e06aa6026160",
        "colab": {
          "base_uri": "https://localhost:8080/",
          "height": 350
        }
      },
      "source": [
        "import matplotlib.pyplot as plt\n",
        "\n",
        "his_dict = history.history\n",
        "loss = his_dict['loss']\n",
        "val_loss = his_dict['val_loss'] \n",
        "\n",
        "epochs = range(1, len(loss) + 1)\n",
        "fig = plt.figure(figsize = (10, 5))\n",
        "\n",
        "# 훈련 및 검증 손실 그리기\n",
        "ax1 = fig.add_subplot(1, 2, 1)\n",
        "ax1.plot(epochs, loss, color = 'blue', label = 'train_loss')\n",
        "ax1.plot(epochs, val_loss, color = 'orange', label = 'val_loss')\n",
        "ax1.set_title('train and val loss')\n",
        "ax1.set_xlabel('epochs')\n",
        "ax1.set_ylabel('loss')\n",
        "ax1.legend()\n",
        "\n",
        "acc = his_dict['acc']\n",
        "val_acc = his_dict['val_acc']\n",
        "\n",
        "# 훈련 및 검증 정확도 그리기\n",
        "ax2 = fig.add_subplot(1, 2, 2)\n",
        "ax2.plot(epochs, acc, color = 'blue', label = 'train_acc')\n",
        "ax2.plot(epochs, val_acc, color = 'orange', label = 'val_acc')\n",
        "ax2.set_title('train and val acc')\n",
        "ax2.set_xlabel('epochs')\n",
        "ax2.set_ylabel('acc')\n",
        "ax2.legend()\n",
        "\n",
        "plt.show()\n"
      ],
      "execution_count": null,
      "outputs": [
        {
          "output_type": "display_data",
          "data": {
            "image/png": "[encoded data removed]",
            "text/plain": [
              "<Figure size 720x360 with 2 Axes>"
            ]
          },
          "metadata": {
            "tags": [],
            "needs_background": "light"
          }
        }
      ]
    },
    {
      "cell_type": "code",
      "metadata": {
        "id": "5z5l7WjW4Nd8"
      },
      "source": [
        ""
      ],
      "execution_count": null,
      "outputs": []
    }
  ]
}