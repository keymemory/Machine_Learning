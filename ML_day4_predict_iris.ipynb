{
  "nbformat": 4,
  "nbformat_minor": 0,
  "metadata": {
    "colab": {
      "name": "ML_day4_predict_iris.ipynb",
      "provenance": [],
      "collapsed_sections": [],
      "authorship_tag": "ABX9TyMOWWehOrREH10hzXCnXA/d",
      "include_colab_link": true
    },
    "kernelspec": {
      "name": "python3",
      "display_name": "Python 3"
    }
  },
  "cells": [
    {
      "cell_type": "markdown",
      "metadata": {
        "id": "view-in-github",
        "colab_type": "text"
      },
      "source": [
        "<a href=\"https://colab.research.google.com/github/keymemory/DYC_Machine_Learning/blob/main/ML_day4_predict_iris.ipynb\" target=\"_parent\"><img src=\"https://colab.research.google.com/assets/colab-badge.svg\" alt=\"Open In Colab\"/></a>"
      ]
    },
    {
      "cell_type": "markdown",
      "metadata": {
        "id": "fd5OHvUPzSMk"
      },
      "source": [
        "데이터 준비하기"
      ]
    },
    {
      "cell_type": "code",
      "metadata": {
        "id": "Y7EobRzOzNDq",
        "outputId": "1b1db018-8d9d-4f6a-b833-1a77ecb66809",
        "colab": {
          "base_uri": "https://localhost:8080/",
          "height": 70
        }
      },
      "source": [
        "import pathlib\n",
        "\n",
        "import matplotlib.pyplot as plt\n",
        "import pandas as pd\n",
        "import numpy as np\n",
        "import seaborn as sns\n",
        "\n",
        "import tensorflow as tf\n",
        "import keras\n",
        "from keras.models import Sequential\n",
        "from keras.layers.core import Dense"
      ],
      "execution_count": null,
      "outputs": [
        {
          "output_type": "stream",
          "text": [
            "/usr/local/lib/python3.6/dist-packages/statsmodels/tools/_testing.py:19: FutureWarning: pandas.util.testing is deprecated. Use the functions in the public API at pandas.testing instead.\n",
            "  import pandas.util.testing as tm\n",
            "Using TensorFlow backend.\n"
          ],
          "name": "stderr"
        }
      ]
    },
    {
      "cell_type": "markdown",
      "metadata": {
        "id": "LYk5ffvNzXge"
      },
      "source": [
        "데이터 준비하기"
      ]
    },
    {
      "cell_type": "code",
      "metadata": {
        "id": "mb8NUIj8zUCq",
        "outputId": "12b8d539-192f-40fb-ba62-0bd68cf6bdf6",
        "colab": {
          "base_uri": "https://localhost:8080/",
          "height": 70
        }
      },
      "source": [
        "\n",
        "dataset_path = keras.utils.get_file(\"iris.data\", \"https://archive.ics.uci.edu/ml/machine-learning-databases/iris/iris.data\")\n",
        "dataset_path"
      ],
      "execution_count": null,
      "outputs": [
        {
          "output_type": "stream",
          "text": [
            "Downloading data from https://archive.ics.uci.edu/ml/machine-learning-databases/iris/iris.data\n",
            "8192/4551 [======================================================] - 0s 0us/step\n"
          ],
          "name": "stdout"
        },
        {
          "output_type": "execute_result",
          "data": {
            "application/vnd.google.colaboratory.intrinsic+json": {
              "type": "string"
            },
            "text/plain": [
              "'/root/.keras/datasets/iris.data'"
            ]
          },
          "metadata": {
            "tags": []
          },
          "execution_count": 3
        }
      ]
    },
    {
      "cell_type": "markdown",
      "metadata": {
        "id": "Sk83K6Krzdqm"
      },
      "source": [
        "데이터 확인하기\n"
      ]
    },
    {
      "cell_type": "code",
      "metadata": {
        "id": "EcIkttdSzbgJ",
        "outputId": "d75c6120-2f63-4c61-b132-93169eb63490",
        "colab": {
          "base_uri": "https://localhost:8080/",
          "height": 158
        }
      },
      "source": [
        "column_names = ['sepal length in cm','sepal width in cm','petal length in cm','petal width in cm','class']\n",
        "raw_dataset = pd.read_csv(dataset_path, names=column_names,\n",
        "                      na_values = \"?\", comment='\\t',\n",
        "                      sep=\",\", skipinitialspace=True)\n",
        "\n",
        "dataset = raw_dataset.copy()\n",
        "print(dataset.tail())\n"
      ],
      "execution_count": null,
      "outputs": [
        {
          "output_type": "stream",
          "text": [
            "     sepal length in cm  sepal width in cm  ...  petal width in cm           class\n",
            "145                 6.7                3.0  ...                2.3  Iris-virginica\n",
            "146                 6.3                2.5  ...                1.9  Iris-virginica\n",
            "147                 6.5                3.0  ...                2.0  Iris-virginica\n",
            "148                 6.2                3.4  ...                2.3  Iris-virginica\n",
            "149                 5.9                3.0  ...                1.8  Iris-virginica\n",
            "\n",
            "[5 rows x 5 columns]\n"
          ],
          "name": "stdout"
        }
      ]
    },
    {
      "cell_type": "markdown",
      "metadata": {
        "id": "lghOdLW_4mLb"
      },
      "source": [
        "데이터셋 생성하기 - 입력(속성값 4개)와 출력(판정결과 1개) 변수로 분리\n"
      ]
    },
    {
      "cell_type": "code",
      "metadata": {
        "id": "wLYG-xiGze2F",
        "outputId": "225a1b24-355d-4460-bddb-56040b58db11",
        "colab": {
          "base_uri": "https://localhost:8080/",
          "height": 34
        }
      },
      "source": [
        "X = dataset.iloc[:, 0:4]\n",
        "y = dataset.iloc[:, 4]\n",
        "\n",
        "print(set(y))\n"
      ],
      "execution_count": null,
      "outputs": [
        {
          "output_type": "stream",
          "text": [
            "{'Iris-versicolor', 'Iris-virginica', 'Iris-setosa'}\n"
          ],
          "name": "stdout"
        }
      ]
    },
    {
      "cell_type": "markdown",
      "metadata": {
        "id": "jXch8Zil5ENl"
      },
      "source": [
        "레이블을 범주형 형태로 변경\n"
      ]
    },
    {
      "cell_type": "code",
      "metadata": {
        "id": "-6nXYlG64ntS",
        "outputId": "0e96ca5b-8fa8-45ff-a34d-d6ab480a5e22",
        "colab": {
          "base_uri": "https://localhost:8080/",
          "height": 105
        }
      },
      "source": [
        "from sklearn.preprocessing import LabelEncoder\n",
        "from keras.utils import np_utils\n",
        "\n",
        "encoder = LabelEncoder()\n",
        "encoder.fit(y)\n",
        "Y_encodered = encoder.transform(y)\n",
        "\n",
        "print(Y_encodered)\n",
        "\n",
        "Y = np_utils.to_categorical(Y_encodered)\n"
      ],
      "execution_count": null,
      "outputs": [
        {
          "output_type": "stream",
          "text": [
            "[0 0 0 0 0 0 0 0 0 0 0 0 0 0 0 0 0 0 0 0 0 0 0 0 0 0 0 0 0 0 0 0 0 0 0 0 0\n",
            " 0 0 0 0 0 0 0 0 0 0 0 0 0 1 1 1 1 1 1 1 1 1 1 1 1 1 1 1 1 1 1 1 1 1 1 1 1\n",
            " 1 1 1 1 1 1 1 1 1 1 1 1 1 1 1 1 1 1 1 1 1 1 1 1 1 1 2 2 2 2 2 2 2 2 2 2 2\n",
            " 2 2 2 2 2 2 2 2 2 2 2 2 2 2 2 2 2 2 2 2 2 2 2 2 2 2 2 2 2 2 2 2 2 2 2 2 2\n",
            " 2 2]\n"
          ],
          "name": "stdout"
        }
      ]
    },
    {
      "cell_type": "markdown",
      "metadata": {
        "id": "4gEu1tfE5ibZ"
      },
      "source": [
        "학습/테스트 8:2 비율로 분리\n"
      ]
    },
    {
      "cell_type": "code",
      "metadata": {
        "id": "XLve7bbR5F0c",
        "outputId": "ac988ac2-8d42-4455-95c1-0502683407fb",
        "colab": {
          "base_uri": "https://localhost:8080/",
          "height": 87
        }
      },
      "source": [
        "from sklearn.model_selection import train_test_split\n",
        "\n",
        "X_train, X_test, y_train, y_test = train_test_split(X, Y, test_size=0.2)\n",
        "\n",
        "print(X_train.shape)\n",
        "print(y_train.shape)\n",
        "print(X_test.shape)\n",
        "print(y_test.shape)\n",
        "\n"
      ],
      "execution_count": null,
      "outputs": [
        {
          "output_type": "stream",
          "text": [
            "(120, 4)\n",
            "(120, 3)\n",
            "(30, 4)\n",
            "(30, 3)\n"
          ],
          "name": "stdout"
        }
      ]
    },
    {
      "cell_type": "markdown",
      "metadata": {
        "id": "WFMxZyPe55-l"
      },
      "source": [
        "모델 구성하기\n"
      ]
    },
    {
      "cell_type": "code",
      "metadata": {
        "id": "maVCLEoI53Pc"
      },
      "source": [
        "model = Sequential()\n",
        "\n",
        "model.add(Dense(16, input_shape=(4,), activation='relu'))\n",
        "model.add(Dense(3, activation='softmax'))\n"
      ],
      "execution_count": null,
      "outputs": []
    },
    {
      "cell_type": "markdown",
      "metadata": {
        "id": "AJSTPuLN6xDz"
      },
      "source": [
        "모델 설정하기\n"
      ]
    },
    {
      "cell_type": "code",
      "metadata": {
        "id": "dzttUc6P6Wat"
      },
      "source": [
        "# 다중이면 카테고리 크로스엔트로피\n",
        "model.compile(loss='categorical_crossentropy', optimizer='adam',\n",
        "              metrics=['accuracy'])"
      ],
      "execution_count": null,
      "outputs": []
    },
    {
      "cell_type": "code",
      "metadata": {
        "id": "ky_p5tmu6zyi",
        "outputId": "59a686b1-857c-4285-c14f-86f492c82ab6",
        "colab": {
          "base_uri": "https://localhost:8080/",
          "height": 1000
        }
      },
      "source": [
        "history = model.fit(X_train, y_train,\n",
        "                    epochs=200, \n",
        "                    batch_size=10,\n",
        "                    validation_data = (X_test, y_test))\n"
      ],
      "execution_count": null,
      "outputs": [
        {
          "output_type": "stream",
          "text": [
            "Train on 120 samples, validate on 30 samples\n",
            "Epoch 1/200\n",
            "120/120 [==============================] - 0s 3ms/step - loss: 1.7449 - accuracy: 0.0750 - val_loss: 1.3143 - val_accuracy: 0.0000e+00\n",
            "Epoch 2/200\n",
            "120/120 [==============================] - 0s 163us/step - loss: 1.5978 - accuracy: 0.0750 - val_loss: 1.2352 - val_accuracy: 0.0333\n",
            "Epoch 3/200\n",
            "120/120 [==============================] - 0s 173us/step - loss: 1.4668 - accuracy: 0.1750 - val_loss: 1.1800 - val_accuracy: 0.2333\n",
            "Epoch 4/200\n",
            "120/120 [==============================] - 0s 178us/step - loss: 1.3629 - accuracy: 0.3083 - val_loss: 1.1169 - val_accuracy: 0.2333\n",
            "Epoch 5/200\n",
            "120/120 [==============================] - 0s 162us/step - loss: 1.2649 - accuracy: 0.3250 - val_loss: 1.0762 - val_accuracy: 0.2333\n",
            "Epoch 6/200\n",
            "120/120 [==============================] - 0s 160us/step - loss: 1.1964 - accuracy: 0.2917 - val_loss: 1.0428 - val_accuracy: 0.2333\n",
            "Epoch 7/200\n",
            "120/120 [==============================] - 0s 160us/step - loss: 1.1390 - accuracy: 0.2667 - val_loss: 1.0217 - val_accuracy: 0.2333\n",
            "Epoch 8/200\n",
            "120/120 [==============================] - 0s 149us/step - loss: 1.0934 - accuracy: 0.2917 - val_loss: 0.9994 - val_accuracy: 0.2333\n",
            "Epoch 9/200\n",
            "120/120 [==============================] - 0s 165us/step - loss: 1.0601 - accuracy: 0.1917 - val_loss: 0.9779 - val_accuracy: 0.1667\n",
            "Epoch 10/200\n",
            "120/120 [==============================] - 0s 172us/step - loss: 1.0297 - accuracy: 0.2417 - val_loss: 0.9655 - val_accuracy: 0.3000\n",
            "Epoch 11/200\n",
            "120/120 [==============================] - 0s 198us/step - loss: 0.9995 - accuracy: 0.2750 - val_loss: 0.9504 - val_accuracy: 0.2667\n",
            "Epoch 12/200\n",
            "120/120 [==============================] - 0s 168us/step - loss: 0.9731 - accuracy: 0.3250 - val_loss: 0.9234 - val_accuracy: 0.5333\n",
            "Epoch 13/200\n",
            "120/120 [==============================] - 0s 157us/step - loss: 0.9497 - accuracy: 0.5500 - val_loss: 0.8980 - val_accuracy: 0.7333\n",
            "Epoch 14/200\n",
            "120/120 [==============================] - 0s 156us/step - loss: 0.9243 - accuracy: 0.7333 - val_loss: 0.8878 - val_accuracy: 0.6667\n",
            "Epoch 15/200\n",
            "120/120 [==============================] - 0s 174us/step - loss: 0.8993 - accuracy: 0.7667 - val_loss: 0.8660 - val_accuracy: 0.7667\n",
            "Epoch 16/200\n",
            "120/120 [==============================] - 0s 152us/step - loss: 0.8763 - accuracy: 0.7583 - val_loss: 0.8336 - val_accuracy: 0.8333\n",
            "Epoch 17/200\n",
            "120/120 [==============================] - 0s 158us/step - loss: 0.8533 - accuracy: 0.7250 - val_loss: 0.8077 - val_accuracy: 0.7333\n",
            "Epoch 18/200\n",
            "120/120 [==============================] - 0s 228us/step - loss: 0.8311 - accuracy: 0.7917 - val_loss: 0.8019 - val_accuracy: 0.8333\n",
            "Epoch 19/200\n",
            "120/120 [==============================] - 0s 186us/step - loss: 0.8115 - accuracy: 0.8333 - val_loss: 0.7872 - val_accuracy: 0.8333\n",
            "Epoch 20/200\n",
            "120/120 [==============================] - 0s 185us/step - loss: 0.7894 - accuracy: 0.8417 - val_loss: 0.7630 - val_accuracy: 0.8667\n",
            "Epoch 21/200\n",
            "120/120 [==============================] - 0s 205us/step - loss: 0.7698 - accuracy: 0.8250 - val_loss: 0.7470 - val_accuracy: 0.8667\n",
            "Epoch 22/200\n",
            "120/120 [==============================] - 0s 181us/step - loss: 0.7526 - accuracy: 0.8583 - val_loss: 0.7385 - val_accuracy: 0.8667\n",
            "Epoch 23/200\n",
            "120/120 [==============================] - 0s 179us/step - loss: 0.7336 - accuracy: 0.8583 - val_loss: 0.7213 - val_accuracy: 0.8667\n",
            "Epoch 24/200\n",
            "120/120 [==============================] - 0s 156us/step - loss: 0.7172 - accuracy: 0.8500 - val_loss: 0.7061 - val_accuracy: 0.8667\n",
            "Epoch 25/200\n",
            "120/120 [==============================] - 0s 165us/step - loss: 0.7021 - accuracy: 0.8250 - val_loss: 0.6885 - val_accuracy: 0.8667\n",
            "Epoch 26/200\n",
            "120/120 [==============================] - 0s 171us/step - loss: 0.6904 - accuracy: 0.8583 - val_loss: 0.6918 - val_accuracy: 0.9333\n",
            "Epoch 27/200\n",
            "120/120 [==============================] - 0s 170us/step - loss: 0.6722 - accuracy: 0.8833 - val_loss: 0.6722 - val_accuracy: 0.8667\n",
            "Epoch 28/200\n",
            "120/120 [==============================] - 0s 166us/step - loss: 0.6610 - accuracy: 0.8917 - val_loss: 0.6609 - val_accuracy: 0.8667\n",
            "Epoch 29/200\n",
            "120/120 [==============================] - 0s 159us/step - loss: 0.6459 - accuracy: 0.8417 - val_loss: 0.6416 - val_accuracy: 0.8667\n",
            "Epoch 30/200\n",
            "120/120 [==============================] - 0s 152us/step - loss: 0.6344 - accuracy: 0.8250 - val_loss: 0.6338 - val_accuracy: 0.8667\n",
            "Epoch 31/200\n",
            "120/120 [==============================] - 0s 196us/step - loss: 0.6224 - accuracy: 0.8333 - val_loss: 0.6232 - val_accuracy: 0.8667\n",
            "Epoch 32/200\n",
            "120/120 [==============================] - 0s 160us/step - loss: 0.6109 - accuracy: 0.8917 - val_loss: 0.6266 - val_accuracy: 0.9333\n",
            "Epoch 33/200\n",
            "120/120 [==============================] - 0s 193us/step - loss: 0.6006 - accuracy: 0.9083 - val_loss: 0.6096 - val_accuracy: 0.9333\n",
            "Epoch 34/200\n",
            "120/120 [==============================] - 0s 193us/step - loss: 0.5909 - accuracy: 0.9167 - val_loss: 0.6141 - val_accuracy: 0.9000\n",
            "Epoch 35/200\n",
            "120/120 [==============================] - 0s 181us/step - loss: 0.5802 - accuracy: 0.9417 - val_loss: 0.5937 - val_accuracy: 0.9333\n",
            "Epoch 36/200\n",
            "120/120 [==============================] - 0s 162us/step - loss: 0.5697 - accuracy: 0.9167 - val_loss: 0.5873 - val_accuracy: 0.9333\n",
            "Epoch 37/200\n",
            "120/120 [==============================] - 0s 166us/step - loss: 0.5609 - accuracy: 0.9167 - val_loss: 0.5812 - val_accuracy: 0.9333\n",
            "Epoch 38/200\n",
            "120/120 [==============================] - 0s 180us/step - loss: 0.5518 - accuracy: 0.9583 - val_loss: 0.5740 - val_accuracy: 0.9333\n",
            "Epoch 39/200\n",
            "120/120 [==============================] - 0s 159us/step - loss: 0.5437 - accuracy: 0.9250 - val_loss: 0.5597 - val_accuracy: 0.9333\n",
            "Epoch 40/200\n",
            "120/120 [==============================] - 0s 152us/step - loss: 0.5345 - accuracy: 0.9083 - val_loss: 0.5562 - val_accuracy: 0.9333\n",
            "Epoch 41/200\n",
            "120/120 [==============================] - 0s 169us/step - loss: 0.5271 - accuracy: 0.9500 - val_loss: 0.5554 - val_accuracy: 0.9667\n",
            "Epoch 42/200\n",
            "120/120 [==============================] - 0s 158us/step - loss: 0.5203 - accuracy: 0.9250 - val_loss: 0.5373 - val_accuracy: 0.9333\n",
            "Epoch 43/200\n",
            "120/120 [==============================] - 0s 180us/step - loss: 0.5131 - accuracy: 0.8833 - val_loss: 0.5298 - val_accuracy: 0.9333\n",
            "Epoch 44/200\n",
            "120/120 [==============================] - 0s 145us/step - loss: 0.5043 - accuracy: 0.9583 - val_loss: 0.5398 - val_accuracy: 0.9333\n",
            "Epoch 45/200\n",
            "120/120 [==============================] - 0s 172us/step - loss: 0.4981 - accuracy: 0.9583 - val_loss: 0.5342 - val_accuracy: 0.9333\n",
            "Epoch 46/200\n",
            "120/120 [==============================] - 0s 176us/step - loss: 0.4913 - accuracy: 0.9583 - val_loss: 0.5203 - val_accuracy: 0.9667\n",
            "Epoch 47/200\n",
            "120/120 [==============================] - 0s 153us/step - loss: 0.4854 - accuracy: 0.9583 - val_loss: 0.5146 - val_accuracy: 0.9667\n",
            "Epoch 48/200\n",
            "120/120 [==============================] - 0s 160us/step - loss: 0.4819 - accuracy: 0.9083 - val_loss: 0.5015 - val_accuracy: 0.9333\n",
            "Epoch 49/200\n",
            "120/120 [==============================] - 0s 156us/step - loss: 0.4720 - accuracy: 0.9583 - val_loss: 0.5072 - val_accuracy: 0.9667\n",
            "Epoch 50/200\n",
            "120/120 [==============================] - 0s 164us/step - loss: 0.4667 - accuracy: 0.9667 - val_loss: 0.5055 - val_accuracy: 0.9333\n",
            "Epoch 51/200\n",
            "120/120 [==============================] - 0s 161us/step - loss: 0.4612 - accuracy: 0.9750 - val_loss: 0.4915 - val_accuracy: 0.9667\n",
            "Epoch 52/200\n",
            "120/120 [==============================] - 0s 186us/step - loss: 0.4554 - accuracy: 0.9583 - val_loss: 0.4900 - val_accuracy: 0.9667\n",
            "Epoch 53/200\n",
            "120/120 [==============================] - 0s 186us/step - loss: 0.4496 - accuracy: 0.9583 - val_loss: 0.4822 - val_accuracy: 0.9667\n",
            "Epoch 54/200\n",
            "120/120 [==============================] - 0s 181us/step - loss: 0.4456 - accuracy: 0.9583 - val_loss: 0.4856 - val_accuracy: 0.9333\n",
            "Epoch 55/200\n",
            "120/120 [==============================] - 0s 167us/step - loss: 0.4415 - accuracy: 0.9667 - val_loss: 0.4650 - val_accuracy: 0.9333\n",
            "Epoch 56/200\n",
            "120/120 [==============================] - 0s 156us/step - loss: 0.4342 - accuracy: 0.9500 - val_loss: 0.4698 - val_accuracy: 0.9667\n",
            "Epoch 57/200\n",
            "120/120 [==============================] - 0s 168us/step - loss: 0.4304 - accuracy: 0.9583 - val_loss: 0.4585 - val_accuracy: 0.9667\n",
            "Epoch 58/200\n",
            "120/120 [==============================] - 0s 192us/step - loss: 0.4253 - accuracy: 0.9583 - val_loss: 0.4629 - val_accuracy: 0.9333\n",
            "Epoch 59/200\n",
            "120/120 [==============================] - 0s 164us/step - loss: 0.4198 - accuracy: 0.9583 - val_loss: 0.4549 - val_accuracy: 0.9667\n",
            "Epoch 60/200\n",
            "120/120 [==============================] - 0s 174us/step - loss: 0.4155 - accuracy: 0.9667 - val_loss: 0.4609 - val_accuracy: 0.9333\n",
            "Epoch 61/200\n",
            "120/120 [==============================] - 0s 173us/step - loss: 0.4106 - accuracy: 0.9667 - val_loss: 0.4486 - val_accuracy: 0.9333\n",
            "Epoch 62/200\n",
            "120/120 [==============================] - 0s 175us/step - loss: 0.4082 - accuracy: 0.9583 - val_loss: 0.4352 - val_accuracy: 0.9667\n",
            "Epoch 63/200\n",
            "120/120 [==============================] - 0s 212us/step - loss: 0.4019 - accuracy: 0.9667 - val_loss: 0.4423 - val_accuracy: 0.9333\n",
            "Epoch 64/200\n",
            "120/120 [==============================] - 0s 160us/step - loss: 0.3978 - accuracy: 0.9667 - val_loss: 0.4404 - val_accuracy: 0.9333\n",
            "Epoch 65/200\n",
            "120/120 [==============================] - 0s 173us/step - loss: 0.3931 - accuracy: 0.9667 - val_loss: 0.4357 - val_accuracy: 0.9333\n",
            "Epoch 66/200\n",
            "120/120 [==============================] - 0s 150us/step - loss: 0.3900 - accuracy: 0.9750 - val_loss: 0.4220 - val_accuracy: 0.9667\n",
            "Epoch 67/200\n",
            "120/120 [==============================] - 0s 176us/step - loss: 0.3851 - accuracy: 0.9667 - val_loss: 0.4211 - val_accuracy: 0.9667\n",
            "Epoch 68/200\n",
            "120/120 [==============================] - 0s 189us/step - loss: 0.3811 - accuracy: 0.9667 - val_loss: 0.4257 - val_accuracy: 0.9333\n",
            "Epoch 69/200\n",
            "120/120 [==============================] - 0s 158us/step - loss: 0.3785 - accuracy: 0.9667 - val_loss: 0.4184 - val_accuracy: 0.9333\n",
            "Epoch 70/200\n",
            "120/120 [==============================] - 0s 188us/step - loss: 0.3732 - accuracy: 0.9667 - val_loss: 0.4146 - val_accuracy: 0.9333\n",
            "Epoch 71/200\n",
            "120/120 [==============================] - 0s 171us/step - loss: 0.3695 - accuracy: 0.9667 - val_loss: 0.4106 - val_accuracy: 0.9333\n",
            "Epoch 72/200\n",
            "120/120 [==============================] - 0s 177us/step - loss: 0.3656 - accuracy: 0.9667 - val_loss: 0.4048 - val_accuracy: 0.9333\n",
            "Epoch 73/200\n",
            "120/120 [==============================] - 0s 201us/step - loss: 0.3633 - accuracy: 0.9667 - val_loss: 0.4061 - val_accuracy: 0.9333\n",
            "Epoch 74/200\n",
            "120/120 [==============================] - 0s 183us/step - loss: 0.3580 - accuracy: 0.9667 - val_loss: 0.3944 - val_accuracy: 0.9667\n",
            "Epoch 75/200\n",
            "120/120 [==============================] - 0s 185us/step - loss: 0.3552 - accuracy: 0.9667 - val_loss: 0.3908 - val_accuracy: 0.9667\n",
            "Epoch 76/200\n",
            "120/120 [==============================] - 0s 214us/step - loss: 0.3523 - accuracy: 0.9667 - val_loss: 0.3916 - val_accuracy: 0.9333\n",
            "Epoch 77/200\n",
            "120/120 [==============================] - 0s 195us/step - loss: 0.3479 - accuracy: 0.9667 - val_loss: 0.3876 - val_accuracy: 0.9333\n",
            "Epoch 78/200\n",
            "120/120 [==============================] - 0s 178us/step - loss: 0.3446 - accuracy: 0.9667 - val_loss: 0.3815 - val_accuracy: 0.9333\n",
            "Epoch 79/200\n",
            "120/120 [==============================] - 0s 177us/step - loss: 0.3406 - accuracy: 0.9667 - val_loss: 0.3826 - val_accuracy: 0.9333\n",
            "Epoch 80/200\n",
            "120/120 [==============================] - 0s 204us/step - loss: 0.3374 - accuracy: 0.9667 - val_loss: 0.3819 - val_accuracy: 0.9667\n",
            "Epoch 81/200\n",
            "120/120 [==============================] - 0s 196us/step - loss: 0.3339 - accuracy: 0.9667 - val_loss: 0.3756 - val_accuracy: 0.9333\n",
            "Epoch 82/200\n",
            "120/120 [==============================] - 0s 217us/step - loss: 0.3309 - accuracy: 0.9667 - val_loss: 0.3683 - val_accuracy: 0.9333\n",
            "Epoch 83/200\n",
            "120/120 [==============================] - 0s 193us/step - loss: 0.3271 - accuracy: 0.9667 - val_loss: 0.3665 - val_accuracy: 0.9333\n",
            "Epoch 84/200\n",
            "120/120 [==============================] - 0s 170us/step - loss: 0.3246 - accuracy: 0.9667 - val_loss: 0.3643 - val_accuracy: 0.9333\n",
            "Epoch 85/200\n",
            "120/120 [==============================] - 0s 221us/step - loss: 0.3217 - accuracy: 0.9667 - val_loss: 0.3629 - val_accuracy: 0.9667\n",
            "Epoch 86/200\n",
            "120/120 [==============================] - 0s 185us/step - loss: 0.3186 - accuracy: 0.9667 - val_loss: 0.3702 - val_accuracy: 0.9667\n",
            "Epoch 87/200\n",
            "120/120 [==============================] - 0s 173us/step - loss: 0.3163 - accuracy: 0.9667 - val_loss: 0.3646 - val_accuracy: 0.9667\n",
            "Epoch 88/200\n",
            "120/120 [==============================] - 0s 179us/step - loss: 0.3131 - accuracy: 0.9667 - val_loss: 0.3488 - val_accuracy: 0.9333\n",
            "Epoch 89/200\n",
            "120/120 [==============================] - 0s 163us/step - loss: 0.3085 - accuracy: 0.9667 - val_loss: 0.3436 - val_accuracy: 0.9667\n",
            "Epoch 90/200\n",
            "120/120 [==============================] - 0s 189us/step - loss: 0.3063 - accuracy: 0.9667 - val_loss: 0.3414 - val_accuracy: 0.9333\n",
            "Epoch 91/200\n",
            "120/120 [==============================] - 0s 197us/step - loss: 0.3023 - accuracy: 0.9667 - val_loss: 0.3424 - val_accuracy: 0.9667\n",
            "Epoch 92/200\n",
            "120/120 [==============================] - 0s 192us/step - loss: 0.3005 - accuracy: 0.9667 - val_loss: 0.3544 - val_accuracy: 0.9667\n",
            "Epoch 93/200\n",
            "120/120 [==============================] - 0s 155us/step - loss: 0.2987 - accuracy: 0.9667 - val_loss: 0.3371 - val_accuracy: 0.9667\n",
            "Epoch 94/200\n",
            "120/120 [==============================] - 0s 165us/step - loss: 0.2952 - accuracy: 0.9667 - val_loss: 0.3411 - val_accuracy: 0.9667\n",
            "Epoch 95/200\n",
            "120/120 [==============================] - 0s 174us/step - loss: 0.2938 - accuracy: 0.9750 - val_loss: 0.3241 - val_accuracy: 0.9667\n",
            "Epoch 96/200\n",
            "120/120 [==============================] - 0s 175us/step - loss: 0.2908 - accuracy: 0.9667 - val_loss: 0.3375 - val_accuracy: 0.9667\n",
            "Epoch 97/200\n",
            "120/120 [==============================] - 0s 162us/step - loss: 0.2858 - accuracy: 0.9667 - val_loss: 0.3292 - val_accuracy: 0.9667\n",
            "Epoch 98/200\n",
            "120/120 [==============================] - 0s 232us/step - loss: 0.2837 - accuracy: 0.9667 - val_loss: 0.3233 - val_accuracy: 0.9667\n",
            "Epoch 99/200\n",
            "120/120 [==============================] - 0s 191us/step - loss: 0.2807 - accuracy: 0.9667 - val_loss: 0.3223 - val_accuracy: 0.9667\n",
            "Epoch 100/200\n",
            "120/120 [==============================] - 0s 172us/step - loss: 0.2786 - accuracy: 0.9667 - val_loss: 0.3161 - val_accuracy: 0.9667\n",
            "Epoch 101/200\n",
            "120/120 [==============================] - 0s 181us/step - loss: 0.2755 - accuracy: 0.9667 - val_loss: 0.3184 - val_accuracy: 0.9667\n",
            "Epoch 102/200\n",
            "120/120 [==============================] - 0s 160us/step - loss: 0.2735 - accuracy: 0.9667 - val_loss: 0.3214 - val_accuracy: 0.9667\n",
            "Epoch 103/200\n",
            "120/120 [==============================] - 0s 172us/step - loss: 0.2726 - accuracy: 0.9667 - val_loss: 0.3062 - val_accuracy: 0.9667\n",
            "Epoch 104/200\n",
            "120/120 [==============================] - 0s 176us/step - loss: 0.2677 - accuracy: 0.9667 - val_loss: 0.3089 - val_accuracy: 0.9667\n",
            "Epoch 105/200\n",
            "120/120 [==============================] - 0s 195us/step - loss: 0.2656 - accuracy: 0.9667 - val_loss: 0.3155 - val_accuracy: 0.9667\n",
            "Epoch 106/200\n",
            "120/120 [==============================] - 0s 174us/step - loss: 0.2633 - accuracy: 0.9667 - val_loss: 0.3071 - val_accuracy: 0.9667\n",
            "Epoch 107/200\n",
            "120/120 [==============================] - 0s 172us/step - loss: 0.2651 - accuracy: 0.9667 - val_loss: 0.2949 - val_accuracy: 0.9667\n",
            "Epoch 108/200\n",
            "120/120 [==============================] - 0s 166us/step - loss: 0.2593 - accuracy: 0.9667 - val_loss: 0.3124 - val_accuracy: 0.9667\n",
            "Epoch 109/200\n",
            "120/120 [==============================] - 0s 191us/step - loss: 0.2576 - accuracy: 0.9750 - val_loss: 0.3018 - val_accuracy: 0.9667\n",
            "Epoch 110/200\n",
            "120/120 [==============================] - 0s 171us/step - loss: 0.2536 - accuracy: 0.9667 - val_loss: 0.2879 - val_accuracy: 0.9667\n",
            "Epoch 111/200\n",
            "120/120 [==============================] - 0s 171us/step - loss: 0.2531 - accuracy: 0.9667 - val_loss: 0.2946 - val_accuracy: 0.9667\n",
            "Epoch 112/200\n",
            "120/120 [==============================] - 0s 159us/step - loss: 0.2494 - accuracy: 0.9667 - val_loss: 0.2878 - val_accuracy: 0.9667\n",
            "Epoch 113/200\n",
            "120/120 [==============================] - 0s 179us/step - loss: 0.2475 - accuracy: 0.9667 - val_loss: 0.2842 - val_accuracy: 0.9667\n",
            "Epoch 114/200\n",
            "120/120 [==============================] - 0s 163us/step - loss: 0.2446 - accuracy: 0.9667 - val_loss: 0.2863 - val_accuracy: 0.9667\n",
            "Epoch 115/200\n",
            "120/120 [==============================] - 0s 179us/step - loss: 0.2425 - accuracy: 0.9667 - val_loss: 0.2846 - val_accuracy: 0.9667\n",
            "Epoch 116/200\n",
            "120/120 [==============================] - 0s 179us/step - loss: 0.2408 - accuracy: 0.9667 - val_loss: 0.2807 - val_accuracy: 0.9667\n",
            "Epoch 117/200\n",
            "120/120 [==============================] - 0s 192us/step - loss: 0.2387 - accuracy: 0.9667 - val_loss: 0.2785 - val_accuracy: 0.9667\n",
            "Epoch 118/200\n",
            "120/120 [==============================] - 0s 176us/step - loss: 0.2362 - accuracy: 0.9667 - val_loss: 0.2817 - val_accuracy: 0.9667\n",
            "Epoch 119/200\n",
            "120/120 [==============================] - 0s 222us/step - loss: 0.2346 - accuracy: 0.9667 - val_loss: 0.2757 - val_accuracy: 0.9667\n",
            "Epoch 120/200\n",
            "120/120 [==============================] - 0s 171us/step - loss: 0.2370 - accuracy: 0.9750 - val_loss: 0.2855 - val_accuracy: 0.9667\n",
            "Epoch 121/200\n",
            "120/120 [==============================] - 0s 177us/step - loss: 0.2301 - accuracy: 0.9667 - val_loss: 0.2638 - val_accuracy: 0.9667\n",
            "Epoch 122/200\n",
            "120/120 [==============================] - 0s 172us/step - loss: 0.2296 - accuracy: 0.9667 - val_loss: 0.2618 - val_accuracy: 0.9667\n",
            "Epoch 123/200\n",
            "120/120 [==============================] - 0s 195us/step - loss: 0.2274 - accuracy: 0.9667 - val_loss: 0.2723 - val_accuracy: 0.9667\n",
            "Epoch 124/200\n",
            "120/120 [==============================] - 0s 157us/step - loss: 0.2251 - accuracy: 0.9667 - val_loss: 0.2651 - val_accuracy: 0.9667\n",
            "Epoch 125/200\n",
            "120/120 [==============================] - 0s 172us/step - loss: 0.2232 - accuracy: 0.9667 - val_loss: 0.2572 - val_accuracy: 0.9667\n",
            "Epoch 126/200\n",
            "120/120 [==============================] - 0s 163us/step - loss: 0.2207 - accuracy: 0.9667 - val_loss: 0.2611 - val_accuracy: 0.9667\n",
            "Epoch 127/200\n",
            "120/120 [==============================] - 0s 158us/step - loss: 0.2188 - accuracy: 0.9667 - val_loss: 0.2594 - val_accuracy: 0.9667\n",
            "Epoch 128/200\n",
            "120/120 [==============================] - 0s 163us/step - loss: 0.2180 - accuracy: 0.9667 - val_loss: 0.2568 - val_accuracy: 0.9667\n",
            "Epoch 129/200\n",
            "120/120 [==============================] - 0s 150us/step - loss: 0.2173 - accuracy: 0.9667 - val_loss: 0.2634 - val_accuracy: 0.9667\n",
            "Epoch 130/200\n",
            "120/120 [==============================] - 0s 154us/step - loss: 0.2130 - accuracy: 0.9667 - val_loss: 0.2512 - val_accuracy: 0.9667\n",
            "Epoch 131/200\n",
            "120/120 [==============================] - 0s 192us/step - loss: 0.2123 - accuracy: 0.9667 - val_loss: 0.2512 - val_accuracy: 0.9667\n",
            "Epoch 132/200\n",
            "120/120 [==============================] - 0s 180us/step - loss: 0.2109 - accuracy: 0.9667 - val_loss: 0.2417 - val_accuracy: 0.9667\n",
            "Epoch 133/200\n",
            "120/120 [==============================] - 0s 155us/step - loss: 0.2100 - accuracy: 0.9750 - val_loss: 0.2468 - val_accuracy: 0.9667\n",
            "Epoch 134/200\n",
            "120/120 [==============================] - 0s 165us/step - loss: 0.2106 - accuracy: 0.9750 - val_loss: 0.2589 - val_accuracy: 0.9667\n",
            "Epoch 135/200\n",
            "120/120 [==============================] - 0s 186us/step - loss: 0.2063 - accuracy: 0.9750 - val_loss: 0.2389 - val_accuracy: 0.9667\n",
            "Epoch 136/200\n",
            "120/120 [==============================] - 0s 163us/step - loss: 0.2049 - accuracy: 0.9750 - val_loss: 0.2350 - val_accuracy: 0.9667\n",
            "Epoch 137/200\n",
            "120/120 [==============================] - 0s 158us/step - loss: 0.2036 - accuracy: 0.9667 - val_loss: 0.2520 - val_accuracy: 0.9667\n",
            "Epoch 138/200\n",
            "120/120 [==============================] - 0s 170us/step - loss: 0.2012 - accuracy: 0.9750 - val_loss: 0.2447 - val_accuracy: 0.9667\n",
            "Epoch 139/200\n",
            "120/120 [==============================] - 0s 160us/step - loss: 0.1985 - accuracy: 0.9750 - val_loss: 0.2383 - val_accuracy: 0.9667\n",
            "Epoch 140/200\n",
            "120/120 [==============================] - 0s 189us/step - loss: 0.1980 - accuracy: 0.9667 - val_loss: 0.2273 - val_accuracy: 0.9667\n",
            "Epoch 141/200\n",
            "120/120 [==============================] - 0s 155us/step - loss: 0.1965 - accuracy: 0.9667 - val_loss: 0.2312 - val_accuracy: 0.9667\n",
            "Epoch 142/200\n",
            "120/120 [==============================] - 0s 158us/step - loss: 0.1973 - accuracy: 0.9667 - val_loss: 0.2474 - val_accuracy: 0.9667\n",
            "Epoch 143/200\n",
            "120/120 [==============================] - 0s 165us/step - loss: 0.1944 - accuracy: 0.9750 - val_loss: 0.2293 - val_accuracy: 0.9667\n",
            "Epoch 144/200\n",
            "120/120 [==============================] - 0s 151us/step - loss: 0.1918 - accuracy: 0.9667 - val_loss: 0.2297 - val_accuracy: 0.9667\n",
            "Epoch 145/200\n",
            "120/120 [==============================] - 0s 168us/step - loss: 0.1905 - accuracy: 0.9750 - val_loss: 0.2319 - val_accuracy: 0.9667\n",
            "Epoch 146/200\n",
            "120/120 [==============================] - 0s 156us/step - loss: 0.1885 - accuracy: 0.9750 - val_loss: 0.2304 - val_accuracy: 0.9667\n",
            "Epoch 147/200\n",
            "120/120 [==============================] - 0s 165us/step - loss: 0.1865 - accuracy: 0.9750 - val_loss: 0.2226 - val_accuracy: 0.9667\n",
            "Epoch 148/200\n",
            "120/120 [==============================] - 0s 157us/step - loss: 0.1863 - accuracy: 0.9667 - val_loss: 0.2181 - val_accuracy: 0.9667\n",
            "Epoch 149/200\n",
            "120/120 [==============================] - 0s 160us/step - loss: 0.1841 - accuracy: 0.9667 - val_loss: 0.2236 - val_accuracy: 0.9667\n",
            "Epoch 150/200\n",
            "120/120 [==============================] - 0s 169us/step - loss: 0.1832 - accuracy: 0.9750 - val_loss: 0.2251 - val_accuracy: 0.9667\n",
            "Epoch 151/200\n",
            "120/120 [==============================] - 0s 159us/step - loss: 0.1818 - accuracy: 0.9750 - val_loss: 0.2245 - val_accuracy: 0.9667\n",
            "Epoch 152/200\n",
            "120/120 [==============================] - 0s 169us/step - loss: 0.1801 - accuracy: 0.9750 - val_loss: 0.2170 - val_accuracy: 0.9667\n",
            "Epoch 153/200\n",
            "120/120 [==============================] - 0s 161us/step - loss: 0.1789 - accuracy: 0.9750 - val_loss: 0.2130 - val_accuracy: 0.9667\n",
            "Epoch 154/200\n",
            "120/120 [==============================] - 0s 155us/step - loss: 0.1786 - accuracy: 0.9750 - val_loss: 0.2141 - val_accuracy: 0.9667\n",
            "Epoch 155/200\n",
            "120/120 [==============================] - 0s 152us/step - loss: 0.1766 - accuracy: 0.9750 - val_loss: 0.2118 - val_accuracy: 0.9667\n",
            "Epoch 156/200\n",
            "120/120 [==============================] - 0s 156us/step - loss: 0.1761 - accuracy: 0.9750 - val_loss: 0.2114 - val_accuracy: 0.9667\n",
            "Epoch 157/200\n",
            "120/120 [==============================] - 0s 156us/step - loss: 0.1745 - accuracy: 0.9667 - val_loss: 0.2059 - val_accuracy: 0.9667\n",
            "Epoch 158/200\n",
            "120/120 [==============================] - 0s 152us/step - loss: 0.1731 - accuracy: 0.9750 - val_loss: 0.2081 - val_accuracy: 0.9667\n",
            "Epoch 159/200\n",
            "120/120 [==============================] - 0s 145us/step - loss: 0.1745 - accuracy: 0.9750 - val_loss: 0.2180 - val_accuracy: 0.9667\n",
            "Epoch 160/200\n",
            "120/120 [==============================] - 0s 220us/step - loss: 0.1710 - accuracy: 0.9750 - val_loss: 0.2040 - val_accuracy: 0.9667\n",
            "Epoch 161/200\n",
            "120/120 [==============================] - 0s 194us/step - loss: 0.1693 - accuracy: 0.9750 - val_loss: 0.2042 - val_accuracy: 0.9667\n",
            "Epoch 162/200\n",
            "120/120 [==============================] - 0s 176us/step - loss: 0.1682 - accuracy: 0.9750 - val_loss: 0.2030 - val_accuracy: 0.9667\n",
            "Epoch 163/200\n",
            "120/120 [==============================] - 0s 178us/step - loss: 0.1688 - accuracy: 0.9750 - val_loss: 0.2082 - val_accuracy: 0.9667\n",
            "Epoch 164/200\n",
            "120/120 [==============================] - 0s 180us/step - loss: 0.1659 - accuracy: 0.9750 - val_loss: 0.2027 - val_accuracy: 0.9667\n",
            "Epoch 165/200\n",
            "120/120 [==============================] - 0s 152us/step - loss: 0.1662 - accuracy: 0.9667 - val_loss: 0.1992 - val_accuracy: 0.9667\n",
            "Epoch 166/200\n",
            "120/120 [==============================] - 0s 208us/step - loss: 0.1636 - accuracy: 0.9750 - val_loss: 0.1990 - val_accuracy: 0.9667\n",
            "Epoch 167/200\n",
            "120/120 [==============================] - 0s 161us/step - loss: 0.1628 - accuracy: 0.9750 - val_loss: 0.2010 - val_accuracy: 0.9667\n",
            "Epoch 168/200\n",
            "120/120 [==============================] - 0s 161us/step - loss: 0.1616 - accuracy: 0.9750 - val_loss: 0.1991 - val_accuracy: 0.9667\n",
            "Epoch 169/200\n",
            "120/120 [==============================] - 0s 158us/step - loss: 0.1613 - accuracy: 0.9750 - val_loss: 0.1918 - val_accuracy: 0.9667\n",
            "Epoch 170/200\n",
            "120/120 [==============================] - 0s 158us/step - loss: 0.1599 - accuracy: 0.9667 - val_loss: 0.1928 - val_accuracy: 0.9667\n",
            "Epoch 171/200\n",
            "120/120 [==============================] - 0s 194us/step - loss: 0.1582 - accuracy: 0.9750 - val_loss: 0.2029 - val_accuracy: 0.9667\n",
            "Epoch 172/200\n",
            "120/120 [==============================] - 0s 179us/step - loss: 0.1582 - accuracy: 0.9750 - val_loss: 0.1954 - val_accuracy: 0.9667\n",
            "Epoch 173/200\n",
            "120/120 [==============================] - 0s 177us/step - loss: 0.1576 - accuracy: 0.9750 - val_loss: 0.1890 - val_accuracy: 0.9667\n",
            "Epoch 174/200\n",
            "120/120 [==============================] - 0s 179us/step - loss: 0.1564 - accuracy: 0.9750 - val_loss: 0.1966 - val_accuracy: 0.9667\n",
            "Epoch 175/200\n",
            "120/120 [==============================] - 0s 176us/step - loss: 0.1556 - accuracy: 0.9750 - val_loss: 0.1864 - val_accuracy: 0.9667\n",
            "Epoch 176/200\n",
            "120/120 [==============================] - 0s 179us/step - loss: 0.1536 - accuracy: 0.9750 - val_loss: 0.1882 - val_accuracy: 0.9667\n",
            "Epoch 177/200\n",
            "120/120 [==============================] - 0s 182us/step - loss: 0.1532 - accuracy: 0.9750 - val_loss: 0.1991 - val_accuracy: 0.9667\n",
            "Epoch 178/200\n",
            "120/120 [==============================] - 0s 167us/step - loss: 0.1538 - accuracy: 0.9750 - val_loss: 0.1839 - val_accuracy: 0.9667\n",
            "Epoch 179/200\n",
            "120/120 [==============================] - 0s 159us/step - loss: 0.1506 - accuracy: 0.9750 - val_loss: 0.1885 - val_accuracy: 0.9667\n",
            "Epoch 180/200\n",
            "120/120 [==============================] - 0s 167us/step - loss: 0.1503 - accuracy: 0.9750 - val_loss: 0.1818 - val_accuracy: 0.9667\n",
            "Epoch 181/200\n",
            "120/120 [==============================] - 0s 163us/step - loss: 0.1486 - accuracy: 0.9750 - val_loss: 0.1863 - val_accuracy: 0.9667\n",
            "Epoch 182/200\n",
            "120/120 [==============================] - 0s 173us/step - loss: 0.1482 - accuracy: 0.9750 - val_loss: 0.1845 - val_accuracy: 0.9667\n",
            "Epoch 183/200\n",
            "120/120 [==============================] - 0s 177us/step - loss: 0.1471 - accuracy: 0.9750 - val_loss: 0.1838 - val_accuracy: 0.9667\n",
            "Epoch 184/200\n",
            "120/120 [==============================] - 0s 192us/step - loss: 0.1468 - accuracy: 0.9750 - val_loss: 0.1762 - val_accuracy: 0.9667\n",
            "Epoch 185/200\n",
            "120/120 [==============================] - 0s 196us/step - loss: 0.1463 - accuracy: 0.9750 - val_loss: 0.1879 - val_accuracy: 0.9667\n",
            "Epoch 186/200\n",
            "120/120 [==============================] - 0s 202us/step - loss: 0.1452 - accuracy: 0.9750 - val_loss: 0.1771 - val_accuracy: 0.9667\n",
            "Epoch 187/200\n",
            "120/120 [==============================] - 0s 175us/step - loss: 0.1443 - accuracy: 0.9750 - val_loss: 0.1737 - val_accuracy: 0.9667\n",
            "Epoch 188/200\n",
            "120/120 [==============================] - 0s 194us/step - loss: 0.1465 - accuracy: 0.9750 - val_loss: 0.1869 - val_accuracy: 0.9667\n",
            "Epoch 189/200\n",
            "120/120 [==============================] - 0s 167us/step - loss: 0.1416 - accuracy: 0.9750 - val_loss: 0.1738 - val_accuracy: 0.9667\n",
            "Epoch 190/200\n",
            "120/120 [==============================] - 0s 167us/step - loss: 0.1426 - accuracy: 0.9750 - val_loss: 0.1767 - val_accuracy: 0.9667\n",
            "Epoch 191/200\n",
            "120/120 [==============================] - 0s 172us/step - loss: 0.1412 - accuracy: 0.9750 - val_loss: 0.1751 - val_accuracy: 0.9667\n",
            "Epoch 192/200\n",
            "120/120 [==============================] - 0s 158us/step - loss: 0.1400 - accuracy: 0.9750 - val_loss: 0.1698 - val_accuracy: 0.9667\n",
            "Epoch 193/200\n",
            "120/120 [==============================] - 0s 173us/step - loss: 0.1387 - accuracy: 0.9750 - val_loss: 0.1743 - val_accuracy: 0.9667\n",
            "Epoch 194/200\n",
            "120/120 [==============================] - 0s 172us/step - loss: 0.1378 - accuracy: 0.9750 - val_loss: 0.1731 - val_accuracy: 0.9667\n",
            "Epoch 195/200\n",
            "120/120 [==============================] - 0s 157us/step - loss: 0.1374 - accuracy: 0.9750 - val_loss: 0.1717 - val_accuracy: 0.9667\n",
            "Epoch 196/200\n",
            "120/120 [==============================] - 0s 172us/step - loss: 0.1368 - accuracy: 0.9750 - val_loss: 0.1741 - val_accuracy: 0.9667\n",
            "Epoch 197/200\n",
            "120/120 [==============================] - 0s 170us/step - loss: 0.1356 - accuracy: 0.9750 - val_loss: 0.1714 - val_accuracy: 0.9667\n",
            "Epoch 198/200\n",
            "120/120 [==============================] - 0s 159us/step - loss: 0.1347 - accuracy: 0.9750 - val_loss: 0.1670 - val_accuracy: 0.9667\n",
            "Epoch 199/200\n",
            "120/120 [==============================] - 0s 173us/step - loss: 0.1342 - accuracy: 0.9750 - val_loss: 0.1672 - val_accuracy: 0.9667\n",
            "Epoch 200/200\n",
            "120/120 [==============================] - 0s 173us/step - loss: 0.1349 - accuracy: 0.9750 - val_loss: 0.1708 - val_accuracy: 0.9667\n"
          ],
          "name": "stdout"
        }
      ]
    },
    {
      "cell_type": "markdown",
      "metadata": {
        "id": "UNDwep8X7B5A"
      },
      "source": [
        "학습 결과 그려보기\n"
      ]
    },
    {
      "cell_type": "code",
      "metadata": {
        "id": "mKr2xlqs682D",
        "outputId": "93288018-898f-4722-b26d-3e909f768c6e",
        "colab": {
          "base_uri": "https://localhost:8080/",
          "height": 350
        }
      },
      "source": [
        "import matplotlib.pyplot as plt\n",
        "\n",
        "his_dict = history.history\n",
        "loss = his_dict['loss']\n",
        "val_loss = his_dict['val_loss'] # 검증 데이터가 있는 경우 ‘val_’ 수식어가 붙습니다.\n",
        "\n",
        "epochs = range(1, len(loss) + 1)\n",
        "fig = plt.figure(figsize = (10, 5))\n",
        "\n",
        "# 훈련 및 검증 손실 그리기\n",
        "ax1 = fig.add_subplot(1, 2, 1)\n",
        "ax1.plot(epochs, loss, color = 'blue', label = 'train_loss')\n",
        "ax1.plot(epochs, val_loss, color = 'orange', label = 'val_loss')\n",
        "ax1.set_title('train and val loss')\n",
        "ax1.set_xlabel('epochs')\n",
        "ax1.set_ylabel('loss')\n",
        "ax1.legend()\n",
        "\n",
        "acc = his_dict['accuracy']\n",
        "val_acc = his_dict['val_accuracy']\n",
        "\n",
        "# 훈련 및 검증 정확도 그리기\n",
        "ax2 = fig.add_subplot(1, 2, 2)\n",
        "ax2.plot(epochs, acc, color = 'blue', label = 'train_acc')\n",
        "ax2.plot(epochs, val_acc, color = 'orange', label = 'val_acc')\n",
        "ax2.set_title('train and val acc')\n",
        "ax2.set_xlabel('epochs')\n",
        "ax2.set_ylabel('acc')\n",
        "ax2.legend()\n",
        "\n",
        "plt.show()\n"
      ],
      "execution_count": null,
      "outputs": [
        {
          "output_type": "display_data",
          "data": {
            "image/png": "[encoded data removed]",
            "text/plain": [
              "<Figure size 720x360 with 2 Axes>"
            ]
          },
          "metadata": {
            "tags": [],
            "needs_background": "light"
          }
        }
      ]
    },
    {
      "cell_type": "markdown",
      "metadata": {
        "id": "NTjfBVCm7WXn"
      },
      "source": [
        "모델평가하기\n"
      ]
    },
    {
      "cell_type": "code",
      "metadata": {
        "id": "IHh71EJf7G4O",
        "outputId": "1d214c5b-114a-47e6-c849-6478fe7ec00f",
        "colab": {
          "base_uri": "https://localhost:8080/",
          "height": 52
        }
      },
      "source": [
        "scores = model.evaluate(X_test, y_test)\n",
        "print(\"%s: %.2f%%\" %(model.metrics_names[1], scores[1]*100))\n",
        "\n"
      ],
      "execution_count": null,
      "outputs": [
        {
          "output_type": "stream",
          "text": [
            "\r30/30 [==============================] - 0s 97us/step\n",
            "accuracy: 96.67%\n"
          ],
          "name": "stdout"
        }
      ]
    },
    {
      "cell_type": "code",
      "metadata": {
        "id": "u_NOQEhh7XuN"
      },
      "source": [
        ""
      ],
      "execution_count": null,
      "outputs": []
    },
    {
      "cell_type": "code",
      "metadata": {
        "id": "Kj5T37oE9SVK"
      },
      "source": [
        ""
      ],
      "execution_count": null,
      "outputs": []
    }
  ]
}