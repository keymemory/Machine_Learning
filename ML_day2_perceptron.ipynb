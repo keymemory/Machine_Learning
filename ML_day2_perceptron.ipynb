{
  "nbformat": 4,
  "nbformat_minor": 0,
  "metadata": {
    "colab": {
      "name": "ML_day2_perceptron.ipynb",
      "provenance": [],
      "collapsed_sections": [],
      "authorship_tag": "ABX9TyP0I3ggXb41TpkV+N0tXdE2",
      "include_colab_link": true
    },
    "kernelspec": {
      "name": "python3",
      "display_name": "Python 3"
    }
  },
  "cells": [
    {
      "cell_type": "markdown",
      "metadata": {
        "id": "view-in-github",
        "colab_type": "text"
      },
      "source": [
        "<a href=\"https://colab.research.google.com/github/keymemory/DYC_Machine_Learning/blob/main/ML_day2_perceptron.ipynb\" target=\"_parent\"><img src=\"https://colab.research.google.com/assets/colab-badge.svg\" alt=\"Open In Colab\"/></a>"
      ]
    },
    {
      "cell_type": "code",
      "metadata": {
        "id": "l-20ZqQ5NGz6",
        "outputId": "ea51e3a4-20b5-4b73-ffbf-a8cf95bf11de",
        "colab": {
          "base_uri": "https://localhost:8080/",
          "height": 1000
        }
      },
      "source": [
        "import tensorflow as tf\n",
        "import numpy as np\n",
        "\n",
        "from tensorflow.keras.models import Sequential\n",
        "from tensorflow.keras.layers import Dense\n",
        "from tensorflow.keras.optimizers import SGD\n",
        "from tensorflow.keras.losses import mse\n",
        "\n",
        "# 시드 설정\n",
        "tf.random.set_seed(777)\n",
        "\n",
        "# 데이터 준비하기\n",
        "x = np.array([[0, 0], [1, 0], [0, 1], [1, 1]])\n",
        "y = np.array([[0], [1], [1], [0]])\n",
        "\n",
        "# 모델 구성하기\n",
        "model = Sequential()\n",
        "\n",
        "# 단층 퍼셉트론 구성\n",
        "model.add(Dense(1, input_shape = (2, ), activation = 'linear'))\n",
        "\n",
        "# 모델 준비\n",
        "# 바꿔가면서 실험해보고, loss 값의 변화도 확인\n",
        "big_lr = 0.9\n",
        "mid_lr = 0.3 # 최적의 학습률 lr은 0.1, 0.3\n",
        "small_lr = 1e-10\n",
        "model.compile(optimizer = SGD(mid_lr), loss = mse, metrics = ['acc']) # list 형태로 평가지표를 전달합니다\n",
        "\n",
        "# 학습시키기 \n",
        "history = model.fit(x, y, epochs = 30)\n",
        "\n"
      ],
      "execution_count": null,
      "outputs": [
        {
          "output_type": "stream",
          "text": [
            "Epoch 1/30\n",
            "1/1 [==============================] - 0s 1ms/step - loss: 0.9969 - acc: 0.7500\n",
            "Epoch 2/30\n",
            "1/1 [==============================] - 0s 2ms/step - loss: 0.4444 - acc: 0.5000\n",
            "Epoch 3/30\n",
            "1/1 [==============================] - 0s 2ms/step - loss: 0.3900 - acc: 0.5000\n",
            "Epoch 4/30\n",
            "1/1 [==============================] - 0s 2ms/step - loss: 0.3513 - acc: 0.5000\n",
            "Epoch 5/30\n",
            "1/1 [==============================] - 0s 2ms/step - loss: 0.3233 - acc: 0.5000\n",
            "Epoch 6/30\n",
            "1/1 [==============================] - 0s 1ms/step - loss: 0.3031 - acc: 0.5000\n",
            "Epoch 7/30\n",
            "1/1 [==============================] - 0s 2ms/step - loss: 0.2884 - acc: 0.5000\n",
            "Epoch 8/30\n",
            "1/1 [==============================] - 0s 1ms/step - loss: 0.2778 - acc: 0.5000\n",
            "Epoch 9/30\n",
            "1/1 [==============================] - 0s 1ms/step - loss: 0.2702 - acc: 0.5000\n",
            "Epoch 10/30\n",
            "1/1 [==============================] - 0s 1ms/step - loss: 0.2646 - acc: 0.5000\n",
            "Epoch 11/30\n",
            "1/1 [==============================] - 0s 1ms/step - loss: 0.2606 - acc: 0.5000\n",
            "Epoch 12/30\n",
            "1/1 [==============================] - 0s 1ms/step - loss: 0.2577 - acc: 0.5000\n",
            "Epoch 13/30\n",
            "1/1 [==============================] - 0s 2ms/step - loss: 0.2556 - acc: 0.5000\n",
            "Epoch 14/30\n",
            "1/1 [==============================] - 0s 2ms/step - loss: 0.2541 - acc: 0.5000\n",
            "Epoch 15/30\n",
            "1/1 [==============================] - 0s 1ms/step - loss: 0.2530 - acc: 0.5000\n",
            "Epoch 16/30\n",
            "1/1 [==============================] - 0s 1ms/step - loss: 0.2521 - acc: 0.5000\n",
            "Epoch 17/30\n",
            "1/1 [==============================] - 0s 2ms/step - loss: 0.2516 - acc: 0.5000\n",
            "Epoch 18/30\n",
            "1/1 [==============================] - 0s 1ms/step - loss: 0.2511 - acc: 0.5000\n",
            "Epoch 19/30\n",
            "1/1 [==============================] - 0s 2ms/step - loss: 0.2508 - acc: 0.5000\n",
            "Epoch 20/30\n",
            "1/1 [==============================] - 0s 2ms/step - loss: 0.2506 - acc: 0.5000\n",
            "Epoch 21/30\n",
            "1/1 [==============================] - 0s 2ms/step - loss: 0.2504 - acc: 0.5000\n",
            "Epoch 22/30\n",
            "1/1 [==============================] - 0s 2ms/step - loss: 0.2503 - acc: 0.5000\n",
            "Epoch 23/30\n",
            "1/1 [==============================] - 0s 2ms/step - loss: 0.2502 - acc: 0.5000\n",
            "Epoch 24/30\n",
            "1/1 [==============================] - 0s 2ms/step - loss: 0.2502 - acc: 0.5000\n",
            "Epoch 25/30\n",
            "1/1 [==============================] - 0s 1ms/step - loss: 0.2501 - acc: 0.5000\n",
            "Epoch 26/30\n",
            "1/1 [==============================] - 0s 2ms/step - loss: 0.2501 - acc: 0.5000\n",
            "Epoch 27/30\n",
            "1/1 [==============================] - 0s 2ms/step - loss: 0.2501 - acc: 0.5000\n",
            "Epoch 28/30\n",
            "1/1 [==============================] - 0s 2ms/step - loss: 0.2501 - acc: 0.5000\n",
            "Epoch 29/30\n",
            "1/1 [==============================] - 0s 2ms/step - loss: 0.2500 - acc: 0.5000\n",
            "Epoch 30/30\n",
            "1/1 [==============================] - 0s 2ms/step - loss: 0.2500 - acc: 0.5000\n"
          ],
          "name": "stdout"
        }
      ]
    },
    {
      "cell_type": "code",
      "metadata": {
        "id": "Wm2gSO64NZba",
        "outputId": "be36beb2-ba08-47db-d690-455cd3120309",
        "colab": {
          "base_uri": "https://localhost:8080/",
          "height": 350
        }
      },
      "source": [
        "import matplotlib.pyplot as plt\n",
        "\n",
        "his_dict = history.history\n",
        "loss = his_dict['loss'] # 손실값\n",
        "\n",
        "epochs = range(1, len(loss) + 1)\n",
        "fig = plt.figure(figsize = (10, 5))\n",
        "\n",
        "# 훈련 및 검증 손실 그리기\n",
        "ax1 = fig.add_subplot(1, 2, 1)\n",
        "ax1.plot(epochs, loss, color = 'orange', label = 'train_loss')\n",
        "ax1.set_title('train loss')\n",
        "ax1.set_xlabel('epochs')\n",
        "ax1.set_ylabel('loss')\n",
        "ax1.legend()\n",
        "\n",
        "acc = his_dict['acc'] # acc 정확도\n",
        "\n",
        "# 훈련 및 검증 정확도 그리기\n",
        "ax2 = fig.add_subplot(1, 2, 2)\n",
        "ax2.plot(epochs, acc, color = 'blue', label = 'train_accuracy')\n",
        "ax2.set_title('train accuracy')\n",
        "ax2.set_xlabel('epochs')\n",
        "ax2.set_ylabel('accuracy')\n",
        "ax2.legend()\n",
        "\n",
        "plt.show()\n"
      ],
      "execution_count": null,
      "outputs": [
        {
          "output_type": "display_data",
          "data": {
            "image/png": "[encoded data removed]",
            "text/plain": [
              "<Figure size 720x360 with 2 Axes>"
            ]
          },
          "metadata": {
            "tags": [],
            "needs_background": "light"
          }
        }
      ]
    },
    {
      "cell_type": "code",
      "metadata": {
        "id": "0kAzQtSsN04d"
      },
      "source": [
        ""
      ],
      "execution_count": null,
      "outputs": []
    }
  ]
}