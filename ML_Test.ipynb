{
  "nbformat": 4,
  "nbformat_minor": 0,
  "metadata": {
    "colab": {
      "name": "ML_Test.ipynb",
      "provenance": [],
      "collapsed_sections": [],
      "authorship_tag": "ABX9TyNquoiLe3B6wen2WaaRuifz",
      "include_colab_link": true
    },
    "kernelspec": {
      "name": "python3",
      "display_name": "Python 3"
    },
    "accelerator": "GPU"
  },
  "cells": [
    {
      "cell_type": "markdown",
      "metadata": {
        "id": "view-in-github",
        "colab_type": "text"
      },
      "source": [
        "<a href=\"https://colab.research.google.com/github/keymemory/DYC_Machine_Learning/blob/main/ML_Test.ipynb\" target=\"_parent\"><img src=\"https://colab.research.google.com/assets/colab-badge.svg\" alt=\"Open In Colab\"/></a>"
      ]
    },
    {
      "cell_type": "code",
      "metadata": {
        "id": "jJ4rr79HJHSf",
        "outputId": "9de346dc-1ee3-42e5-87f7-df8decb65e12",
        "colab": {
          "base_uri": "https://localhost:8080/",
          "height": 125
        }
      },
      "source": [
        "from google.colab import drive\n",
        "drive.mount('/content/drive')"
      ],
      "execution_count": null,
      "outputs": [
        {
          "output_type": "stream",
          "text": [
            "Go to this URL in a browser: https://accounts.google.com/o/oauth2/auth?client_id=947318989803-6bn6qk8qdgf4n4g3pfee6491hc0brc4i.apps.googleusercontent.com&redirect_uri=urn%3aietf%3awg%3aoauth%3a2.0%3aoob&response_type=code&scope=email%20https%3a%2f%2fwww.googleapis.com%2fauth%2fdocs.test%20https%3a%2f%2fwww.googleapis.com%2fauth%2fdrive%20https%3a%2f%2fwww.googleapis.com%2fauth%2fdrive.photos.readonly%20https%3a%2f%2fwww.googleapis.com%2fauth%2fpeopleapi.readonly\n",
            "\n",
            "Enter your authorization code:\n",
            "··········\n",
            "Mounted at /content/drive\n"
          ],
          "name": "stdout"
        }
      ]
    },
    {
      "cell_type": "code",
      "metadata": {
        "id": "XNIGn273IdAm",
        "outputId": "4587bb0f-e27a-4a11-f339-cecbc00f62ba",
        "colab": {
          "base_uri": "https://localhost:8080/",
          "height": 70
        }
      },
      "source": [
        "import matplotlib.pyplot as plt\n",
        "import pandas as pd\n",
        "import numpy as np\n",
        "import seaborn as sns\n",
        "\n",
        "import tensorflow as tf\n",
        "import keras\n",
        "from keras.models import Sequential\n",
        "from keras.layers.core import Dense"
      ],
      "execution_count": null,
      "outputs": [
        {
          "output_type": "stream",
          "text": [
            "/usr/local/lib/python3.6/dist-packages/statsmodels/tools/_testing.py:19: FutureWarning: pandas.util.testing is deprecated. Use the functions in the public API at pandas.testing instead.\n",
            "  import pandas.util.testing as tm\n",
            "Using TensorFlow backend.\n"
          ],
          "name": "stderr"
        }
      ]
    },
    {
      "cell_type": "code",
      "metadata": {
        "id": "ROQRCwKkIq6E",
        "outputId": "89d194b7-f5bd-4dc3-93b3-777dd6a9be38",
        "colab": {
          "base_uri": "https://localhost:8080/",
          "height": 158
        }
      },
      "source": [
        "data = pd.read_csv('/content/drive/My Drive/Colab Notebooks/winequality.csv')\n",
        "print(data.head())"
      ],
      "execution_count": null,
      "outputs": [
        {
          "output_type": "stream",
          "text": [
            "   fixed acidity  volatile acidity  citric acid  ...  sulphates  alcohol  quality\n",
            "0            7.4              0.70         0.00  ...       0.56      9.4        5\n",
            "1            7.8              0.88         0.00  ...       0.68      9.8        5\n",
            "2            7.8              0.76         0.04  ...       0.65      9.8        5\n",
            "3           11.2              0.28         0.56  ...       0.58      9.8        6\n",
            "4            7.4              0.70         0.00  ...       0.56      9.4        5\n",
            "\n",
            "[5 rows x 12 columns]\n"
          ],
          "name": "stdout"
        }
      ]
    },
    {
      "cell_type": "code",
      "metadata": {
        "id": "gk1BPRnfJEbC",
        "outputId": "86ef964b-d016-4bf1-e948-3fdca6ac133c",
        "colab": {
          "base_uri": "https://localhost:8080/",
          "height": 34
        }
      },
      "source": [
        "X = data.iloc[:, 0:11]\n",
        "y = data.iloc[:, 11]\n",
        "\n",
        "print(set(y))"
      ],
      "execution_count": null,
      "outputs": [
        {
          "output_type": "stream",
          "text": [
            "{3, 4, 5, 6, 7, 8}\n"
          ],
          "name": "stdout"
        }
      ]
    },
    {
      "cell_type": "code",
      "metadata": {
        "id": "W5Tsk0yuLc4Q",
        "outputId": "6086e0d9-76b1-47d1-94e0-9167132f779b",
        "colab": {
          "base_uri": "https://localhost:8080/",
          "height": 34
        }
      },
      "source": [
        "from sklearn.preprocessing import LabelEncoder\n",
        "from keras.utils import np_utils\n",
        "\n",
        "encoder = LabelEncoder()\n",
        "encoder.fit(y)\n",
        "Y_encodered = encoder.transform(y)\n",
        "\n",
        "print(Y_encodered)\n",
        "\n",
        "Y = np_utils.to_categorical(Y_encodered)\n"
      ],
      "execution_count": null,
      "outputs": [
        {
          "output_type": "stream",
          "text": [
            "[2 2 2 ... 3 2 3]\n"
          ],
          "name": "stdout"
        }
      ]
    },
    {
      "cell_type": "code",
      "metadata": {
        "id": "0m92G09ENb3I",
        "outputId": "8a2e0ca7-6f2b-4378-d1af-435efb2b7b62",
        "colab": {
          "base_uri": "https://localhost:8080/",
          "height": 87
        }
      },
      "source": [
        "from sklearn.model_selection import train_test_split\n",
        "\n",
        "X_train, X_test, y_train, y_test = train_test_split(X, Y, test_size=0.2)\n",
        "\n",
        "print(X_train.shape)\n",
        "print(y_train.shape)\n",
        "print(X_test.shape)\n",
        "print(y_test.shape)\n"
      ],
      "execution_count": null,
      "outputs": [
        {
          "output_type": "stream",
          "text": [
            "(1279, 11)\n",
            "(1279, 6)\n",
            "(320, 11)\n",
            "(320, 6)\n"
          ],
          "name": "stdout"
        }
      ]
    },
    {
      "cell_type": "code",
      "metadata": {
        "id": "ahRyEwXBQVp4"
      },
      "source": [
        "X_mean = np.mean(X_train, axis = 0)\n",
        "X_std = np.std(X_train, axis = 0)\n",
        "\n",
        "X_train = (X_train - X_mean) / X_std\n",
        "X_test = (X_test - X_mean) / X_std\n",
        "\n",
        "from sklearn.model_selection import train_test_split\n",
        "\n",
        "X_train, X_val, y_train, y_val = train_test_split(X_train, y_train, \n",
        "                                                  test_size = 0.2, \n",
        "                                                  random_state = 777)\n"
      ],
      "execution_count": null,
      "outputs": []
    },
    {
      "cell_type": "code",
      "metadata": {
        "id": "dgZywSFeN2oD"
      },
      "source": [
        "np.random.seed(7)\n",
        "\n",
        "model = Sequential()\n",
        "model.add(Dense(64, input_shape=(11,), activation='relu'))\n",
        "model.add(Dense(12, activation='relu'))\n",
        "model.add(Dense(6, activation='softmax'))"
      ],
      "execution_count": null,
      "outputs": []
    },
    {
      "cell_type": "code",
      "metadata": {
        "id": "M04P-3ELN2eq"
      },
      "source": [
        "model.compile(loss='categorical_crossentropy', optimizer='adam',\n",
        "              metrics=['accuracy'])"
      ],
      "execution_count": null,
      "outputs": []
    },
    {
      "cell_type": "code",
      "metadata": {
        "id": "ta-sDB5wN6t_",
        "outputId": "053574ac-3aae-46ac-8fc0-a0e47d54cb49",
        "colab": {
          "base_uri": "https://localhost:8080/",
          "height": 1000
        }
      },
      "source": [
        "history = model.fit(X_train, y_train,\n",
        "                    epochs=200, \n",
        "                    batch_size=10,\n",
        "                    validation_data = (X_test, y_test))\n"
      ],
      "execution_count": null,
      "outputs": [
        {
          "output_type": "stream",
          "text": [
            "Train on 1023 samples, validate on 320 samples\n",
            "Epoch 1/200\n",
            "1023/1023 [==============================] - 2s 2ms/step - loss: 1.4341 - accuracy: 0.4633 - val_loss: 1.1748 - val_accuracy: 0.5375\n",
            "Epoch 2/200\n",
            "1023/1023 [==============================] - 0s 443us/step - loss: 1.1040 - accuracy: 0.5699 - val_loss: 1.0352 - val_accuracy: 0.5688\n",
            "Epoch 3/200\n",
            "1023/1023 [==============================] - 0s 463us/step - loss: 1.0085 - accuracy: 0.5992 - val_loss: 0.9903 - val_accuracy: 0.5750\n",
            "Epoch 4/200\n",
            "1023/1023 [==============================] - 0s 446us/step - loss: 0.9733 - accuracy: 0.6051 - val_loss: 0.9738 - val_accuracy: 0.5938\n",
            "Epoch 5/200\n",
            "1023/1023 [==============================] - 0s 448us/step - loss: 0.9462 - accuracy: 0.6158 - val_loss: 0.9652 - val_accuracy: 0.6062\n",
            "Epoch 6/200\n",
            "1023/1023 [==============================] - 0s 455us/step - loss: 0.9251 - accuracy: 0.6237 - val_loss: 0.9548 - val_accuracy: 0.5969\n",
            "Epoch 7/200\n",
            "1023/1023 [==============================] - 0s 438us/step - loss: 0.9089 - accuracy: 0.6207 - val_loss: 0.9599 - val_accuracy: 0.6062\n",
            "Epoch 8/200\n",
            "1023/1023 [==============================] - 0s 463us/step - loss: 0.8968 - accuracy: 0.6334 - val_loss: 0.9478 - val_accuracy: 0.6094\n",
            "Epoch 9/200\n",
            "1023/1023 [==============================] - 0s 448us/step - loss: 0.8842 - accuracy: 0.6344 - val_loss: 0.9472 - val_accuracy: 0.6094\n",
            "Epoch 10/200\n",
            "1023/1023 [==============================] - 0s 451us/step - loss: 0.8736 - accuracy: 0.6325 - val_loss: 0.9425 - val_accuracy: 0.6156\n",
            "Epoch 11/200\n",
            "1023/1023 [==============================] - 0s 449us/step - loss: 0.8634 - accuracy: 0.6354 - val_loss: 0.9368 - val_accuracy: 0.6094\n",
            "Epoch 12/200\n",
            "1023/1023 [==============================] - 0s 461us/step - loss: 0.8563 - accuracy: 0.6354 - val_loss: 0.9395 - val_accuracy: 0.6031\n",
            "Epoch 13/200\n",
            "1023/1023 [==============================] - 0s 443us/step - loss: 0.8440 - accuracy: 0.6530 - val_loss: 0.9427 - val_accuracy: 0.6125\n",
            "Epoch 14/200\n",
            "1023/1023 [==============================] - 0s 462us/step - loss: 0.8434 - accuracy: 0.6442 - val_loss: 0.9448 - val_accuracy: 0.6156\n",
            "Epoch 15/200\n",
            "1023/1023 [==============================] - 0s 444us/step - loss: 0.8340 - accuracy: 0.6500 - val_loss: 0.9442 - val_accuracy: 0.6125\n",
            "Epoch 16/200\n",
            "1023/1023 [==============================] - 0s 450us/step - loss: 0.8284 - accuracy: 0.6540 - val_loss: 0.9413 - val_accuracy: 0.6281\n",
            "Epoch 17/200\n",
            "1023/1023 [==============================] - 0s 456us/step - loss: 0.8206 - accuracy: 0.6510 - val_loss: 0.9389 - val_accuracy: 0.6187\n",
            "Epoch 18/200\n",
            "1023/1023 [==============================] - 0s 448us/step - loss: 0.8164 - accuracy: 0.6481 - val_loss: 0.9320 - val_accuracy: 0.6344\n",
            "Epoch 19/200\n",
            "1023/1023 [==============================] - 0s 462us/step - loss: 0.8107 - accuracy: 0.6520 - val_loss: 0.9429 - val_accuracy: 0.6406\n",
            "Epoch 20/200\n",
            "1023/1023 [==============================] - 0s 444us/step - loss: 0.8061 - accuracy: 0.6598 - val_loss: 0.9396 - val_accuracy: 0.6250\n",
            "Epoch 21/200\n",
            "1023/1023 [==============================] - 0s 452us/step - loss: 0.8024 - accuracy: 0.6540 - val_loss: 0.9392 - val_accuracy: 0.6156\n",
            "Epoch 22/200\n",
            "1023/1023 [==============================] - 0s 459us/step - loss: 0.7949 - accuracy: 0.6510 - val_loss: 0.9460 - val_accuracy: 0.6281\n",
            "Epoch 23/200\n",
            "1023/1023 [==============================] - 0s 451us/step - loss: 0.7900 - accuracy: 0.6588 - val_loss: 0.9597 - val_accuracy: 0.6094\n",
            "Epoch 24/200\n",
            "1023/1023 [==============================] - 0s 446us/step - loss: 0.7870 - accuracy: 0.6637 - val_loss: 0.9426 - val_accuracy: 0.6250\n",
            "Epoch 25/200\n",
            "1023/1023 [==============================] - 0s 456us/step - loss: 0.7821 - accuracy: 0.6540 - val_loss: 0.9453 - val_accuracy: 0.6313\n",
            "Epoch 26/200\n",
            "1023/1023 [==============================] - 0s 436us/step - loss: 0.7725 - accuracy: 0.6676 - val_loss: 0.9637 - val_accuracy: 0.6281\n",
            "Epoch 27/200\n",
            "1023/1023 [==============================] - 0s 442us/step - loss: 0.7741 - accuracy: 0.6696 - val_loss: 0.9525 - val_accuracy: 0.6156\n",
            "Epoch 28/200\n",
            "1023/1023 [==============================] - 0s 447us/step - loss: 0.7672 - accuracy: 0.6735 - val_loss: 0.9536 - val_accuracy: 0.6344\n",
            "Epoch 29/200\n",
            "1023/1023 [==============================] - 0s 447us/step - loss: 0.7621 - accuracy: 0.6686 - val_loss: 0.9532 - val_accuracy: 0.6250\n",
            "Epoch 30/200\n",
            "1023/1023 [==============================] - 0s 456us/step - loss: 0.7556 - accuracy: 0.6764 - val_loss: 0.9711 - val_accuracy: 0.6125\n",
            "Epoch 31/200\n",
            "1023/1023 [==============================] - 1s 506us/step - loss: 0.7548 - accuracy: 0.6774 - val_loss: 0.9577 - val_accuracy: 0.6281\n",
            "Epoch 32/200\n",
            "1023/1023 [==============================] - 1s 501us/step - loss: 0.7480 - accuracy: 0.6901 - val_loss: 0.9611 - val_accuracy: 0.6219\n",
            "Epoch 33/200\n",
            "1023/1023 [==============================] - 0s 478us/step - loss: 0.7437 - accuracy: 0.6862 - val_loss: 0.9615 - val_accuracy: 0.6438\n",
            "Epoch 34/200\n",
            "1023/1023 [==============================] - 1s 505us/step - loss: 0.7392 - accuracy: 0.6823 - val_loss: 0.9842 - val_accuracy: 0.6219\n",
            "Epoch 35/200\n",
            "1023/1023 [==============================] - 0s 478us/step - loss: 0.7343 - accuracy: 0.6784 - val_loss: 0.9621 - val_accuracy: 0.6250\n",
            "Epoch 36/200\n",
            "1023/1023 [==============================] - 0s 488us/step - loss: 0.7335 - accuracy: 0.6891 - val_loss: 0.9814 - val_accuracy: 0.6187\n",
            "Epoch 37/200\n",
            "1023/1023 [==============================] - 1s 489us/step - loss: 0.7271 - accuracy: 0.6852 - val_loss: 0.9782 - val_accuracy: 0.6250\n",
            "Epoch 38/200\n",
            "1023/1023 [==============================] - 0s 483us/step - loss: 0.7230 - accuracy: 0.6921 - val_loss: 0.9660 - val_accuracy: 0.6313\n",
            "Epoch 39/200\n",
            "1023/1023 [==============================] - 0s 485us/step - loss: 0.7173 - accuracy: 0.6833 - val_loss: 0.9669 - val_accuracy: 0.6344\n",
            "Epoch 40/200\n",
            "1023/1023 [==============================] - 0s 474us/step - loss: 0.7139 - accuracy: 0.6940 - val_loss: 0.9787 - val_accuracy: 0.6094\n",
            "Epoch 41/200\n",
            "1023/1023 [==============================] - 1s 493us/step - loss: 0.7110 - accuracy: 0.7009 - val_loss: 0.9801 - val_accuracy: 0.6219\n",
            "Epoch 42/200\n",
            "1023/1023 [==============================] - 0s 450us/step - loss: 0.7076 - accuracy: 0.6872 - val_loss: 0.9786 - val_accuracy: 0.6375\n",
            "Epoch 43/200\n",
            "1023/1023 [==============================] - 0s 453us/step - loss: 0.7064 - accuracy: 0.6901 - val_loss: 0.9803 - val_accuracy: 0.6375\n",
            "Epoch 44/200\n",
            "1023/1023 [==============================] - 0s 445us/step - loss: 0.7000 - accuracy: 0.6960 - val_loss: 0.9771 - val_accuracy: 0.6281\n",
            "Epoch 45/200\n",
            "1023/1023 [==============================] - 0s 443us/step - loss: 0.6936 - accuracy: 0.7097 - val_loss: 1.0009 - val_accuracy: 0.6313\n",
            "Epoch 46/200\n",
            "1023/1023 [==============================] - 0s 462us/step - loss: 0.6921 - accuracy: 0.7087 - val_loss: 0.9855 - val_accuracy: 0.6281\n",
            "Epoch 47/200\n",
            "1023/1023 [==============================] - 0s 434us/step - loss: 0.6913 - accuracy: 0.7136 - val_loss: 0.9824 - val_accuracy: 0.6375\n",
            "Epoch 48/200\n",
            "1023/1023 [==============================] - 0s 451us/step - loss: 0.6824 - accuracy: 0.7175 - val_loss: 0.9977 - val_accuracy: 0.6250\n",
            "Epoch 49/200\n",
            "1023/1023 [==============================] - 0s 443us/step - loss: 0.6857 - accuracy: 0.7009 - val_loss: 1.0043 - val_accuracy: 0.6375\n",
            "Epoch 50/200\n",
            "1023/1023 [==============================] - 0s 443us/step - loss: 0.6848 - accuracy: 0.7126 - val_loss: 0.9847 - val_accuracy: 0.6500\n",
            "Epoch 51/200\n",
            "1023/1023 [==============================] - 0s 454us/step - loss: 0.6711 - accuracy: 0.7204 - val_loss: 0.9817 - val_accuracy: 0.6438\n",
            "Epoch 52/200\n",
            "1023/1023 [==============================] - 0s 447us/step - loss: 0.6701 - accuracy: 0.7214 - val_loss: 1.0085 - val_accuracy: 0.6375\n",
            "Epoch 53/200\n",
            "1023/1023 [==============================] - 0s 474us/step - loss: 0.6696 - accuracy: 0.7312 - val_loss: 1.0064 - val_accuracy: 0.6438\n",
            "Epoch 54/200\n",
            "1023/1023 [==============================] - 0s 440us/step - loss: 0.6589 - accuracy: 0.7283 - val_loss: 1.0218 - val_accuracy: 0.6156\n",
            "Epoch 55/200\n",
            "1023/1023 [==============================] - 0s 441us/step - loss: 0.6626 - accuracy: 0.7302 - val_loss: 1.0102 - val_accuracy: 0.6250\n",
            "Epoch 56/200\n",
            "1023/1023 [==============================] - 0s 458us/step - loss: 0.6594 - accuracy: 0.7292 - val_loss: 1.0148 - val_accuracy: 0.6375\n",
            "Epoch 57/200\n",
            "1023/1023 [==============================] - 0s 451us/step - loss: 0.6510 - accuracy: 0.7312 - val_loss: 1.0047 - val_accuracy: 0.6469\n",
            "Epoch 58/200\n",
            "1023/1023 [==============================] - 0s 434us/step - loss: 0.6469 - accuracy: 0.7341 - val_loss: 1.0187 - val_accuracy: 0.6406\n",
            "Epoch 59/200\n",
            "1023/1023 [==============================] - 0s 448us/step - loss: 0.6490 - accuracy: 0.7400 - val_loss: 1.0224 - val_accuracy: 0.6375\n",
            "Epoch 60/200\n",
            "1023/1023 [==============================] - 0s 458us/step - loss: 0.6431 - accuracy: 0.7419 - val_loss: 1.0386 - val_accuracy: 0.6094\n",
            "Epoch 61/200\n",
            "1023/1023 [==============================] - 0s 455us/step - loss: 0.6414 - accuracy: 0.7234 - val_loss: 1.0239 - val_accuracy: 0.6438\n",
            "Epoch 62/200\n",
            "1023/1023 [==============================] - 0s 452us/step - loss: 0.6395 - accuracy: 0.7449 - val_loss: 1.0249 - val_accuracy: 0.6344\n",
            "Epoch 63/200\n",
            "1023/1023 [==============================] - 0s 447us/step - loss: 0.6364 - accuracy: 0.7380 - val_loss: 1.0396 - val_accuracy: 0.6375\n",
            "Epoch 64/200\n",
            "1023/1023 [==============================] - 0s 459us/step - loss: 0.6284 - accuracy: 0.7507 - val_loss: 1.0362 - val_accuracy: 0.6219\n",
            "Epoch 65/200\n",
            "1023/1023 [==============================] - 0s 449us/step - loss: 0.6274 - accuracy: 0.7478 - val_loss: 1.0340 - val_accuracy: 0.6562\n",
            "Epoch 66/200\n",
            "1023/1023 [==============================] - 0s 445us/step - loss: 0.6295 - accuracy: 0.7556 - val_loss: 1.0600 - val_accuracy: 0.6344\n",
            "Epoch 67/200\n",
            "1023/1023 [==============================] - 0s 445us/step - loss: 0.6222 - accuracy: 0.7517 - val_loss: 1.0802 - val_accuracy: 0.6219\n",
            "Epoch 68/200\n",
            "1023/1023 [==============================] - 0s 473us/step - loss: 0.6225 - accuracy: 0.7410 - val_loss: 1.0411 - val_accuracy: 0.6375\n",
            "Epoch 69/200\n",
            "1023/1023 [==============================] - 0s 456us/step - loss: 0.6148 - accuracy: 0.7439 - val_loss: 1.0484 - val_accuracy: 0.6469\n",
            "Epoch 70/200\n",
            "1023/1023 [==============================] - 0s 440us/step - loss: 0.6154 - accuracy: 0.7527 - val_loss: 1.0614 - val_accuracy: 0.6500\n",
            "Epoch 71/200\n",
            "1023/1023 [==============================] - 0s 454us/step - loss: 0.6081 - accuracy: 0.7586 - val_loss: 1.0570 - val_accuracy: 0.6375\n",
            "Epoch 72/200\n",
            "1023/1023 [==============================] - 0s 458us/step - loss: 0.6076 - accuracy: 0.7537 - val_loss: 1.0886 - val_accuracy: 0.6000\n",
            "Epoch 73/200\n",
            "1023/1023 [==============================] - 0s 448us/step - loss: 0.6039 - accuracy: 0.7488 - val_loss: 1.0754 - val_accuracy: 0.6281\n",
            "Epoch 74/200\n",
            "1023/1023 [==============================] - 0s 455us/step - loss: 0.5955 - accuracy: 0.7546 - val_loss: 1.0804 - val_accuracy: 0.6281\n",
            "Epoch 75/200\n",
            "1023/1023 [==============================] - 0s 454us/step - loss: 0.5927 - accuracy: 0.7566 - val_loss: 1.0840 - val_accuracy: 0.6250\n",
            "Epoch 76/200\n",
            "1023/1023 [==============================] - 0s 463us/step - loss: 0.5932 - accuracy: 0.7595 - val_loss: 1.0691 - val_accuracy: 0.6500\n",
            "Epoch 77/200\n",
            "1023/1023 [==============================] - 0s 442us/step - loss: 0.5929 - accuracy: 0.7615 - val_loss: 1.0758 - val_accuracy: 0.6375\n",
            "Epoch 78/200\n",
            "1023/1023 [==============================] - 0s 450us/step - loss: 0.5865 - accuracy: 0.7595 - val_loss: 1.0627 - val_accuracy: 0.6406\n",
            "Epoch 79/200\n",
            "1023/1023 [==============================] - 0s 459us/step - loss: 0.5842 - accuracy: 0.7713 - val_loss: 1.0835 - val_accuracy: 0.6438\n",
            "Epoch 80/200\n",
            "1023/1023 [==============================] - 0s 446us/step - loss: 0.5856 - accuracy: 0.7527 - val_loss: 1.0611 - val_accuracy: 0.6406\n",
            "Epoch 81/200\n",
            "1023/1023 [==============================] - 0s 455us/step - loss: 0.5811 - accuracy: 0.7752 - val_loss: 1.0827 - val_accuracy: 0.6250\n",
            "Epoch 82/200\n",
            "1023/1023 [==============================] - 0s 445us/step - loss: 0.5770 - accuracy: 0.7732 - val_loss: 1.1143 - val_accuracy: 0.6406\n",
            "Epoch 83/200\n",
            "1023/1023 [==============================] - 0s 441us/step - loss: 0.5730 - accuracy: 0.7595 - val_loss: 1.1020 - val_accuracy: 0.6250\n",
            "Epoch 84/200\n",
            "1023/1023 [==============================] - 0s 445us/step - loss: 0.5682 - accuracy: 0.7703 - val_loss: 1.1005 - val_accuracy: 0.6281\n",
            "Epoch 85/200\n",
            "1023/1023 [==============================] - 0s 453us/step - loss: 0.5686 - accuracy: 0.7605 - val_loss: 1.1019 - val_accuracy: 0.6219\n",
            "Epoch 86/200\n",
            "1023/1023 [==============================] - 0s 459us/step - loss: 0.5634 - accuracy: 0.7732 - val_loss: 1.1049 - val_accuracy: 0.6313\n",
            "Epoch 87/200\n",
            "1023/1023 [==============================] - 0s 449us/step - loss: 0.5590 - accuracy: 0.7771 - val_loss: 1.1112 - val_accuracy: 0.6406\n",
            "Epoch 88/200\n",
            "1023/1023 [==============================] - 0s 451us/step - loss: 0.5659 - accuracy: 0.7703 - val_loss: 1.1292 - val_accuracy: 0.6313\n",
            "Epoch 89/200\n",
            "1023/1023 [==============================] - 0s 448us/step - loss: 0.5610 - accuracy: 0.7742 - val_loss: 1.1074 - val_accuracy: 0.6406\n",
            "Epoch 90/200\n",
            "1023/1023 [==============================] - 0s 454us/step - loss: 0.5557 - accuracy: 0.7713 - val_loss: 1.1192 - val_accuracy: 0.6313\n",
            "Epoch 91/200\n",
            "1023/1023 [==============================] - 0s 443us/step - loss: 0.5498 - accuracy: 0.7791 - val_loss: 1.0956 - val_accuracy: 0.6469\n",
            "Epoch 92/200\n",
            "1023/1023 [==============================] - 0s 441us/step - loss: 0.5411 - accuracy: 0.7781 - val_loss: 1.0998 - val_accuracy: 0.6469\n",
            "Epoch 93/200\n",
            "1023/1023 [==============================] - 0s 450us/step - loss: 0.5376 - accuracy: 0.7918 - val_loss: 1.1138 - val_accuracy: 0.6344\n",
            "Epoch 94/200\n",
            "1023/1023 [==============================] - 0s 428us/step - loss: 0.5426 - accuracy: 0.7859 - val_loss: 1.1412 - val_accuracy: 0.6281\n",
            "Epoch 95/200\n",
            "1023/1023 [==============================] - 0s 443us/step - loss: 0.5409 - accuracy: 0.7977 - val_loss: 1.1509 - val_accuracy: 0.6313\n",
            "Epoch 96/200\n",
            "1023/1023 [==============================] - 0s 455us/step - loss: 0.5343 - accuracy: 0.7810 - val_loss: 1.1346 - val_accuracy: 0.6375\n",
            "Epoch 97/200\n",
            "1023/1023 [==============================] - 0s 451us/step - loss: 0.5299 - accuracy: 0.7918 - val_loss: 1.1332 - val_accuracy: 0.6375\n",
            "Epoch 98/200\n",
            "1023/1023 [==============================] - 0s 472us/step - loss: 0.5285 - accuracy: 0.7849 - val_loss: 1.1532 - val_accuracy: 0.6187\n",
            "Epoch 99/200\n",
            "1023/1023 [==============================] - 0s 442us/step - loss: 0.5267 - accuracy: 0.7947 - val_loss: 1.1409 - val_accuracy: 0.6125\n",
            "Epoch 100/200\n",
            "1023/1023 [==============================] - 0s 447us/step - loss: 0.5260 - accuracy: 0.7977 - val_loss: 1.1482 - val_accuracy: 0.6125\n",
            "Epoch 101/200\n",
            "1023/1023 [==============================] - 0s 448us/step - loss: 0.5185 - accuracy: 0.7889 - val_loss: 1.1642 - val_accuracy: 0.6156\n",
            "Epoch 102/200\n",
            "1023/1023 [==============================] - 0s 465us/step - loss: 0.5144 - accuracy: 0.8025 - val_loss: 1.1308 - val_accuracy: 0.6406\n",
            "Epoch 103/200\n",
            "1023/1023 [==============================] - 0s 446us/step - loss: 0.5120 - accuracy: 0.7957 - val_loss: 1.1713 - val_accuracy: 0.6313\n",
            "Epoch 104/200\n",
            "1023/1023 [==============================] - 0s 451us/step - loss: 0.5105 - accuracy: 0.7957 - val_loss: 1.1742 - val_accuracy: 0.6187\n",
            "Epoch 105/200\n",
            "1023/1023 [==============================] - 0s 440us/step - loss: 0.5158 - accuracy: 0.7879 - val_loss: 1.1745 - val_accuracy: 0.6187\n",
            "Epoch 106/200\n",
            "1023/1023 [==============================] - 0s 459us/step - loss: 0.5035 - accuracy: 0.8016 - val_loss: 1.1531 - val_accuracy: 0.6344\n",
            "Epoch 107/200\n",
            "1023/1023 [==============================] - 0s 449us/step - loss: 0.5154 - accuracy: 0.7928 - val_loss: 1.1750 - val_accuracy: 0.6156\n",
            "Epoch 108/200\n",
            "1023/1023 [==============================] - 0s 480us/step - loss: 0.5028 - accuracy: 0.8035 - val_loss: 1.1857 - val_accuracy: 0.6250\n",
            "Epoch 109/200\n",
            "1023/1023 [==============================] - 0s 447us/step - loss: 0.4928 - accuracy: 0.8074 - val_loss: 1.1946 - val_accuracy: 0.6062\n",
            "Epoch 110/200\n",
            "1023/1023 [==============================] - 0s 456us/step - loss: 0.5000 - accuracy: 0.7986 - val_loss: 1.1721 - val_accuracy: 0.6125\n",
            "Epoch 111/200\n",
            "1023/1023 [==============================] - 0s 463us/step - loss: 0.4938 - accuracy: 0.8094 - val_loss: 1.1889 - val_accuracy: 0.6156\n",
            "Epoch 112/200\n",
            "1023/1023 [==============================] - 0s 456us/step - loss: 0.4886 - accuracy: 0.8065 - val_loss: 1.1955 - val_accuracy: 0.6156\n",
            "Epoch 113/200\n",
            "1023/1023 [==============================] - 0s 449us/step - loss: 0.4832 - accuracy: 0.8084 - val_loss: 1.1844 - val_accuracy: 0.6344\n",
            "Epoch 114/200\n",
            "1023/1023 [==============================] - 0s 445us/step - loss: 0.4854 - accuracy: 0.8006 - val_loss: 1.1971 - val_accuracy: 0.6219\n",
            "Epoch 115/200\n",
            "1023/1023 [==============================] - 0s 460us/step - loss: 0.4883 - accuracy: 0.8016 - val_loss: 1.1985 - val_accuracy: 0.6062\n",
            "Epoch 116/200\n",
            "1023/1023 [==============================] - 0s 442us/step - loss: 0.4822 - accuracy: 0.8113 - val_loss: 1.1769 - val_accuracy: 0.6219\n",
            "Epoch 117/200\n",
            "1023/1023 [==============================] - 0s 464us/step - loss: 0.4792 - accuracy: 0.8152 - val_loss: 1.2584 - val_accuracy: 0.5906\n",
            "Epoch 118/200\n",
            "1023/1023 [==============================] - 0s 438us/step - loss: 0.4820 - accuracy: 0.8162 - val_loss: 1.2235 - val_accuracy: 0.6281\n",
            "Epoch 119/200\n",
            "1023/1023 [==============================] - 0s 458us/step - loss: 0.4763 - accuracy: 0.8006 - val_loss: 1.2183 - val_accuracy: 0.6187\n",
            "Epoch 120/200\n",
            "1023/1023 [==============================] - 0s 440us/step - loss: 0.4713 - accuracy: 0.7996 - val_loss: 1.2381 - val_accuracy: 0.6062\n",
            "Epoch 121/200\n",
            "1023/1023 [==============================] - 0s 464us/step - loss: 0.4743 - accuracy: 0.7996 - val_loss: 1.2060 - val_accuracy: 0.6187\n",
            "Epoch 122/200\n",
            "1023/1023 [==============================] - 0s 446us/step - loss: 0.4625 - accuracy: 0.8094 - val_loss: 1.2268 - val_accuracy: 0.6156\n",
            "Epoch 123/200\n",
            "1023/1023 [==============================] - 0s 448us/step - loss: 0.4656 - accuracy: 0.8143 - val_loss: 1.2170 - val_accuracy: 0.6187\n",
            "Epoch 124/200\n",
            "1023/1023 [==============================] - 0s 449us/step - loss: 0.4604 - accuracy: 0.8211 - val_loss: 1.2467 - val_accuracy: 0.6187\n",
            "Epoch 125/200\n",
            "1023/1023 [==============================] - 0s 450us/step - loss: 0.4610 - accuracy: 0.8201 - val_loss: 1.2180 - val_accuracy: 0.6250\n",
            "Epoch 126/200\n",
            "1023/1023 [==============================] - 0s 456us/step - loss: 0.4545 - accuracy: 0.8231 - val_loss: 1.2272 - val_accuracy: 0.6219\n",
            "Epoch 127/200\n",
            "1023/1023 [==============================] - 0s 454us/step - loss: 0.4522 - accuracy: 0.8231 - val_loss: 1.2190 - val_accuracy: 0.6313\n",
            "Epoch 128/200\n",
            "1023/1023 [==============================] - 0s 454us/step - loss: 0.4561 - accuracy: 0.8211 - val_loss: 1.2717 - val_accuracy: 0.6156\n",
            "Epoch 129/200\n",
            "1023/1023 [==============================] - 0s 443us/step - loss: 0.4553 - accuracy: 0.8113 - val_loss: 1.2355 - val_accuracy: 0.6250\n",
            "Epoch 130/200\n",
            "1023/1023 [==============================] - 0s 454us/step - loss: 0.4414 - accuracy: 0.8280 - val_loss: 1.2608 - val_accuracy: 0.6000\n",
            "Epoch 131/200\n",
            "1023/1023 [==============================] - 0s 445us/step - loss: 0.4424 - accuracy: 0.8270 - val_loss: 1.2464 - val_accuracy: 0.6375\n",
            "Epoch 132/200\n",
            "1023/1023 [==============================] - 0s 458us/step - loss: 0.4495 - accuracy: 0.8250 - val_loss: 1.2993 - val_accuracy: 0.6094\n",
            "Epoch 133/200\n",
            "1023/1023 [==============================] - 0s 447us/step - loss: 0.4490 - accuracy: 0.8201 - val_loss: 1.2947 - val_accuracy: 0.6250\n",
            "Epoch 134/200\n",
            "1023/1023 [==============================] - 0s 457us/step - loss: 0.4401 - accuracy: 0.8123 - val_loss: 1.3330 - val_accuracy: 0.6031\n",
            "Epoch 135/200\n",
            "1023/1023 [==============================] - 0s 446us/step - loss: 0.4666 - accuracy: 0.8152 - val_loss: 1.2596 - val_accuracy: 0.6250\n",
            "Epoch 136/200\n",
            "1023/1023 [==============================] - 0s 450us/step - loss: 0.4337 - accuracy: 0.8270 - val_loss: 1.2864 - val_accuracy: 0.5906\n",
            "Epoch 137/200\n",
            "1023/1023 [==============================] - 0s 450us/step - loss: 0.4377 - accuracy: 0.8231 - val_loss: 1.2882 - val_accuracy: 0.6125\n",
            "Epoch 138/200\n",
            "1023/1023 [==============================] - 0s 445us/step - loss: 0.4261 - accuracy: 0.8358 - val_loss: 1.2611 - val_accuracy: 0.6281\n",
            "Epoch 139/200\n",
            "1023/1023 [==============================] - 0s 460us/step - loss: 0.4240 - accuracy: 0.8348 - val_loss: 1.2682 - val_accuracy: 0.6375\n",
            "Epoch 140/200\n",
            "1023/1023 [==============================] - 0s 437us/step - loss: 0.4182 - accuracy: 0.8328 - val_loss: 1.2870 - val_accuracy: 0.6062\n",
            "Epoch 141/200\n",
            "1023/1023 [==============================] - 0s 462us/step - loss: 0.4265 - accuracy: 0.8319 - val_loss: 1.3208 - val_accuracy: 0.5938\n",
            "Epoch 142/200\n",
            "1023/1023 [==============================] - 0s 439us/step - loss: 0.4218 - accuracy: 0.8309 - val_loss: 1.2741 - val_accuracy: 0.6281\n",
            "Epoch 143/200\n",
            "1023/1023 [==============================] - 0s 456us/step - loss: 0.4169 - accuracy: 0.8485 - val_loss: 1.3007 - val_accuracy: 0.5938\n",
            "Epoch 144/200\n",
            "1023/1023 [==============================] - 0s 455us/step - loss: 0.4234 - accuracy: 0.8221 - val_loss: 1.3162 - val_accuracy: 0.6062\n",
            "Epoch 145/200\n",
            "1023/1023 [==============================] - 0s 448us/step - loss: 0.4198 - accuracy: 0.8377 - val_loss: 1.3041 - val_accuracy: 0.6187\n",
            "Epoch 146/200\n",
            "1023/1023 [==============================] - 0s 446us/step - loss: 0.4147 - accuracy: 0.8387 - val_loss: 1.3155 - val_accuracy: 0.6062\n",
            "Epoch 147/200\n",
            "1023/1023 [==============================] - 0s 451us/step - loss: 0.4041 - accuracy: 0.8426 - val_loss: 1.3055 - val_accuracy: 0.6219\n",
            "Epoch 148/200\n",
            "1023/1023 [==============================] - 0s 444us/step - loss: 0.4097 - accuracy: 0.8368 - val_loss: 1.3191 - val_accuracy: 0.6219\n",
            "Epoch 149/200\n",
            "1023/1023 [==============================] - 0s 450us/step - loss: 0.4048 - accuracy: 0.8456 - val_loss: 1.3323 - val_accuracy: 0.6031\n",
            "Epoch 150/200\n",
            "1023/1023 [==============================] - 0s 450us/step - loss: 0.4049 - accuracy: 0.8407 - val_loss: 1.3420 - val_accuracy: 0.6062\n",
            "Epoch 151/200\n",
            "1023/1023 [==============================] - 0s 440us/step - loss: 0.4025 - accuracy: 0.8387 - val_loss: 1.3394 - val_accuracy: 0.6187\n",
            "Epoch 152/200\n",
            "1023/1023 [==============================] - 0s 452us/step - loss: 0.4040 - accuracy: 0.8514 - val_loss: 1.3326 - val_accuracy: 0.6031\n",
            "Epoch 153/200\n",
            "1023/1023 [==============================] - 0s 442us/step - loss: 0.3987 - accuracy: 0.8465 - val_loss: 1.3419 - val_accuracy: 0.6062\n",
            "Epoch 154/200\n",
            "1023/1023 [==============================] - 0s 457us/step - loss: 0.4005 - accuracy: 0.8426 - val_loss: 1.3374 - val_accuracy: 0.6156\n",
            "Epoch 155/200\n",
            "1023/1023 [==============================] - 0s 440us/step - loss: 0.3978 - accuracy: 0.8426 - val_loss: 1.3537 - val_accuracy: 0.6219\n",
            "Epoch 156/200\n",
            "1023/1023 [==============================] - 0s 469us/step - loss: 0.4024 - accuracy: 0.8338 - val_loss: 1.3750 - val_accuracy: 0.6000\n",
            "Epoch 157/200\n",
            "1023/1023 [==============================] - 0s 453us/step - loss: 0.3885 - accuracy: 0.8514 - val_loss: 1.3917 - val_accuracy: 0.5938\n",
            "Epoch 158/200\n",
            "1023/1023 [==============================] - 0s 450us/step - loss: 0.3976 - accuracy: 0.8416 - val_loss: 1.3687 - val_accuracy: 0.6062\n",
            "Epoch 159/200\n",
            "1023/1023 [==============================] - 0s 445us/step - loss: 0.3841 - accuracy: 0.8553 - val_loss: 1.4123 - val_accuracy: 0.5969\n",
            "Epoch 160/200\n",
            "1023/1023 [==============================] - 0s 449us/step - loss: 0.3871 - accuracy: 0.8524 - val_loss: 1.3729 - val_accuracy: 0.6187\n",
            "Epoch 161/200\n",
            "1023/1023 [==============================] - 0s 455us/step - loss: 0.3784 - accuracy: 0.8631 - val_loss: 1.4548 - val_accuracy: 0.6125\n",
            "Epoch 162/200\n",
            "1023/1023 [==============================] - 0s 442us/step - loss: 0.3835 - accuracy: 0.8436 - val_loss: 1.4140 - val_accuracy: 0.5781\n",
            "Epoch 163/200\n",
            "1023/1023 [==============================] - 0s 453us/step - loss: 0.3842 - accuracy: 0.8495 - val_loss: 1.4278 - val_accuracy: 0.6062\n",
            "Epoch 164/200\n",
            "1023/1023 [==============================] - 0s 448us/step - loss: 0.3719 - accuracy: 0.8583 - val_loss: 1.3704 - val_accuracy: 0.6250\n",
            "Epoch 165/200\n",
            "1023/1023 [==============================] - 0s 458us/step - loss: 0.3803 - accuracy: 0.8563 - val_loss: 1.3866 - val_accuracy: 0.6094\n",
            "Epoch 166/200\n",
            "1023/1023 [==============================] - 0s 465us/step - loss: 0.3720 - accuracy: 0.8534 - val_loss: 1.3721 - val_accuracy: 0.6156\n",
            "Epoch 167/200\n",
            "1023/1023 [==============================] - 0s 449us/step - loss: 0.3648 - accuracy: 0.8583 - val_loss: 1.4238 - val_accuracy: 0.5969\n",
            "Epoch 168/200\n",
            "1023/1023 [==============================] - 0s 439us/step - loss: 0.3694 - accuracy: 0.8524 - val_loss: 1.3927 - val_accuracy: 0.6219\n",
            "Epoch 169/200\n",
            "1023/1023 [==============================] - 0s 459us/step - loss: 0.3689 - accuracy: 0.8553 - val_loss: 1.4614 - val_accuracy: 0.5969\n",
            "Epoch 170/200\n",
            "1023/1023 [==============================] - 0s 446us/step - loss: 0.3846 - accuracy: 0.8485 - val_loss: 1.4439 - val_accuracy: 0.6156\n",
            "Epoch 171/200\n",
            "1023/1023 [==============================] - 0s 466us/step - loss: 0.3649 - accuracy: 0.8602 - val_loss: 1.4543 - val_accuracy: 0.6219\n",
            "Epoch 172/200\n",
            "1023/1023 [==============================] - 0s 445us/step - loss: 0.3603 - accuracy: 0.8602 - val_loss: 1.4620 - val_accuracy: 0.5969\n",
            "Epoch 173/200\n",
            "1023/1023 [==============================] - 0s 442us/step - loss: 0.3627 - accuracy: 0.8602 - val_loss: 1.5622 - val_accuracy: 0.5969\n",
            "Epoch 174/200\n",
            "1023/1023 [==============================] - 0s 459us/step - loss: 0.3664 - accuracy: 0.8612 - val_loss: 1.4635 - val_accuracy: 0.5906\n",
            "Epoch 175/200\n",
            "1023/1023 [==============================] - 0s 444us/step - loss: 0.3555 - accuracy: 0.8651 - val_loss: 1.5069 - val_accuracy: 0.5781\n",
            "Epoch 176/200\n",
            "1023/1023 [==============================] - 0s 460us/step - loss: 0.3689 - accuracy: 0.8729 - val_loss: 1.4939 - val_accuracy: 0.5906\n",
            "Epoch 177/200\n",
            "1023/1023 [==============================] - 0s 443us/step - loss: 0.3568 - accuracy: 0.8583 - val_loss: 1.4525 - val_accuracy: 0.5906\n",
            "Epoch 178/200\n",
            "1023/1023 [==============================] - 0s 454us/step - loss: 0.3457 - accuracy: 0.8729 - val_loss: 1.4605 - val_accuracy: 0.5906\n",
            "Epoch 179/200\n",
            "1023/1023 [==============================] - 0s 440us/step - loss: 0.3467 - accuracy: 0.8710 - val_loss: 1.4912 - val_accuracy: 0.5938\n",
            "Epoch 180/200\n",
            "1023/1023 [==============================] - 0s 460us/step - loss: 0.3567 - accuracy: 0.8602 - val_loss: 1.5281 - val_accuracy: 0.5750\n",
            "Epoch 181/200\n",
            "1023/1023 [==============================] - 0s 438us/step - loss: 0.3462 - accuracy: 0.8680 - val_loss: 1.5056 - val_accuracy: 0.5938\n",
            "Epoch 182/200\n",
            "1023/1023 [==============================] - 0s 452us/step - loss: 0.3414 - accuracy: 0.8788 - val_loss: 1.5475 - val_accuracy: 0.6094\n",
            "Epoch 183/200\n",
            "1023/1023 [==============================] - 0s 448us/step - loss: 0.3506 - accuracy: 0.8612 - val_loss: 1.4685 - val_accuracy: 0.6187\n",
            "Epoch 184/200\n",
            "1023/1023 [==============================] - 0s 443us/step - loss: 0.3436 - accuracy: 0.8631 - val_loss: 1.4908 - val_accuracy: 0.6031\n",
            "Epoch 185/200\n",
            "1023/1023 [==============================] - 0s 457us/step - loss: 0.3420 - accuracy: 0.8631 - val_loss: 1.5437 - val_accuracy: 0.6094\n",
            "Epoch 186/200\n",
            "1023/1023 [==============================] - 0s 444us/step - loss: 0.3325 - accuracy: 0.8778 - val_loss: 1.5080 - val_accuracy: 0.6031\n",
            "Epoch 187/200\n",
            "1023/1023 [==============================] - 0s 453us/step - loss: 0.3403 - accuracy: 0.8700 - val_loss: 1.5284 - val_accuracy: 0.5750\n",
            "Epoch 188/200\n",
            "1023/1023 [==============================] - 0s 459us/step - loss: 0.3399 - accuracy: 0.8680 - val_loss: 1.5183 - val_accuracy: 0.6094\n",
            "Epoch 189/200\n",
            "1023/1023 [==============================] - 0s 464us/step - loss: 0.3314 - accuracy: 0.8768 - val_loss: 1.5237 - val_accuracy: 0.6000\n",
            "Epoch 190/200\n",
            "1023/1023 [==============================] - 0s 440us/step - loss: 0.3320 - accuracy: 0.8778 - val_loss: 1.6225 - val_accuracy: 0.5906\n",
            "Epoch 191/200\n",
            "1023/1023 [==============================] - 0s 469us/step - loss: 0.3298 - accuracy: 0.8739 - val_loss: 1.5299 - val_accuracy: 0.6062\n",
            "Epoch 192/200\n",
            "1023/1023 [==============================] - 0s 444us/step - loss: 0.3246 - accuracy: 0.8788 - val_loss: 1.5723 - val_accuracy: 0.5906\n",
            "Epoch 193/200\n",
            "1023/1023 [==============================] - 0s 452us/step - loss: 0.3290 - accuracy: 0.8680 - val_loss: 1.5590 - val_accuracy: 0.6156\n",
            "Epoch 194/200\n",
            "1023/1023 [==============================] - 0s 440us/step - loss: 0.3234 - accuracy: 0.8866 - val_loss: 1.5779 - val_accuracy: 0.6094\n",
            "Epoch 195/200\n",
            "1023/1023 [==============================] - 0s 442us/step - loss: 0.3428 - accuracy: 0.8788 - val_loss: 1.5647 - val_accuracy: 0.5875\n",
            "Epoch 196/200\n",
            "1023/1023 [==============================] - 0s 463us/step - loss: 0.3392 - accuracy: 0.8729 - val_loss: 1.6258 - val_accuracy: 0.5906\n",
            "Epoch 197/200\n",
            "1023/1023 [==============================] - 0s 441us/step - loss: 0.3188 - accuracy: 0.8798 - val_loss: 1.5983 - val_accuracy: 0.6031\n",
            "Epoch 198/200\n",
            "1023/1023 [==============================] - 0s 457us/step - loss: 0.3214 - accuracy: 0.8798 - val_loss: 1.6210 - val_accuracy: 0.6375\n",
            "Epoch 199/200\n",
            "1023/1023 [==============================] - 0s 441us/step - loss: 0.3124 - accuracy: 0.8837 - val_loss: 1.6782 - val_accuracy: 0.5750\n",
            "Epoch 200/200\n",
            "1023/1023 [==============================] - 0s 463us/step - loss: 0.3208 - accuracy: 0.8778 - val_loss: 1.5998 - val_accuracy: 0.6000\n"
          ],
          "name": "stdout"
        }
      ]
    },
    {
      "cell_type": "code",
      "metadata": {
        "id": "SdHYzb6GN97j",
        "outputId": "3337af8a-66c3-40e9-f67e-b8c837531205",
        "colab": {
          "base_uri": "https://localhost:8080/",
          "height": 350
        }
      },
      "source": [
        "import matplotlib.pyplot as plt\n",
        "\n",
        "his_dict = history.history\n",
        "loss = his_dict['loss']\n",
        "val_loss = his_dict['val_loss'] # 검증 데이터가 있는 경우 ‘val_’ 수식어가 붙습니다.\n",
        "\n",
        "epochs = range(1, len(loss) + 1)\n",
        "fig = plt.figure(figsize = (10, 5))\n",
        "\n",
        "# 훈련 및 검증 손실 그리기\n",
        "ax1 = fig.add_subplot(1, 2, 1)\n",
        "ax1.plot(epochs, loss, color = 'blue', label = 'train_loss')\n",
        "ax1.plot(epochs, val_loss, color = 'orange', label = 'val_loss')\n",
        "ax1.set_title('train and val loss')\n",
        "ax1.set_xlabel('epochs')\n",
        "ax1.set_ylabel('loss')\n",
        "ax1.legend()\n",
        "\n",
        "acc = his_dict['accuracy']\n",
        "val_acc = his_dict['val_accuracy']\n",
        "\n",
        "# 훈련 및 검증 정확도 그리기\n",
        "ax2 = fig.add_subplot(1, 2, 2)\n",
        "ax2.plot(epochs, acc, color = 'blue', label = 'train_acc')\n",
        "ax2.plot(epochs, val_acc, color = 'orange', label = 'val_acc')\n",
        "ax2.set_title('train and val acc')\n",
        "ax2.set_xlabel('epochs')\n",
        "ax2.set_ylabel('acc')\n",
        "ax2.legend()\n",
        "\n",
        "plt.show()\n"
      ],
      "execution_count": null,
      "outputs": [
        {
          "output_type": "display_data",
          "data": {
            "image/png": "[encoded data removed]",
            "text/plain": [
              "<Figure size 720x360 with 2 Axes>"
            ]
          },
          "metadata": {
            "tags": [],
            "needs_background": "light"
          }
        }
      ]
    },
    {
      "cell_type": "code",
      "metadata": {
        "id": "0LYFWeszN_3i",
        "outputId": "b66c8f54-bc38-41b6-bd24-586eb3306035",
        "colab": {
          "base_uri": "https://localhost:8080/",
          "height": 52
        }
      },
      "source": [
        "scores = model.evaluate(X_test, y_test)\n",
        "print(\"%s: %.2f%%\" %(model.metrics_names[1], scores[1]*100))\n"
      ],
      "execution_count": null,
      "outputs": [
        {
          "output_type": "stream",
          "text": [
            "320/320 [==============================] - 0s 77us/step\n",
            "accuracy: 60.00%\n"
          ],
          "name": "stdout"
        }
      ]
    },
    {
      "cell_type": "code",
      "metadata": {
        "id": "uWvxFzUAfYhR"
      },
      "source": [
        ""
      ],
      "execution_count": null,
      "outputs": []
    }
  ]
}