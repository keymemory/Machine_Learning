{
  "nbformat": 4,
  "nbformat_minor": 0,
  "metadata": {
    "colab": {
      "name": "ML_day1_tensor.ipynb",
      "provenance": [],
      "collapsed_sections": [],
      "authorship_tag": "ABX9TyNOq9F3z9abF2aUxrXZz0+4",
      "include_colab_link": true
    },
    "kernelspec": {
      "name": "python3",
      "display_name": "Python 3"
    }
  },
  "cells": [
    {
      "cell_type": "markdown",
      "metadata": {
        "id": "view-in-github",
        "colab_type": "text"
      },
      "source": [
        "<a href=\"https://colab.research.google.com/github/keymemory/DYC_Machine_Learning/blob/main/ML_day1_tensor.ipynb\" target=\"_parent\"><img src=\"https://colab.research.google.com/assets/colab-badge.svg\" alt=\"Open In Colab\"/></a>"
      ]
    },
    {
      "cell_type": "markdown",
      "metadata": {
        "id": "Ya8eLcq1eO8q"
      },
      "source": [
        "텐서의 버전 확인"
      ]
    },
    {
      "cell_type": "code",
      "metadata": {
        "id": "Vn_9-5MtQd_9",
        "outputId": "3e3068ca-c80c-4b22-f38e-1d42b2d7c8fd",
        "colab": {
          "base_uri": "https://localhost:8080/",
          "height": 35
        }
      },
      "source": [
        "import tensorflow as tf\n",
        "import numpy as np\n",
        "\n",
        "tf.__version__"
      ],
      "execution_count": null,
      "outputs": [
        {
          "output_type": "execute_result",
          "data": {
            "application/vnd.google.colaboratory.intrinsic": {
              "type": "string"
            },
            "text/plain": [
              "'2.2.0'"
            ]
          },
          "metadata": {
            "tags": []
          },
          "execution_count": 4
        }
      ]
    },
    {
      "cell_type": "markdown",
      "metadata": {
        "id": "z1eo08upeJnN"
      },
      "source": [
        "테텐서의 차원과 기본 연산"
      ]
    },
    {
      "cell_type": "code",
      "metadata": {
        "id": "ezBAsjwBeTVS",
        "outputId": "994ba656-0f42-4fde-a23a-588653fa7e67",
        "colab": {
          "base_uri": "https://localhost:8080/",
          "height": 34
        }
      },
      "source": [
        "a = tf.constant(2) # 텐서를 선언\n",
        "print(tf.rank(a)) # 텐서의 랭크 계산"
      ],
      "execution_count": null,
      "outputs": [
        {
          "output_type": "stream",
          "text": [
            "tf.Tensor(0, shape=(), dtype=int32)\n"
          ],
          "name": "stdout"
        }
      ]
    },
    {
      "cell_type": "code",
      "metadata": {
        "id": "JpxiYwpQedUc",
        "outputId": "b351f3f3-904e-47b8-9b9b-7946b48ee88a",
        "colab": {
          "base_uri": "https://localhost:8080/",
          "height": 34
        }
      },
      "source": [
        "b = tf.constant([1,2],)\n",
        "print(tf.rank(b))"
      ],
      "execution_count": null,
      "outputs": [
        {
          "output_type": "stream",
          "text": [
            "tf.Tensor(1, shape=(), dtype=int32)\n"
          ],
          "name": "stdout"
        }
      ]
    },
    {
      "cell_type": "code",
      "metadata": {
        "id": "XTaarCE1ejZA",
        "outputId": "926380a9-fe7b-45db-9de5-b2c5d947dc30",
        "colab": {
          "base_uri": "https://localhost:8080/",
          "height": 34
        }
      },
      "source": [
        "c = tf.constant([[1,2],[3,4]])\n",
        "print(tf.rank(c))"
      ],
      "execution_count": null,
      "outputs": [
        {
          "output_type": "stream",
          "text": [
            "tf.Tensor(2, shape=(), dtype=int32)\n"
          ],
          "name": "stdout"
        }
      ]
    },
    {
      "cell_type": "code",
      "metadata": {
        "id": "UoCkuFbNepaA",
        "outputId": "9dc5864d-b30a-4e11-a7f0-db26193a85da",
        "colab": {
          "base_uri": "https://localhost:8080/",
          "height": 87
        }
      },
      "source": [
        "# 필요 모듈 임포트\n",
        "import tensorflow as tf\n",
        "import numpy as np\n",
        "\n",
        "a = tf.constant(3)\n",
        "b = tf.constant(2)\n",
        "\n",
        "# 기본연산\n",
        "# 텐서 형태로 출력해보기\n",
        "print(tf.add(a,b)) # 더하기\n",
        "print(tf.subtract(a,b)) #빼기\n",
        "\n",
        "# 넘파이 배열 형태로 출력\n",
        "print(tf.multiply(a,b).numpy()) # 곱하기\n",
        "print(tf.divide(a,b).numpy()) # 나누기"
      ],
      "execution_count": null,
      "outputs": [
        {
          "output_type": "stream",
          "text": [
            "tf.Tensor(5, shape=(), dtype=int32)\n",
            "tf.Tensor(1, shape=(), dtype=int32)\n",
            "6\n",
            "1.5\n"
          ],
          "name": "stdout"
        }
      ]
    },
    {
      "cell_type": "markdown",
      "metadata": {
        "id": "tMVCrfd7gtRh"
      },
      "source": [
        "텐서에서 넘파이로, 넘파이에서 텐서로"
      ]
    },
    {
      "cell_type": "code",
      "metadata": {
        "id": "RueTX5U1hEM8",
        "outputId": "5f7149e5-b07f-4f82-cbf4-64b15f834f4f",
        "colab": {
          "base_uri": "https://localhost:8080/",
          "height": 34
        }
      },
      "source": [
        "import tensorflow as tf\n",
        "import numpy as np\n",
        "\n",
        "c = tf.add(a,b).numpy() # a와 b를 더한 후 numpy 배열 형태로 변환\n",
        "c_square = np.square(c, dtype = np.float) # numpy 모듈에 존재하는 square g함수를 적용\n",
        "c_tensor = tf.convert_to_tensor(c_square) # 다시 텐서로 변환\n",
        "\n",
        "# 넘파이 배열과 텐서 각각을 확인하기 위해 출력\n",
        "print('numpy array : %0.lf, applying square with numpy : %0.lf, convert_to_tensor : %0.lf' %(c, c_square, c_tensor))"
      ],
      "execution_count": null,
      "outputs": [
        {
          "output_type": "stream",
          "text": [
            "numpy array : 5, applying square with numpy : 25, convert_to_tensor : 25\n"
          ],
          "name": "stdout"
        }
      ]
    }
  ]
}