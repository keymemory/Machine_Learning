{
  "nbformat": 4,
  "nbformat_minor": 0,
  "metadata": {
    "colab": {
      "name": "ML_day5_drop_the_overfitting_regularizer.ipynb",
      "provenance": [],
      "collapsed_sections": [],
      "authorship_tag": "ABX9TyNcnmozWs7RQOsLsukwpQly",
      "include_colab_link": true
    },
    "kernelspec": {
      "name": "python3",
      "display_name": "Python 3"
    }
  },
  "cells": [
    {
      "cell_type": "markdown",
      "metadata": {
        "id": "view-in-github",
        "colab_type": "text"
      },
      "source": [
        "<a href=\"https://colab.research.google.com/github/keymemory/DYC_Machine_Learning/blob/main/ML_day5_drop_the_overfitting_regularizer.ipynb\" target=\"_parent\"><img src=\"https://colab.research.google.com/assets/colab-badge.svg\" alt=\"Open In Colab\"/></a>"
      ]
    },
    {
      "cell_type": "markdown",
      "metadata": {
        "id": "-pQfdLuTCvTj"
      },
      "source": [
        "데이터 준비하기\n"
      ]
    },
    {
      "cell_type": "code",
      "metadata": {
        "id": "kg_y6TRmCY8o",
        "outputId": "99bc44ef-774c-4d48-e25a-ed3e340cde49",
        "colab": {
          "base_uri": "https://localhost:8080/",
          "height": 70
        }
      },
      "source": [
        "from tensorflow.keras.datasets import cifar10\n",
        "import numpy as np\n",
        "\n",
        "#데이터 다운로드\n",
        "(x_train, y_train), (x_test, y_test) = cifar10.load_data()\n",
        "\n",
        "# 평균과 표준편차는 채널별로 구해줍니다.\n",
        "x_mean = np.mean(x_train, axis = (0, 1, 2))\n",
        "x_std = np.std(x_train, axis = (0, 1, 2))\n",
        "\n",
        "x_train = (x_train - x_mean) / x_std\n",
        "x_test = (x_test - x_mean) / x_std\n",
        "\n",
        "\n",
        "#학습데이터 검증 데이터 나누기\n",
        "from sklearn.model_selection import train_test_split\n",
        "\n",
        "x_train, x_val, y_train, y_val = train_test_split(x_train, y_train, test_size = 0.3)\n",
        "print('data ready~')\n"
      ],
      "execution_count": null,
      "outputs": [
        {
          "output_type": "stream",
          "text": [
            "Downloading data from https://www.cs.toronto.edu/~kriz/cifar-10-python.tar.gz\n",
            "170500096/170498071 [==============================] - 11s 0us/step\n",
            "data ready~\n"
          ],
          "name": "stdout"
        }
      ]
    },
    {
      "cell_type": "markdown",
      "metadata": {
        "id": "xafiN7dhDXTp"
      },
      "source": [
        "규제화 함수 설정하기"
      ]
    },
    {
      "cell_type": "code",
      "metadata": {
        "id": "jCGopAFfC5Fj"
      },
      "source": [
        "from tensorflow.keras.models import Sequential\n",
        "from tensorflow.keras.layers import Conv2D, MaxPool2D, Dense, Flatten\n",
        "from tensorflow.keras.optimizers import Adam\n",
        "from tensorflow.keras.regularizers import l2\n",
        "model = Sequential()\n",
        "# 입력 데이터는 (32, 32, 3)의 형태를 가집니다.\n",
        "model.add(Conv2D(filters = 32, kernel_size = 3, padding = 'same', activation = 'relu', input_shape = (32, 32, 3)))\n",
        "model.add(Conv2D(filters = 32, kernel_size = 3, padding = 'same', activation = 'relu', kernel_regularizer = l2(0.001)))\n",
        "model.add(MaxPool2D(pool_size = (2, 2), strides = 2, padding = 'same'))\n",
        "model.add(Conv2D(filters = 64, kernel_size = 3, padding = 'same', activation = 'relu'))\n",
        "model.add(Conv2D(filters = 64, kernel_size = 3, padding = 'same', activation = 'relu', kernel_regularizer = l2(0.001)))\n",
        "model.add(MaxPool2D(pool_size = (2, 2), strides = 2, padding = 'same'))\n",
        "model.add(Conv2D(filters = 128, kernel_size = 3, padding = 'same', activation = 'relu'))\n",
        "model.add(Conv2D(filters = 128, kernel_size = 3, padding = 'same', activation = 'relu', kernel_regularizer = l2(0.001)))\n",
        "model.add(MaxPool2D(pool_size = (2, 2), strides = 2, padding = 'same'))\n",
        "model.add(Flatten())\n",
        "model.add(Dense(256, activation = 'relu', kernel_regularizer = l2(0.001)))\n",
        "model.add(Dense(10, activation = 'softmax'))\n"
      ],
      "execution_count": null,
      "outputs": []
    },
    {
      "cell_type": "markdown",
      "metadata": {
        "id": "Yl4JQth-DdRs"
      },
      "source": [
        "모델 설정"
      ]
    },
    {
      "cell_type": "code",
      "metadata": {
        "id": "YhvKvG9uDbvq"
      },
      "source": [
        "model.compile(optimizer = Adam(1e-4),\n",
        "             loss = 'sparse_categorical_crossentropy',\n",
        "             metrics = ['acc'])\n"
      ],
      "execution_count": null,
      "outputs": []
    },
    {
      "cell_type": "markdown",
      "metadata": {
        "id": "vQjT8-tmDgY7"
      },
      "source": [
        "모델 학습하기"
      ]
    },
    {
      "cell_type": "code",
      "metadata": {
        "id": "x2NLaxElDeZH",
        "outputId": "f784591c-936b-40b8-a554-c8396b183a41",
        "colab": {
          "base_uri": "https://localhost:8080/",
          "height": 1000
        }
      },
      "source": [
        "history = model.fit(x_train, y_train,\n",
        "                    epochs = 30,\n",
        "                    batch_size = 32,\n",
        "                    validation_data = (x_val, y_val))\n"
      ],
      "execution_count": null,
      "outputs": [
        {
          "output_type": "stream",
          "text": [
            "Epoch 1/30\n",
            "1094/1094 [==============================] - 17s 15ms/step - loss: 2.1149 - acc: 0.4041 - val_loss: 1.8236 - val_acc: 0.5039\n",
            "Epoch 2/30\n",
            "1094/1094 [==============================] - 16s 14ms/step - loss: 1.6599 - acc: 0.5479 - val_loss: 1.5607 - val_acc: 0.5799\n",
            "Epoch 3/30\n",
            "1094/1094 [==============================] - 16s 14ms/step - loss: 1.4605 - acc: 0.6139 - val_loss: 1.3984 - val_acc: 0.6338\n",
            "Epoch 4/30\n",
            "1094/1094 [==============================] - 16s 14ms/step - loss: 1.3116 - acc: 0.6625 - val_loss: 1.3259 - val_acc: 0.6544\n",
            "Epoch 5/30\n",
            "1094/1094 [==============================] - 16s 14ms/step - loss: 1.1939 - acc: 0.6969 - val_loss: 1.2600 - val_acc: 0.6771\n",
            "Epoch 6/30\n",
            "1094/1094 [==============================] - 16s 14ms/step - loss: 1.0980 - acc: 0.7292 - val_loss: 1.1813 - val_acc: 0.6942\n",
            "Epoch 7/30\n",
            "1094/1094 [==============================] - 16s 14ms/step - loss: 1.0126 - acc: 0.7557 - val_loss: 1.1294 - val_acc: 0.7181\n",
            "Epoch 8/30\n",
            "1094/1094 [==============================] - 16s 14ms/step - loss: 0.9359 - acc: 0.7802 - val_loss: 1.1060 - val_acc: 0.7231\n",
            "Epoch 9/30\n",
            "1094/1094 [==============================] - 16s 14ms/step - loss: 0.8674 - acc: 0.8027 - val_loss: 1.0888 - val_acc: 0.7295\n",
            "Epoch 10/30\n",
            "1094/1094 [==============================] - 16s 14ms/step - loss: 0.8031 - acc: 0.8261 - val_loss: 1.1152 - val_acc: 0.7219\n",
            "Epoch 11/30\n",
            "1094/1094 [==============================] - 16s 14ms/step - loss: 0.7332 - acc: 0.8453 - val_loss: 1.0688 - val_acc: 0.7357\n",
            "Epoch 12/30\n",
            "1094/1094 [==============================] - 16s 14ms/step - loss: 0.6751 - acc: 0.8644 - val_loss: 1.1302 - val_acc: 0.7248\n",
            "Epoch 13/30\n",
            "1094/1094 [==============================] - 16s 14ms/step - loss: 0.6213 - acc: 0.8845 - val_loss: 1.1472 - val_acc: 0.7326\n",
            "Epoch 14/30\n",
            "1094/1094 [==============================] - 16s 14ms/step - loss: 0.5664 - acc: 0.9015 - val_loss: 1.1593 - val_acc: 0.7381\n",
            "Epoch 15/30\n",
            "1094/1094 [==============================] - 16s 14ms/step - loss: 0.5147 - acc: 0.9205 - val_loss: 1.2371 - val_acc: 0.7315\n",
            "Epoch 16/30\n",
            "1094/1094 [==============================] - 16s 14ms/step - loss: 0.4799 - acc: 0.9312 - val_loss: 1.2831 - val_acc: 0.7274\n",
            "Epoch 17/30\n",
            "1094/1094 [==============================] - 16s 14ms/step - loss: 0.4385 - acc: 0.9472 - val_loss: 1.3441 - val_acc: 0.7289\n",
            "Epoch 18/30\n",
            "1094/1094 [==============================] - 16s 14ms/step - loss: 0.4122 - acc: 0.9547 - val_loss: 1.4088 - val_acc: 0.7254\n",
            "Epoch 19/30\n",
            "1094/1094 [==============================] - 16s 14ms/step - loss: 0.4022 - acc: 0.9570 - val_loss: 1.4678 - val_acc: 0.7209\n",
            "Epoch 20/30\n",
            "1094/1094 [==============================] - 16s 14ms/step - loss: 0.3757 - acc: 0.9676 - val_loss: 1.4705 - val_acc: 0.7282\n",
            "Epoch 21/30\n",
            "1094/1094 [==============================] - 16s 15ms/step - loss: 0.3684 - acc: 0.9678 - val_loss: 1.5006 - val_acc: 0.7281\n",
            "Epoch 22/30\n",
            "1094/1094 [==============================] - 15s 14ms/step - loss: 0.3578 - acc: 0.9702 - val_loss: 1.6097 - val_acc: 0.7151\n",
            "Epoch 23/30\n",
            "1094/1094 [==============================] - 16s 14ms/step - loss: 0.3472 - acc: 0.9733 - val_loss: 1.5894 - val_acc: 0.7224\n",
            "Epoch 24/30\n",
            "1094/1094 [==============================] - 15s 14ms/step - loss: 0.3398 - acc: 0.9745 - val_loss: 1.5621 - val_acc: 0.7320\n",
            "Epoch 25/30\n",
            "1094/1094 [==============================] - 15s 14ms/step - loss: 0.3321 - acc: 0.9757 - val_loss: 1.5951 - val_acc: 0.7261\n",
            "Epoch 26/30\n",
            "1094/1094 [==============================] - 15s 14ms/step - loss: 0.3228 - acc: 0.9789 - val_loss: 1.6103 - val_acc: 0.7275\n",
            "Epoch 27/30\n",
            "1094/1094 [==============================] - 15s 14ms/step - loss: 0.3234 - acc: 0.9763 - val_loss: 1.6565 - val_acc: 0.7217\n",
            "Epoch 28/30\n",
            "1094/1094 [==============================] - 15s 14ms/step - loss: 0.3092 - acc: 0.9813 - val_loss: 1.6291 - val_acc: 0.7221\n",
            "Epoch 29/30\n",
            "1094/1094 [==============================] - 16s 14ms/step - loss: 0.3077 - acc: 0.9796 - val_loss: 1.7476 - val_acc: 0.7183\n",
            "Epoch 30/30\n",
            "1094/1094 [==============================] - 16s 14ms/step - loss: 0.2947 - acc: 0.9841 - val_loss: 1.7086 - val_acc: 0.7316\n"
          ],
          "name": "stdout"
        }
      ]
    },
    {
      "cell_type": "markdown",
      "metadata": {
        "id": "s1XjdKQyGB4X"
      },
      "source": [
        "학습 과정 그려보기"
      ]
    },
    {
      "cell_type": "code",
      "metadata": {
        "id": "qw6RPV98FfXM",
        "outputId": "42de49f1-6302-493b-b846-afc10ac80d20",
        "colab": {
          "base_uri": "https://localhost:8080/",
          "height": 350
        }
      },
      "source": [
        "import matplotlib.pyplot as plt\n",
        "\n",
        "his_dict = history.history\n",
        "loss = his_dict['loss']\n",
        "val_loss = his_dict['val_loss'] \n",
        "\n",
        "epochs = range(1, len(loss) + 1)\n",
        "fig = plt.figure(figsize = (10, 5))\n",
        "\n",
        "# 훈련 및 검증 손실 그리기\n",
        "ax1 = fig.add_subplot(1, 2, 1)\n",
        "ax1.plot(epochs, loss, color = 'blue', label = 'train_loss')\n",
        "ax1.plot(epochs, val_loss, color = 'orange', label = 'val_loss')\n",
        "ax1.set_title('train and val loss')\n",
        "ax1.set_xlabel('epochs')\n",
        "ax1.set_ylabel('loss')\n",
        "ax1.legend()\n",
        "\n",
        "acc = his_dict['acc']\n",
        "val_acc = his_dict['val_acc']\n",
        "\n",
        "# 훈련 및 검증 정확도 그리기\n",
        "ax2 = fig.add_subplot(1, 2, 2)\n",
        "ax2.plot(epochs, acc, color = 'blue', label = 'train_acc')\n",
        "ax2.plot(epochs, val_acc, color = 'orange', label = 'val_acc')\n",
        "ax2.set_title('train and val acc')\n",
        "ax2.set_xlabel('epochs')\n",
        "ax2.set_ylabel('acc')\n",
        "ax2.legend()\n",
        "\n",
        "plt.show()\n"
      ],
      "execution_count": null,
      "outputs": [
        {
          "output_type": "display_data",
          "data": {
            "image/png": "[encoded data removed]",
            "text/plain": [
              "<Figure size 720x360 with 2 Axes>"
            ]
          },
          "metadata": {
            "tags": [],
            "needs_background": "light"
          }
        }
      ]
    },
    {
      "cell_type": "markdown",
      "metadata": {
        "id": "DjmB0AHiGpmj"
      },
      "source": [
        "모델 평가하기"
      ]
    },
    {
      "cell_type": "code",
      "metadata": {
        "id": "VSKvP5LbGDEU",
        "outputId": "e1f27cc7-b88e-4c16-c84a-e08253c45a3f",
        "colab": {
          "base_uri": "https://localhost:8080/",
          "height": 52
        }
      },
      "source": [
        "model.evaluate(x_test,y_test)\n"
      ],
      "execution_count": null,
      "outputs": [
        {
          "output_type": "stream",
          "text": [
            "313/313 [==============================] - 2s 7ms/step - loss: 1.8032 - acc: 0.7247\n"
          ],
          "name": "stdout"
        },
        {
          "output_type": "execute_result",
          "data": {
            "text/plain": [
              "[1.8032498359680176, 0.7246999740600586]"
            ]
          },
          "metadata": {
            "tags": []
          },
          "execution_count": 7
        }
      ]
    },
    {
      "cell_type": "code",
      "metadata": {
        "id": "iWHZb_YWGqqe"
      },
      "source": [
        ""
      ],
      "execution_count": null,
      "outputs": []
    }
  ]
}