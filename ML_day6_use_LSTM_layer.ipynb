{
  "nbformat": 4,
  "nbformat_minor": 0,
  "metadata": {
    "colab": {
      "name": "ML_day6_use_LSTM_layer.ipynb",
      "provenance": [],
      "collapsed_sections": [],
      "authorship_tag": "ABX9TyNdexhqcbdqO8A7I/5Pret7",
      "include_colab_link": true
    },
    "kernelspec": {
      "name": "python3",
      "display_name": "Python 3"
    },
    "accelerator": "GPU"
  },
  "cells": [
    {
      "cell_type": "markdown",
      "metadata": {
        "id": "view-in-github",
        "colab_type": "text"
      },
      "source": [
        "<a href=\"https://colab.research.google.com/github/keymemory/DYC_Machine_Learning/blob/main/ML_day6_use_LSTM_layer.ipynb\" target=\"_parent\"><img src=\"https://colab.research.google.com/assets/colab-badge.svg\" alt=\"Open In Colab\"/></a>"
      ]
    },
    {
      "cell_type": "markdown",
      "metadata": {
        "id": "9O8s37K0DoCI"
      },
      "source": [
        "IMDB 데이터셋으로 LSTM 학습시키기\n"
      ]
    },
    {
      "cell_type": "code",
      "metadata": {
        "id": "GJT59XtNDgG9",
        "outputId": "37449d0a-72c9-4646-f33a-223f9153fa95",
        "colab": {
          "base_uri": "https://localhost:8080/",
          "height": 105
        }
      },
      "source": [
        "from tensorflow.keras.datasets import imdb\n",
        "\n",
        "num_words = 10000\n",
        "(X_train, y_train), (X_test, y_test) = imdb.load_data(num_words=num_words)\n",
        "\n",
        "print(X_train.shape, y_train.shape)\n",
        "print(X_test.shape, y_test.shape)\n",
        "\n",
        "from tensorflow.keras.preprocessing.sequence import pad_sequences\n",
        "\n",
        "max_len = 350\n",
        "\n",
        "pad_X_train = pad_sequences(X_train, maxlen=max_len)\n",
        "pad_X_test = pad_sequences(X_test, maxlen=max_len)\n",
        "\n",
        "print(len(pad_X_train[0]))\n",
        "\n",
        "from tensorflow.keras.models import Sequential\n",
        "from tensorflow.keras.layers import LSTM, Dense, Embedding  \n",
        "\n",
        "model = Sequential()\n",
        "model.add(Embedding(input_dim = num_words, output_dim = 32))\n",
        "model.add(LSTM(64, return_sequences = True))\n",
        "model.add(LSTM(64, return_sequences = True))\n",
        "model.add(LSTM(32))\n",
        "model.add(Dense(1, activation = 'sigmoid'))\n",
        "\n",
        "model.compile(optimizer='adam',\n",
        "             loss = 'binary_crossentropy',\n",
        "             metrics = ['acc'])\n"
      ],
      "execution_count": null,
      "outputs": [
        {
          "output_type": "stream",
          "text": [
            "Downloading data from https://storage.googleapis.com/tensorflow/tf-keras-datasets/imdb.npz\n",
            "17465344/17464789 [==============================] - 0s 0us/step\n",
            "(25000,) (25000,)\n",
            "(25000,) (25000,)\n",
            "350\n"
          ],
          "name": "stdout"
        }
      ]
    },
    {
      "cell_type": "code",
      "metadata": {
        "id": "ivVpAilnD0ri",
        "outputId": "814058ea-dff9-4931-b784-b958bfd0b0e9",
        "colab": {
          "base_uri": "https://localhost:8080/",
          "height": 545
        }
      },
      "source": [
        "history = model.fit(pad_X_train, y_train, \n",
        "                    batch_size = 32, epochs = 15, \n",
        "                    validation_split = 0.2)"
      ],
      "execution_count": null,
      "outputs": [
        {
          "output_type": "stream",
          "text": [
            "Epoch 1/15\n",
            "625/625 [==============================] - 153s 245ms/step - loss: 0.4794 - acc: 0.7649 - val_loss: 0.4559 - val_acc: 0.8264\n",
            "Epoch 2/15\n",
            "625/625 [==============================] - 152s 243ms/step - loss: 0.2725 - acc: 0.8939 - val_loss: 0.3246 - val_acc: 0.8720\n",
            "Epoch 3/15\n",
            "625/625 [==============================] - 152s 244ms/step - loss: 0.2216 - acc: 0.9135 - val_loss: 0.3298 - val_acc: 0.8620\n",
            "Epoch 4/15\n",
            "625/625 [==============================] - 152s 243ms/step - loss: 0.1635 - acc: 0.9411 - val_loss: 0.3674 - val_acc: 0.8620\n",
            "Epoch 5/15\n",
            "625/625 [==============================] - 152s 243ms/step - loss: 0.1337 - acc: 0.9529 - val_loss: 0.4010 - val_acc: 0.8650\n",
            "Epoch 6/15\n",
            "625/625 [==============================] - 152s 243ms/step - loss: 0.1043 - acc: 0.9635 - val_loss: 0.3892 - val_acc: 0.8476\n",
            "Epoch 7/15\n",
            "625/625 [==============================] - 153s 244ms/step - loss: 0.0838 - acc: 0.9704 - val_loss: 0.4873 - val_acc: 0.8498\n",
            "Epoch 8/15\n",
            "625/625 [==============================] - 153s 245ms/step - loss: 0.0615 - acc: 0.9806 - val_loss: 0.5202 - val_acc: 0.8426\n",
            "Epoch 9/15\n",
            "625/625 [==============================] - 154s 246ms/step - loss: 0.0674 - acc: 0.9787 - val_loss: 0.5331 - val_acc: 0.8606\n",
            "Epoch 10/15\n",
            "625/625 [==============================] - 153s 245ms/step - loss: 0.0494 - acc: 0.9851 - val_loss: 0.5573 - val_acc: 0.8560\n",
            "Epoch 11/15\n",
            "625/625 [==============================] - 154s 246ms/step - loss: 0.0608 - acc: 0.9796 - val_loss: 0.6067 - val_acc: 0.8548\n",
            "Epoch 12/15\n",
            "625/625 [==============================] - 153s 245ms/step - loss: 0.0420 - acc: 0.9877 - val_loss: 0.5867 - val_acc: 0.8294\n",
            "Epoch 13/15\n",
            "625/625 [==============================] - 154s 246ms/step - loss: 0.0286 - acc: 0.9921 - val_loss: 0.7289 - val_acc: 0.8584\n",
            "Epoch 14/15\n",
            "625/625 [==============================] - 153s 246ms/step - loss: 0.0311 - acc: 0.9911 - val_loss: 0.6035 - val_acc: 0.8572\n",
            "Epoch 15/15\n",
            "625/625 [==============================] - 152s 244ms/step - loss: 0.0299 - acc: 0.9908 - val_loss: 0.6400 - val_acc: 0.8512\n"
          ],
          "name": "stdout"
        }
      ]
    },
    {
      "cell_type": "markdown",
      "metadata": {
        "id": "MuvKEwN4EfTc"
      },
      "source": [
        "학습 과정 그리기\n"
      ]
    },
    {
      "cell_type": "code",
      "metadata": {
        "id": "VJQPOu10EDcO",
        "outputId": "b17e431f-2600-4fbf-d083-5424f91c0bf7",
        "colab": {
          "base_uri": "https://localhost:8080/",
          "height": 350
        }
      },
      "source": [
        "import matplotlib.pyplot as plt\n",
        "\n",
        "his_dict = history.history\n",
        "loss = his_dict['loss']\n",
        "val_loss = his_dict['val_loss'] \n",
        "\n",
        "epochs = range(1, len(loss) + 1)\n",
        "fig = plt.figure(figsize = (10, 5))\n",
        "\n",
        "# 훈련 및 검증 손실 그리기\n",
        "ax1 = fig.add_subplot(1, 2, 1)\n",
        "ax1.plot(epochs, loss, color = 'blue', label = 'train_loss')\n",
        "ax1.plot(epochs, val_loss, color = 'orange', label = 'val_loss')\n",
        "ax1.set_title('train and val loss')\n",
        "ax1.set_xlabel('epochs')\n",
        "ax1.set_ylabel('loss')\n",
        "ax1.legend()\n",
        "\n",
        "acc = his_dict['acc']\n",
        "val_acc = his_dict['val_acc']\n",
        "\n",
        "# 훈련 및 검증 정확도 그리기\n",
        "ax2 = fig.add_subplot(1, 2, 2)\n",
        "ax2.plot(epochs, acc, color = 'blue', label = 'train_acc')\n",
        "ax2.plot(epochs, val_acc, color = 'orange', label = 'val_acc')\n",
        "ax2.set_title('train and val acc')\n",
        "ax2.set_xlabel('epochs')\n",
        "ax2.set_ylabel('acc')\n",
        "ax2.legend()\n",
        "\n",
        "plt.show()\n"
      ],
      "execution_count": null,
      "outputs": [
        {
          "output_type": "display_data",
          "data": {
            "image/png": "[encoded data removed]",
            "text/plain": [
              "<Figure size 720x360 with 2 Axes>"
            ]
          },
          "metadata": {
            "tags": [],
            "needs_background": "light"
          }
        }
      ]
    },
    {
      "cell_type": "code",
      "metadata": {
        "id": "OqVT_e0URo6h"
      },
      "source": [
        ""
      ],
      "execution_count": null,
      "outputs": []
    }
  ]
}