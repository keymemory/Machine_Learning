{
  "nbformat": 4,
  "nbformat_minor": 0,
  "metadata": {
    "colab": {
      "name": "ML_day5_image_generate.ipynb",
      "provenance": [],
      "collapsed_sections": [],
      "authorship_tag": "ABX9TyOMZMUdzXKP4YFSi6YV6oRN",
      "include_colab_link": true
    },
    "kernelspec": {
      "name": "python3",
      "display_name": "Python 3"
    }
  },
  "cells": [
    {
      "cell_type": "markdown",
      "metadata": {
        "id": "view-in-github",
        "colab_type": "text"
      },
      "source": [
        "<a href=\"https://colab.research.google.com/github/keymemory/DYC_Machine_Learning/blob/main/ML_day5_image_generate.ipynb\" target=\"_parent\"><img src=\"https://colab.research.google.com/assets/colab-badge.svg\" alt=\"Open In Colab\"/></a>"
      ]
    },
    {
      "cell_type": "markdown",
      "metadata": {
        "id": "WzR8EBOJYd8d"
      },
      "source": [
        "데이터 살펴보기"
      ]
    },
    {
      "cell_type": "code",
      "metadata": {
        "id": "AZbCntrUYYIJ",
        "outputId": "cfdfb32c-6eed-48bf-b2b9-65bd11c2b7fa",
        "colab": {
          "base_uri": "https://localhost:8080/",
          "height": 70
        }
      },
      "source": [
        "from tensorflow.keras.datasets import cifar10\n",
        "import numpy as np\n",
        "\n",
        "#데이터 다운로드\n",
        "(x_train, y_train), (x_test, y_test) = cifar10.load_data()\n",
        "\n",
        "# 평균과 표준편차는 채널별로 구해줍니다.\n",
        "x_mean = np.mean(x_train, axis = (0, 1, 2))\n",
        "x_std = np.std(x_train, axis = (0, 1, 2))\n",
        "\n",
        "x_train = (x_train - x_mean) / x_std\n",
        "x_test = (x_test - x_mean) / x_std\n",
        "\n",
        "\n",
        "#학습데이터 검증 데이터 나누기\n",
        "from sklearn.model_selection import train_test_split\n",
        "\n",
        "x_train, x_val, y_train, y_val = train_test_split(x_train, y_train, test_size = 0.3)\n",
        "print('data ready~')\n"
      ],
      "execution_count": null,
      "outputs": [
        {
          "output_type": "stream",
          "text": [
            "Downloading data from https://www.cs.toronto.edu/~kriz/cifar-10-python.tar.gz\n",
            "170500096/170498071 [==============================] - 6s 0us/step\n",
            "data ready~\n"
          ],
          "name": "stdout"
        }
      ]
    },
    {
      "cell_type": "markdown",
      "metadata": {
        "id": "LYWur2efY6Qo"
      },
      "source": [
        "배치 정규화"
      ]
    },
    {
      "cell_type": "code",
      "metadata": {
        "id": "XTnp-bqGYiRf"
      },
      "source": [
        "from tensorflow.keras.models import Sequential\n",
        "from tensorflow.keras.layers import Conv2D, MaxPool2D, Dense, Flatten, Activation, BatchNormalization\n",
        "from tensorflow.keras.optimizers import Adam\n",
        "\n",
        "model = Sequential()\n",
        "model.add(Conv2D(filters = 32, kernel_size = 3, padding = 'same', input_shape = (32, 32, 3)))\n",
        "model.add(BatchNormalization()) ##\n",
        "model.add(Activation('relu'))\n",
        "model.add(Conv2D(filters = 32, kernel_size = 3, padding = 'same'))\n",
        "model.add(BatchNormalization())\n",
        "model.add(Activation('relu'))\n",
        "model.add(MaxPool2D(pool_size = (2, 2), strides = 2, padding = 'same'))\n",
        "model.add(Conv2D(filters = 64, kernel_size = 3, padding = 'same'))\n",
        "model.add(BatchNormalization())\n",
        "model.add(Activation('relu'))\n",
        "model.add(Conv2D(filters = 64, kernel_size = 3, padding = 'same'))\n",
        "model.add(BatchNormalization())\n",
        "model.add(Activation('relu'))\n",
        "model.add(MaxPool2D(pool_size = (2, 2), strides = 2, padding = 'same'))\n",
        "model.add(Conv2D(filters = 128, kernel_size = 3, padding = 'same'))\n",
        "model.add(BatchNormalization())\n",
        "model.add(Activation('relu'))\n",
        "model.add(Conv2D(filters = 128, kernel_size = 3, padding = 'same'))\n",
        "model.add(BatchNormalization())\n",
        "model.add(Activation('relu'))\n",
        "model.add(MaxPool2D(pool_size = (2, 2), strides = 2, padding = 'same'))\n",
        "model.add(Flatten())\n",
        "model.add(Dense(256))\n",
        "model.add(BatchNormalization())\n",
        "model.add(Activation('relu'))\n",
        "model.add(Dense(10, activation = 'softmax'))\n"
      ],
      "execution_count": null,
      "outputs": []
    },
    {
      "cell_type": "markdown",
      "metadata": {
        "id": "IPwkYNYmYipT"
      },
      "source": [
        "학습 모델 설정하기"
      ]
    },
    {
      "cell_type": "code",
      "metadata": {
        "id": "uPq7jlIWYi7z"
      },
      "source": [
        "model.compile(optimizer = Adam(1e-4),\n",
        "             loss = 'sparse_categorical_crossentropy',\n",
        "             metrics = ['acc'])"
      ],
      "execution_count": null,
      "outputs": []
    },
    {
      "cell_type": "markdown",
      "metadata": {
        "id": "m9O125SYYjL8"
      },
      "source": [
        "이미지 제너레이터를 사용하여 모델 학습시키기\n"
      ]
    },
    {
      "cell_type": "code",
      "metadata": {
        "id": "Wl-HYllYYjcr"
      },
      "source": [
        "from tensorflow.keras.preprocessing.image import ImageDataGenerator\n",
        "\n",
        "train_datagen = ImageDataGenerator(horizontal_flip = True,\n",
        "                                   zoom_range = 0.2,\n",
        "                                   width_shift_range = 0.1,\n",
        "                                   height_shift_range = 0.1,\n",
        "                                   rotation_range = 30,\n",
        "                                   fill_mode = 'nearest'\n",
        "                                  )\n",
        "\n",
        "val_datagen = ImageDataGenerator()\n",
        "\n",
        "batch_size = 32\n",
        "\n",
        "train_generator = train_datagen.flow(x_train, y_train,\n",
        "                                    batch_size = batch_size)\n",
        "val_generator = val_datagen.flow(x_val, y_val,\n",
        "                                batch_size = batch_size)\n",
        "\n",
        "\n",
        "def get_step(train_len, batch_size):\n",
        "    if(train_len % batch_size > 0):\n",
        "        return train_len // batch_size + 1\n",
        "    else:\n",
        "        return train_len // batch_size\n"
      ],
      "execution_count": null,
      "outputs": []
    },
    {
      "cell_type": "markdown",
      "metadata": {
        "id": "oV7dBuZDZ-jk"
      },
      "source": [
        "학습시키기\n"
      ]
    },
    {
      "cell_type": "code",
      "metadata": {
        "id": "zOskqZS8Zt4l",
        "outputId": "1a170ae1-815c-43ec-b4e1-b0507707e94c",
        "colab": {
          "base_uri": "https://localhost:8080/",
          "height": 1000
        }
      },
      "source": [
        "history = model.fit(train_generator,\n",
        "                    epochs = 30,\n",
        "                    steps_per_epoch = get_step(len(x_train), batch_size),\n",
        "                    validation_data = val_generator,\n",
        "                    validation_steps = get_step(len(x_val), batch_size))\n"
      ],
      "execution_count": null,
      "outputs": [
        {
          "output_type": "stream",
          "text": [
            "Epoch 1/30\n",
            "1094/1094 [==============================] - 35s 32ms/step - loss: 1.6154 - acc: 0.1024 - val_loss: 1.4179 - val_acc: 0.0640\n",
            "Epoch 2/30\n",
            "1094/1094 [==============================] - 34s 31ms/step - loss: 1.3419 - acc: 0.0998 - val_loss: 1.3137 - val_acc: 0.0880\n",
            "Epoch 3/30\n",
            "1094/1094 [==============================] - 35s 32ms/step - loss: 1.2262 - acc: 0.1005 - val_loss: 1.0876 - val_acc: 0.0934\n",
            "Epoch 4/30\n",
            "1094/1094 [==============================] - 35s 32ms/step - loss: 1.1568 - acc: 0.1019 - val_loss: 1.0528 - val_acc: 0.0779\n",
            "Epoch 5/30\n",
            "1094/1094 [==============================] - 35s 32ms/step - loss: 1.0852 - acc: 0.1012 - val_loss: 1.1470 - val_acc: 0.1021\n",
            "Epoch 6/30\n",
            "1094/1094 [==============================] - 36s 33ms/step - loss: 1.0448 - acc: 0.0995 - val_loss: 1.2541 - val_acc: 0.1473\n",
            "Epoch 7/30\n",
            "1094/1094 [==============================] - 35s 32ms/step - loss: 1.0055 - acc: 0.1011 - val_loss: 0.9600 - val_acc: 0.0959\n",
            "Epoch 8/30\n",
            "1094/1094 [==============================] - 34s 31ms/step - loss: 0.9612 - acc: 0.1005 - val_loss: 1.1139 - val_acc: 0.0723\n",
            "Epoch 9/30\n",
            "1094/1094 [==============================] - 35s 32ms/step - loss: 0.9303 - acc: 0.1023 - val_loss: 0.9083 - val_acc: 0.1018\n",
            "Epoch 10/30\n",
            "1094/1094 [==============================] - 35s 32ms/step - loss: 0.8852 - acc: 0.1018 - val_loss: 0.9524 - val_acc: 0.0982\n",
            "Epoch 11/30\n",
            "1094/1094 [==============================] - 35s 32ms/step - loss: 0.8644 - acc: 0.1023 - val_loss: 0.8335 - val_acc: 0.0911\n",
            "Epoch 12/30\n",
            "1094/1094 [==============================] - 35s 32ms/step - loss: 0.8362 - acc: 0.1008 - val_loss: 0.7517 - val_acc: 0.0954\n",
            "Epoch 13/30\n",
            "1094/1094 [==============================] - 35s 32ms/step - loss: 0.8128 - acc: 0.1012 - val_loss: 0.8569 - val_acc: 0.1031\n",
            "Epoch 14/30\n",
            "1094/1094 [==============================] - 35s 32ms/step - loss: 0.7978 - acc: 0.1014 - val_loss: 0.7826 - val_acc: 0.0872\n",
            "Epoch 15/30\n",
            "1094/1094 [==============================] - 35s 32ms/step - loss: 0.7742 - acc: 0.1019 - val_loss: 0.8254 - val_acc: 0.0797\n",
            "Epoch 16/30\n",
            "1094/1094 [==============================] - 35s 32ms/step - loss: 0.7555 - acc: 0.1010 - val_loss: 0.6964 - val_acc: 0.0865\n",
            "Epoch 17/30\n",
            "1094/1094 [==============================] - 35s 32ms/step - loss: 0.7369 - acc: 0.1020 - val_loss: 0.7927 - val_acc: 0.0954\n",
            "Epoch 18/30\n",
            "1094/1094 [==============================] - 35s 32ms/step - loss: 0.7200 - acc: 0.1007 - val_loss: 0.7115 - val_acc: 0.0935\n",
            "Epoch 19/30\n",
            "1094/1094 [==============================] - 35s 32ms/step - loss: 0.7059 - acc: 0.1022 - val_loss: 0.6996 - val_acc: 0.0935\n",
            "Epoch 20/30\n",
            "1094/1094 [==============================] - 35s 32ms/step - loss: 0.6917 - acc: 0.1008 - val_loss: 0.6678 - val_acc: 0.0920\n",
            "Epoch 21/30\n",
            "1094/1094 [==============================] - 35s 32ms/step - loss: 0.6789 - acc: 0.1011 - val_loss: 0.6603 - val_acc: 0.1027\n",
            "Epoch 22/30\n",
            "1094/1094 [==============================] - 35s 32ms/step - loss: 0.6668 - acc: 0.1042 - val_loss: 0.7313 - val_acc: 0.0784\n",
            "Epoch 23/30\n",
            "1094/1094 [==============================] - 35s 32ms/step - loss: 0.6529 - acc: 0.1017 - val_loss: 0.6233 - val_acc: 0.0972\n",
            "Epoch 24/30\n",
            "1094/1094 [==============================] - 35s 32ms/step - loss: 0.6408 - acc: 0.1020 - val_loss: 0.7153 - val_acc: 0.0929\n",
            "Epoch 25/30\n",
            "1094/1094 [==============================] - 35s 32ms/step - loss: 0.6291 - acc: 0.1022 - val_loss: 0.6092 - val_acc: 0.1157\n",
            "Epoch 26/30\n",
            "1094/1094 [==============================] - 35s 32ms/step - loss: 0.6194 - acc: 0.1012 - val_loss: 0.7165 - val_acc: 0.1205\n",
            "Epoch 27/30\n",
            "1094/1094 [==============================] - 36s 32ms/step - loss: 0.6062 - acc: 0.1009 - val_loss: 0.6207 - val_acc: 0.0930\n",
            "Epoch 28/30\n",
            "1094/1094 [==============================] - 35s 32ms/step - loss: 0.5999 - acc: 0.1015 - val_loss: 0.6534 - val_acc: 0.1110\n",
            "Epoch 29/30\n",
            "1094/1094 [==============================] - 35s 32ms/step - loss: 0.5859 - acc: 0.1014 - val_loss: 0.6074 - val_acc: 0.0936\n",
            "Epoch 30/30\n",
            "1094/1094 [==============================] - 35s 32ms/step - loss: 0.5807 - acc: 0.1019 - val_loss: 0.6656 - val_acc: 0.0921\n"
          ],
          "name": "stdout"
        }
      ]
    },
    {
      "cell_type": "code",
      "metadata": {
        "id": "PAcS2yFxZ_4K",
        "outputId": "565433c8-70ff-4384-d740-a641663967d8",
        "colab": {
          "base_uri": "https://localhost:8080/",
          "height": 350
        }
      },
      "source": [
        "import matplotlib.pyplot as plt\n",
        "\n",
        "his_dict = history.history\n",
        "loss = his_dict['loss']\n",
        "val_loss = his_dict['val_loss'] \n",
        "\n",
        "epochs = range(1, len(loss) + 1)\n",
        "fig = plt.figure(figsize = (10, 5))\n",
        "\n",
        "# 훈련 및 검증 손실 그리기\n",
        "ax1 = fig.add_subplot(1, 2, 1)\n",
        "ax1.plot(epochs, loss, color = 'blue', label = 'train_loss')\n",
        "ax1.plot(epochs, val_loss, color = 'orange', label = 'val_loss')\n",
        "ax1.set_title('train and val loss')\n",
        "ax1.set_xlabel('epochs')\n",
        "ax1.set_ylabel('loss')\n",
        "ax1.legend()\n",
        "\n",
        "acc = his_dict['acc']\n",
        "val_acc = his_dict['val_acc']\n",
        "\n",
        "# 훈련 및 검증 정확도 그리기\n",
        "ax2 = fig.add_subplot(1, 2, 2)\n",
        "ax2.plot(epochs, acc, color = 'blue', label = 'train_acc')\n",
        "ax2.plot(epochs, val_acc, color = 'orange', label = 'val_acc')\n",
        "ax2.set_title('train and val acc')\n",
        "ax2.set_xlabel('epochs')\n",
        "ax2.set_ylabel('acc')\n",
        "ax2.legend()\n",
        "\n",
        "plt.show()\n"
      ],
      "execution_count": null,
      "outputs": [
        {
          "output_type": "display_data",
          "data": {
            "image/png": "[encoded data removed]",
            "text/plain": [
              "<Figure size 720x360 with 2 Axes>"
            ]
          },
          "metadata": {
            "tags": [],
            "needs_background": "light"
          }
        }
      ]
    },
    {
      "cell_type": "code",
      "metadata": {
        "id": "UVvm_fy6ajQM",
        "outputId": "a003edd3-0c50-44e7-9560-f487b6c1dced",
        "colab": {
          "base_uri": "https://localhost:8080/",
          "height": 52
        }
      },
      "source": [
        "model.evaluate(x_test,y_test)\n"
      ],
      "execution_count": null,
      "outputs": [
        {
          "output_type": "stream",
          "text": [
            "313/313 [==============================] - 2s 7ms/step - loss: 0.6678 - acc: 0.0937\n"
          ],
          "name": "stdout"
        },
        {
          "output_type": "execute_result",
          "data": {
            "text/plain": [
              "[0.6677515506744385, 0.09369999915361404]"
            ]
          },
          "metadata": {
            "tags": []
          },
          "execution_count": 10
        }
      ]
    },
    {
      "cell_type": "code",
      "metadata": {
        "id": "p2BTm-sUeMqT"
      },
      "source": [
        ""
      ],
      "execution_count": null,
      "outputs": []
    }
  ]
}